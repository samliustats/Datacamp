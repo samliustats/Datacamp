{
 "cells": [
  {
   "cell_type": "markdown",
   "metadata": {},
   "source": [
    "# Parking violations in New York City-2\n"
   ]
  },
  {
   "cell_type": "code",
   "execution_count": 1,
   "metadata": {
    "collapsed": true
   },
   "outputs": [],
   "source": [
    "import matplotlib.pyplot as plt\n",
    "import pandas as pd\n",
    "import numpy as np\n",
    "from datetime import datetime, date, time\n",
    "import datetime\n",
    "from IPython.display import Image\n",
    "from sqlalchemy import create_engine\n",
    "import sqlite3\n",
    "import csv\n",
    "import time\n",
    "import matplotlib.patches as mpatches"
   ]
  },
  {
   "cell_type": "code",
   "execution_count": 2,
   "metadata": {
    "collapsed": true
   },
   "outputs": [],
   "source": [
    "%matplotlib inline"
   ]
  },
  {
   "cell_type": "markdown",
   "metadata": {},
   "source": [
    "# Parking tickets in New York City\n",
    "\n",
    "About this Dataset\n",
    "\n",
    "Updated                 December 21, 2017\n",
    "Data Last Updated       August 9, 2017\n",
    "Metadata Last Updated   December 21, 2017\n",
    "Date Created            August 3, 2017\n",
    "\n",
    "Data Provided by        Department of Finance (DOF)\n",
    "Dataset Owner           NYC OpenData\n",
    "    \n",
    "Rows       10.8M\n",
    "Columns    43\n",
    "\n",
    "Columns in this Dataset        \n",
    "Column Name\t                 Type\n",
    "Summons Number\t             Number\n",
    "Plate ID\t                 Plain Text\n",
    "Registration State\t         Plain Text\n",
    "Plate Type\t                 Plain Text\n",
    "Issue Date\t                 Date & Time\n",
    "Violation Code\t             Number\n",
    "............................\t\n",
    "Street Name\t                 Plain Text\n",
    "Intersecting Street\t         Plain Text\n",
    "............................\n",
    "Hydrant Violation\t         Plain Text\n",
    "Double Parking Violation\t Plain Text\n",
    "\n",
    "\n",
    "website for data:  https://data.cityofnewyork.us/City-Government/Parking-Violations-Issued-Fiscal-Year-2017/2bnn-yakx\n"
   ]
  },
  {
   "cell_type": "code",
   "execution_count": 3,
   "metadata": {
    "collapsed": true,
    "scrolled": true
   },
   "outputs": [],
   "source": [
    "file='E:\\\\DS18\\\\datacamp\\\\NYC\\\\ParkingViolations2017.csv'"
   ]
  },
  {
   "cell_type": "code",
   "execution_count": 4,
   "metadata": {},
   "outputs": [
    {
     "name": "stdout",
     "output_type": "stream",
     "text": [
      "   Summons Number Plate ID Registration State Plate Type  Issue Date  \\\n",
      "0      5092469481  GZH7067                 NY        PAS  07/10/2016   \n",
      "1      5092451658  GZH7067                 NY        PAS  07/08/2016   \n",
      "2      4006265037  FZX9232                 NY        PAS  08/23/2016   \n",
      "3      8478629828  66623ME                 NY        COM  06/14/2017   \n",
      "4      7868300310  37033JV                 NY        COM  11/21/2016   \n",
      "\n",
      "   Violation Code Vehicle Body Type Vehicle Make Issuing Agency  Street Code1  \\\n",
      "0               7              SUBN        TOYOT              V             0   \n",
      "1               7              SUBN        TOYOT              V             0   \n",
      "2               5              SUBN         FORD              V             0   \n",
      "3              47              REFG        MITSU              T         10610   \n",
      "4              69              DELV        INTER              T         10510   \n",
      "\n",
      "            ...             Vehicle Color  Unregistered Vehicle?  \\\n",
      "0           ...                        GY                    NaN   \n",
      "1           ...                        GY                    NaN   \n",
      "2           ...                        BK                    NaN   \n",
      "3           ...                        WH                    NaN   \n",
      "4           ...                     WHITE                    NaN   \n",
      "\n",
      "   Vehicle Year  Meter Number  Feet From Curb  Violation Post Code  \\\n",
      "0          2001           NaN               0                  NaN   \n",
      "1          2001           NaN               0                  NaN   \n",
      "2          2004           NaN               0                  NaN   \n",
      "3          2007           NaN               0                   04   \n",
      "4          2007           NaN               0                 31 6   \n",
      "\n",
      "           Violation Description No Standing or Stopping Violation  \\\n",
      "0   FAILURE TO STOP AT RED LIGHT                               NaN   \n",
      "1   FAILURE TO STOP AT RED LIGHT                               NaN   \n",
      "2             BUS LANE VIOLATION                               NaN   \n",
      "3          47-Double PKG-Midtown                               NaN   \n",
      "4  69-Failure to Disp Muni Recpt                               NaN   \n",
      "\n",
      "  Hydrant Violation Double Parking Violation  \n",
      "0               NaN                      NaN  \n",
      "1               NaN                      NaN  \n",
      "2               NaN                      NaN  \n",
      "3               NaN                      NaN  \n",
      "4               NaN                      NaN  \n",
      "\n",
      "[5 rows x 43 columns]\n"
     ]
    }
   ],
   "source": [
    "print(pd.read_csv(file, nrows=5))"
   ]
  },
  {
   "cell_type": "code",
   "execution_count": 5,
   "metadata": {
    "collapsed": true
   },
   "outputs": [],
   "source": [
    "connex = sqlite3.connect(\"Parking2017-1.db\")  # Opens file if exists, else creates file\n",
    "cur = connex.cursor()  # This object lets us actually send messages to our DB and receive results"
   ]
  },
  {
   "cell_type": "code",
   "execution_count": 6,
   "metadata": {
    "scrolled": true
   },
   "outputs": [
    {
     "name": "stdout",
     "output_type": "stream",
     "text": [
      "   SummonsNumber RegistrationState   IssueDate ViolationTime  \\\n",
      "0     5092469481                NY  07/10/2016         0143A   \n",
      "1     5092451658                NY  07/08/2016         0400P   \n",
      "2     4006265037                NY  08/23/2016         0233P   \n",
      "3     8478629828                NY  06/14/2017         1120A   \n",
      "4     7868300310                NY  11/21/2016         0555P   \n",
      "5     5096917368                NY  06/13/2017         0852P   \n",
      "6     1413609545                NJ  08/03/2016         0215A   \n",
      "7     4628525523                MA  12/21/2016         0758A   \n",
      "8     4627113330                NY  11/21/2016         1005A   \n",
      "9     4006478550                VA  10/05/2016         0845A   \n",
      "\n",
      "             StreetName  \n",
      "0  ALLERTON AVE (W/B) @  \n",
      "1  ALLERTON AVE (W/B) @  \n",
      "2  SB WEBSTER AVE @ E 1  \n",
      "3               7th Ave  \n",
      "4               6th Ave  \n",
      "5   NORTHERN BLVD (E/B)  \n",
      "6              KINGSTON  \n",
      "7  EB E GUN HILL RD @ B  \n",
      "8  NB BAISLEY BLVD @ 15  \n",
      "9  SB WEBSTER AVE @ E 2  \n",
      "<class 'pandas.core.frame.DataFrame'>\n",
      "RangeIndex: 10803028 entries, 0 to 10803027\n",
      "Data columns (total 5 columns):\n",
      "SummonsNumber        int64\n",
      "RegistrationState    object\n",
      "IssueDate            object\n",
      "ViolationTime        object\n",
      "StreetName           object\n",
      "dtypes: int64(1), object(4)\n",
      "memory usage: 412.1+ MB\n",
      "None\n",
      "68.56212043762207\n"
     ]
    }
   ],
   "source": [
    "start = time.time()\n",
    "sql = \"SELECT SummonsNumber,RegistrationState,IssueDate, ViolationTime, StreetName FROM 'table' ;\"\n",
    "df = pd.read_sql_query(sql, connex)\n",
    "\n",
    "print(df.head(10))\n",
    "print(df.info())\n",
    "\n",
    "end = time.time()\n",
    "elapsed = end - start\n",
    "print(elapsed)"
   ]
  },
  {
   "cell_type": "code",
   "execution_count": 7,
   "metadata": {},
   "outputs": [
    {
     "name": "stdout",
     "output_type": "stream",
     "text": [
      "<class 'pandas.core.frame.DataFrame'>\n",
      "Int64Index: 10799018 entries, 0 to 10803027\n",
      "Data columns (total 5 columns):\n",
      "SummonsNumber        int64\n",
      "RegistrationState    object\n",
      "IssueDate            object\n",
      "ViolationTime        object\n",
      "StreetName           object\n",
      "dtypes: int64(1), object(4)\n",
      "memory usage: 494.3+ MB\n",
      "None\n"
     ]
    }
   ],
   "source": [
    "\n",
    "new=df[df['StreetName'].notnull()]\n",
    "new=new[new['ViolationTime'].notnull()]\n",
    "new=new[new['IssueDate'].notnull()]\n",
    "new=new[new['RegistrationState'].notnull()]\n",
    "new=new[new['SummonsNumber'].notnull()]\n",
    "print(new.info())"
   ]
  },
  {
   "cell_type": "code",
   "execution_count": 8,
   "metadata": {
    "scrolled": true
   },
   "outputs": [
    {
     "name": "stdout",
     "output_type": "stream",
     "text": [
      "NY 8478333\n",
      "NJ 925680\n",
      "PA 285318\n",
      "FL 144493\n",
      "CT 141041\n",
      "MA 85502\n",
      "IN 80732\n",
      "VA 72600\n",
      "MD 61778\n",
      "NC 55777\n"
     ]
    },
    {
     "data": {
      "image/png": "[encoded data removed]",
      "text/plain": [
       "<matplotlib.figure.Figure at 0x585bf98>"
      ]
     },
     "metadata": {},
     "output_type": "display_data"
    }
   ],
   "source": [
    "rank_st = new['RegistrationState'].value_counts()\n",
    "rank_st.sort_values(ascending=False)\n",
    "top10 = rank_st[:10]\n",
    "top10.plot(kind=\"bar\", title=\"10 states with most violations in 2017\",rot=-60)\n",
    "\n",
    "top10_list = top10.index\n",
    "for idx in top10_list:\n",
    "    print(str(idx),top10[idx])\n"
   ]
  },
  {
   "cell_type": "markdown",
   "metadata": {
    "collapsed": true,
    "scrolled": true
   },
   "source": [
    "From the figure above, it is shown that most tickets issued are cars from local New York. The second most is from New Jersey which is 3 times more than the third state-Pennsylvania. This is very insightful for police in New York City to take measures to reduce the traffic inflow from New Jersey such as imposing higher fees for toll roads leading to New York City.  "
   ]
  },
  {
   "cell_type": "code",
   "execution_count": 31,
   "metadata": {},
   "outputs": [
    {
     "data": {
      "text/plain": [
       "<matplotlib.legend.Legend at 0xbf3db70>"
      ]
     },
     "execution_count": 31,
     "metadata": {},
     "output_type": "execute_result"
    },
    {
     "data": {
      "image/png": "[encoded data removed]",
      "text/plain": [
       "<matplotlib.figure.Figure at 0xff08400>"
      ]
     },
     "metadata": {},
     "output_type": "display_data"
    }
   ],
   "source": [
    "import matplotlib.patches as mpatches\n",
    "\n",
    "new['month'] = pd.to_datetime(new['IssueDate'],format='%m/%d/%Y').dt.month\n",
    "top1=new.loc[new['RegistrationState']=='NY']\n",
    "#print(new.head())\n",
    "labels=['Jan','Feb','Mar','Apr','May','Jun','Jul','Aug','Sep','Oct','Nov','Dec'] \n",
    "num_NY=top1.groupby(['month'])['month'].count()\n",
    "\n",
    "top_other=new.loc[new['RegistrationState']!='NY']\n",
    "num_other=top_other.groupby(['month'])['month'].count()\n",
    "\n",
    "plt.bar(num_NY.index , num_NY, color = 'b', width = 0.5) # plotting the graph\n",
    "plt.bar(num_other.index , num_other, color = 'r', width = 0.5) # plotting the graph\n",
    "plt.xticks(num_NY.index, labels, rotation=45) #providing xticks to the graph\n",
    "\n",
    "blue_patch=mpatches.Patch(color='b',label='New York') \n",
    "red_patch=mpatches.Patch(color='r',label='Other places')\n",
    "plt.legend(handles=[blue_patch,red_patch]) #providing the labels\n",
    "\n"
   ]
  },
  {
   "cell_type": "markdown",
   "metadata": {
    "collapsed": true
   },
   "source": [
    "Above figure indicates that tickets for 12 months have similar pattern for New York city as the other places, i.e., June is the highest month and July is least month. For each month, tickets for New York city drivers are more than those for other cities combined. "
   ]
  }
 ],
 "metadata": {
  "kernelspec": {
   "display_name": "Python 3",
   "language": "python",
   "name": "python3"
  },
  "language_info": {
   "codemirror_mode": {
    "name": "ipython",
    "version": 3
   },
   "file_extension": ".py",
   "mimetype": "text/x-python",
   "name": "python",
   "nbconvert_exporter": "python",
   "pygments_lexer": "ipython3",
   "version": "3.6.3"
  }
 },
 "nbformat": 4,
 "nbformat_minor": 2
}
