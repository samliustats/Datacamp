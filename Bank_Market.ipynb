{
 "cells": [
  {
   "cell_type": "code",
   "execution_count": 1,
   "metadata": {},
   "outputs": [],
   "source": [
    "#import all necessary packages\n",
    "import numpy as np\n",
    "import pandas as pd\n",
    "from pandas import Series, DataFrame\n",
    "import matplotlib as mpl\n",
    "import matplotlib.pyplot as plt\n",
    "import seaborn as sns \n",
    "from pylab import plot, show\n",
    "import seaborn as sns\n",
    "import scipy.stats as stats\n",
    "\n",
    "%matplotlib inline"
   ]
  },
  {
   "cell_type": "code",
   "execution_count": 2,
   "metadata": {},
   "outputs": [],
   "source": [
    "#Reading the csv files\n",
    "train=pd.read_csv('./bank/bank-additional/bank-additional-full.csv',sep=';')\n",
    "test=pd.read_csv('./bank/bank-additional/bank-additional.csv',sep=';')"
   ]
  },
  {
   "cell_type": "code",
   "execution_count": 3,
   "metadata": {},
   "outputs": [
    {
     "data": {
      "text/html": [
       "<div>\n",
       "<style scoped>\n",
       "    .dataframe tbody tr th:only-of-type {\n",
       "        vertical-align: middle;\n",
       "    }\n",
       "\n",
       "    .dataframe tbody tr th {\n",
       "        vertical-align: top;\n",
       "    }\n",
       "\n",
       "    .dataframe thead th {\n",
       "        text-align: right;\n",
       "    }\n",
       "</style>\n",
       "<table border=\"1\" class=\"dataframe\">\n",
       "  <thead>\n",
       "    <tr style=\"text-align: right;\">\n",
       "      <th></th>\n",
       "      <th>age</th>\n",
       "      <th>job</th>\n",
       "      <th>marital</th>\n",
       "      <th>education</th>\n",
       "      <th>default</th>\n",
       "      <th>housing</th>\n",
       "      <th>loan</th>\n",
       "      <th>contact</th>\n",
       "      <th>month</th>\n",
       "      <th>day_of_week</th>\n",
       "      <th>...</th>\n",
       "      <th>campaign</th>\n",
       "      <th>pdays</th>\n",
       "      <th>previous</th>\n",
       "      <th>poutcome</th>\n",
       "      <th>emp.var.rate</th>\n",
       "      <th>cons.price.idx</th>\n",
       "      <th>cons.conf.idx</th>\n",
       "      <th>euribor3m</th>\n",
       "      <th>nr.employed</th>\n",
       "      <th>y</th>\n",
       "    </tr>\n",
       "  </thead>\n",
       "  <tbody>\n",
       "    <tr>\n",
       "      <th>29</th>\n",
       "      <td>55</td>\n",
       "      <td>unknown</td>\n",
       "      <td>married</td>\n",
       "      <td>university.degree</td>\n",
       "      <td>unknown</td>\n",
       "      <td>unknown</td>\n",
       "      <td>unknown</td>\n",
       "      <td>telephone</td>\n",
       "      <td>may</td>\n",
       "      <td>mon</td>\n",
       "      <td>...</td>\n",
       "      <td>1</td>\n",
       "      <td>999</td>\n",
       "      <td>0</td>\n",
       "      <td>nonexistent</td>\n",
       "      <td>1.1</td>\n",
       "      <td>93.994</td>\n",
       "      <td>-36.4</td>\n",
       "      <td>4.857</td>\n",
       "      <td>5191.0</td>\n",
       "      <td>no</td>\n",
       "    </tr>\n",
       "    <tr>\n",
       "      <th>81</th>\n",
       "      <td>51</td>\n",
       "      <td>blue-collar</td>\n",
       "      <td>married</td>\n",
       "      <td>basic.4y</td>\n",
       "      <td>unknown</td>\n",
       "      <td>unknown</td>\n",
       "      <td>unknown</td>\n",
       "      <td>telephone</td>\n",
       "      <td>may</td>\n",
       "      <td>mon</td>\n",
       "      <td>...</td>\n",
       "      <td>1</td>\n",
       "      <td>999</td>\n",
       "      <td>0</td>\n",
       "      <td>nonexistent</td>\n",
       "      <td>1.1</td>\n",
       "      <td>93.994</td>\n",
       "      <td>-36.4</td>\n",
       "      <td>4.857</td>\n",
       "      <td>5191.0</td>\n",
       "      <td>no</td>\n",
       "    </tr>\n",
       "    <tr>\n",
       "      <th>261</th>\n",
       "      <td>27</td>\n",
       "      <td>blue-collar</td>\n",
       "      <td>single</td>\n",
       "      <td>basic.6y</td>\n",
       "      <td>no</td>\n",
       "      <td>unknown</td>\n",
       "      <td>unknown</td>\n",
       "      <td>telephone</td>\n",
       "      <td>may</td>\n",
       "      <td>mon</td>\n",
       "      <td>...</td>\n",
       "      <td>1</td>\n",
       "      <td>999</td>\n",
       "      <td>0</td>\n",
       "      <td>nonexistent</td>\n",
       "      <td>1.1</td>\n",
       "      <td>93.994</td>\n",
       "      <td>-36.4</td>\n",
       "      <td>4.857</td>\n",
       "      <td>5191.0</td>\n",
       "      <td>no</td>\n",
       "    </tr>\n",
       "    <tr>\n",
       "      <th>385</th>\n",
       "      <td>59</td>\n",
       "      <td>management</td>\n",
       "      <td>married</td>\n",
       "      <td>basic.4y</td>\n",
       "      <td>unknown</td>\n",
       "      <td>unknown</td>\n",
       "      <td>unknown</td>\n",
       "      <td>telephone</td>\n",
       "      <td>may</td>\n",
       "      <td>tue</td>\n",
       "      <td>...</td>\n",
       "      <td>1</td>\n",
       "      <td>999</td>\n",
       "      <td>0</td>\n",
       "      <td>nonexistent</td>\n",
       "      <td>1.1</td>\n",
       "      <td>93.994</td>\n",
       "      <td>-36.4</td>\n",
       "      <td>4.857</td>\n",
       "      <td>5191.0</td>\n",
       "      <td>no</td>\n",
       "    </tr>\n",
       "    <tr>\n",
       "      <th>401</th>\n",
       "      <td>48</td>\n",
       "      <td>services</td>\n",
       "      <td>married</td>\n",
       "      <td>high.school</td>\n",
       "      <td>unknown</td>\n",
       "      <td>unknown</td>\n",
       "      <td>unknown</td>\n",
       "      <td>telephone</td>\n",
       "      <td>may</td>\n",
       "      <td>tue</td>\n",
       "      <td>...</td>\n",
       "      <td>1</td>\n",
       "      <td>999</td>\n",
       "      <td>0</td>\n",
       "      <td>nonexistent</td>\n",
       "      <td>1.1</td>\n",
       "      <td>93.994</td>\n",
       "      <td>-36.4</td>\n",
       "      <td>4.857</td>\n",
       "      <td>5191.0</td>\n",
       "      <td>no</td>\n",
       "    </tr>\n",
       "    <tr>\n",
       "      <th>470</th>\n",
       "      <td>42</td>\n",
       "      <td>technician</td>\n",
       "      <td>single</td>\n",
       "      <td>professional.course</td>\n",
       "      <td>unknown</td>\n",
       "      <td>unknown</td>\n",
       "      <td>unknown</td>\n",
       "      <td>telephone</td>\n",
       "      <td>may</td>\n",
       "      <td>tue</td>\n",
       "      <td>...</td>\n",
       "      <td>1</td>\n",
       "      <td>999</td>\n",
       "      <td>0</td>\n",
       "      <td>nonexistent</td>\n",
       "      <td>1.1</td>\n",
       "      <td>93.994</td>\n",
       "      <td>-36.4</td>\n",
       "      <td>4.857</td>\n",
       "      <td>5191.0</td>\n",
       "      <td>no</td>\n",
       "    </tr>\n",
       "    <tr>\n",
       "      <th>485</th>\n",
       "      <td>36</td>\n",
       "      <td>admin.</td>\n",
       "      <td>married</td>\n",
       "      <td>university.degree</td>\n",
       "      <td>no</td>\n",
       "      <td>unknown</td>\n",
       "      <td>unknown</td>\n",
       "      <td>telephone</td>\n",
       "      <td>may</td>\n",
       "      <td>tue</td>\n",
       "      <td>...</td>\n",
       "      <td>2</td>\n",
       "      <td>999</td>\n",
       "      <td>0</td>\n",
       "      <td>nonexistent</td>\n",
       "      <td>1.1</td>\n",
       "      <td>93.994</td>\n",
       "      <td>-36.4</td>\n",
       "      <td>4.857</td>\n",
       "      <td>5191.0</td>\n",
       "      <td>no</td>\n",
       "    </tr>\n",
       "    <tr>\n",
       "      <th>494</th>\n",
       "      <td>32</td>\n",
       "      <td>admin.</td>\n",
       "      <td>single</td>\n",
       "      <td>university.degree</td>\n",
       "      <td>unknown</td>\n",
       "      <td>unknown</td>\n",
       "      <td>unknown</td>\n",
       "      <td>telephone</td>\n",
       "      <td>may</td>\n",
       "      <td>tue</td>\n",
       "      <td>...</td>\n",
       "      <td>1</td>\n",
       "      <td>999</td>\n",
       "      <td>0</td>\n",
       "      <td>nonexistent</td>\n",
       "      <td>1.1</td>\n",
       "      <td>93.994</td>\n",
       "      <td>-36.4</td>\n",
       "      <td>4.857</td>\n",
       "      <td>5191.0</td>\n",
       "      <td>no</td>\n",
       "    </tr>\n",
       "    <tr>\n",
       "      <th>495</th>\n",
       "      <td>31</td>\n",
       "      <td>services</td>\n",
       "      <td>married</td>\n",
       "      <td>high.school</td>\n",
       "      <td>unknown</td>\n",
       "      <td>unknown</td>\n",
       "      <td>unknown</td>\n",
       "      <td>telephone</td>\n",
       "      <td>may</td>\n",
       "      <td>tue</td>\n",
       "      <td>...</td>\n",
       "      <td>1</td>\n",
       "      <td>999</td>\n",
       "      <td>0</td>\n",
       "      <td>nonexistent</td>\n",
       "      <td>1.1</td>\n",
       "      <td>93.994</td>\n",
       "      <td>-36.4</td>\n",
       "      <td>4.857</td>\n",
       "      <td>5191.0</td>\n",
       "      <td>no</td>\n",
       "    </tr>\n",
       "    <tr>\n",
       "      <th>501</th>\n",
       "      <td>33</td>\n",
       "      <td>admin.</td>\n",
       "      <td>married</td>\n",
       "      <td>basic.9y</td>\n",
       "      <td>no</td>\n",
       "      <td>unknown</td>\n",
       "      <td>unknown</td>\n",
       "      <td>telephone</td>\n",
       "      <td>may</td>\n",
       "      <td>tue</td>\n",
       "      <td>...</td>\n",
       "      <td>1</td>\n",
       "      <td>999</td>\n",
       "      <td>0</td>\n",
       "      <td>nonexistent</td>\n",
       "      <td>1.1</td>\n",
       "      <td>93.994</td>\n",
       "      <td>-36.4</td>\n",
       "      <td>4.857</td>\n",
       "      <td>5191.0</td>\n",
       "      <td>no</td>\n",
       "    </tr>\n",
       "    <tr>\n",
       "      <th>520</th>\n",
       "      <td>40</td>\n",
       "      <td>management</td>\n",
       "      <td>married</td>\n",
       "      <td>basic.9y</td>\n",
       "      <td>unknown</td>\n",
       "      <td>unknown</td>\n",
       "      <td>unknown</td>\n",
       "      <td>telephone</td>\n",
       "      <td>may</td>\n",
       "      <td>tue</td>\n",
       "      <td>...</td>\n",
       "      <td>1</td>\n",
       "      <td>999</td>\n",
       "      <td>0</td>\n",
       "      <td>nonexistent</td>\n",
       "      <td>1.1</td>\n",
       "      <td>93.994</td>\n",
       "      <td>-36.4</td>\n",
       "      <td>4.857</td>\n",
       "      <td>5191.0</td>\n",
       "      <td>no</td>\n",
       "    </tr>\n",
       "    <tr>\n",
       "      <th>549</th>\n",
       "      <td>50</td>\n",
       "      <td>blue-collar</td>\n",
       "      <td>married</td>\n",
       "      <td>basic.4y</td>\n",
       "      <td>unknown</td>\n",
       "      <td>unknown</td>\n",
       "      <td>unknown</td>\n",
       "      <td>telephone</td>\n",
       "      <td>may</td>\n",
       "      <td>tue</td>\n",
       "      <td>...</td>\n",
       "      <td>1</td>\n",
       "      <td>999</td>\n",
       "      <td>0</td>\n",
       "      <td>nonexistent</td>\n",
       "      <td>1.1</td>\n",
       "      <td>93.994</td>\n",
       "      <td>-36.4</td>\n",
       "      <td>4.857</td>\n",
       "      <td>5191.0</td>\n",
       "      <td>no</td>\n",
       "    </tr>\n",
       "    <tr>\n",
       "      <th>564</th>\n",
       "      <td>35</td>\n",
       "      <td>admin.</td>\n",
       "      <td>divorced</td>\n",
       "      <td>university.degree</td>\n",
       "      <td>no</td>\n",
       "      <td>unknown</td>\n",
       "      <td>unknown</td>\n",
       "      <td>telephone</td>\n",
       "      <td>may</td>\n",
       "      <td>tue</td>\n",
       "      <td>...</td>\n",
       "      <td>1</td>\n",
       "      <td>999</td>\n",
       "      <td>0</td>\n",
       "      <td>nonexistent</td>\n",
       "      <td>1.1</td>\n",
       "      <td>93.994</td>\n",
       "      <td>-36.4</td>\n",
       "      <td>4.857</td>\n",
       "      <td>5191.0</td>\n",
       "      <td>no</td>\n",
       "    </tr>\n",
       "    <tr>\n",
       "      <th>569</th>\n",
       "      <td>43</td>\n",
       "      <td>unemployed</td>\n",
       "      <td>married</td>\n",
       "      <td>university.degree</td>\n",
       "      <td>unknown</td>\n",
       "      <td>unknown</td>\n",
       "      <td>unknown</td>\n",
       "      <td>telephone</td>\n",
       "      <td>may</td>\n",
       "      <td>tue</td>\n",
       "      <td>...</td>\n",
       "      <td>2</td>\n",
       "      <td>999</td>\n",
       "      <td>0</td>\n",
       "      <td>nonexistent</td>\n",
       "      <td>1.1</td>\n",
       "      <td>93.994</td>\n",
       "      <td>-36.4</td>\n",
       "      <td>4.857</td>\n",
       "      <td>5191.0</td>\n",
       "      <td>no</td>\n",
       "    </tr>\n",
       "    <tr>\n",
       "      <th>570</th>\n",
       "      <td>49</td>\n",
       "      <td>entrepreneur</td>\n",
       "      <td>married</td>\n",
       "      <td>professional.course</td>\n",
       "      <td>no</td>\n",
       "      <td>unknown</td>\n",
       "      <td>unknown</td>\n",
       "      <td>telephone</td>\n",
       "      <td>may</td>\n",
       "      <td>tue</td>\n",
       "      <td>...</td>\n",
       "      <td>2</td>\n",
       "      <td>999</td>\n",
       "      <td>0</td>\n",
       "      <td>nonexistent</td>\n",
       "      <td>1.1</td>\n",
       "      <td>93.994</td>\n",
       "      <td>-36.4</td>\n",
       "      <td>4.857</td>\n",
       "      <td>5191.0</td>\n",
       "      <td>no</td>\n",
       "    </tr>\n",
       "    <tr>\n",
       "      <th>571</th>\n",
       "      <td>36</td>\n",
       "      <td>technician</td>\n",
       "      <td>married</td>\n",
       "      <td>professional.course</td>\n",
       "      <td>no</td>\n",
       "      <td>unknown</td>\n",
       "      <td>unknown</td>\n",
       "      <td>telephone</td>\n",
       "      <td>may</td>\n",
       "      <td>tue</td>\n",
       "      <td>...</td>\n",
       "      <td>2</td>\n",
       "      <td>999</td>\n",
       "      <td>0</td>\n",
       "      <td>nonexistent</td>\n",
       "      <td>1.1</td>\n",
       "      <td>93.994</td>\n",
       "      <td>-36.4</td>\n",
       "      <td>4.857</td>\n",
       "      <td>5191.0</td>\n",
       "      <td>no</td>\n",
       "    </tr>\n",
       "    <tr>\n",
       "      <th>593</th>\n",
       "      <td>34</td>\n",
       "      <td>services</td>\n",
       "      <td>single</td>\n",
       "      <td>high.school</td>\n",
       "      <td>no</td>\n",
       "      <td>unknown</td>\n",
       "      <td>unknown</td>\n",
       "      <td>telephone</td>\n",
       "      <td>may</td>\n",
       "      <td>tue</td>\n",
       "      <td>...</td>\n",
       "      <td>2</td>\n",
       "      <td>999</td>\n",
       "      <td>0</td>\n",
       "      <td>nonexistent</td>\n",
       "      <td>1.1</td>\n",
       "      <td>93.994</td>\n",
       "      <td>-36.4</td>\n",
       "      <td>4.857</td>\n",
       "      <td>5191.0</td>\n",
       "      <td>no</td>\n",
       "    </tr>\n",
       "    <tr>\n",
       "      <th>640</th>\n",
       "      <td>49</td>\n",
       "      <td>housemaid</td>\n",
       "      <td>married</td>\n",
       "      <td>basic.4y</td>\n",
       "      <td>unknown</td>\n",
       "      <td>unknown</td>\n",
       "      <td>unknown</td>\n",
       "      <td>telephone</td>\n",
       "      <td>may</td>\n",
       "      <td>tue</td>\n",
       "      <td>...</td>\n",
       "      <td>2</td>\n",
       "      <td>999</td>\n",
       "      <td>0</td>\n",
       "      <td>nonexistent</td>\n",
       "      <td>1.1</td>\n",
       "      <td>93.994</td>\n",
       "      <td>-36.4</td>\n",
       "      <td>4.857</td>\n",
       "      <td>5191.0</td>\n",
       "      <td>no</td>\n",
       "    </tr>\n",
       "    <tr>\n",
       "      <th>663</th>\n",
       "      <td>35</td>\n",
       "      <td>admin.</td>\n",
       "      <td>married</td>\n",
       "      <td>university.degree</td>\n",
       "      <td>no</td>\n",
       "      <td>unknown</td>\n",
       "      <td>unknown</td>\n",
       "      <td>telephone</td>\n",
       "      <td>may</td>\n",
       "      <td>tue</td>\n",
       "      <td>...</td>\n",
       "      <td>3</td>\n",
       "      <td>999</td>\n",
       "      <td>0</td>\n",
       "      <td>nonexistent</td>\n",
       "      <td>1.1</td>\n",
       "      <td>93.994</td>\n",
       "      <td>-36.4</td>\n",
       "      <td>4.857</td>\n",
       "      <td>5191.0</td>\n",
       "      <td>no</td>\n",
       "    </tr>\n",
       "    <tr>\n",
       "      <th>768</th>\n",
       "      <td>38</td>\n",
       "      <td>technician</td>\n",
       "      <td>married</td>\n",
       "      <td>unknown</td>\n",
       "      <td>unknown</td>\n",
       "      <td>unknown</td>\n",
       "      <td>unknown</td>\n",
       "      <td>telephone</td>\n",
       "      <td>may</td>\n",
       "      <td>wed</td>\n",
       "      <td>...</td>\n",
       "      <td>2</td>\n",
       "      <td>999</td>\n",
       "      <td>0</td>\n",
       "      <td>nonexistent</td>\n",
       "      <td>1.1</td>\n",
       "      <td>93.994</td>\n",
       "      <td>-36.4</td>\n",
       "      <td>4.856</td>\n",
       "      <td>5191.0</td>\n",
       "      <td>no</td>\n",
       "    </tr>\n",
       "  </tbody>\n",
       "</table>\n",
       "<p>20 rows × 21 columns</p>\n",
       "</div>"
      ],
      "text/plain": [
       "     age           job   marital            education  default  housing  \\\n",
       "29    55       unknown   married    university.degree  unknown  unknown   \n",
       "81    51   blue-collar   married             basic.4y  unknown  unknown   \n",
       "261   27   blue-collar    single             basic.6y       no  unknown   \n",
       "385   59    management   married             basic.4y  unknown  unknown   \n",
       "401   48      services   married          high.school  unknown  unknown   \n",
       "470   42    technician    single  professional.course  unknown  unknown   \n",
       "485   36        admin.   married    university.degree       no  unknown   \n",
       "494   32        admin.    single    university.degree  unknown  unknown   \n",
       "495   31      services   married          high.school  unknown  unknown   \n",
       "501   33        admin.   married             basic.9y       no  unknown   \n",
       "520   40    management   married             basic.9y  unknown  unknown   \n",
       "549   50   blue-collar   married             basic.4y  unknown  unknown   \n",
       "564   35        admin.  divorced    university.degree       no  unknown   \n",
       "569   43    unemployed   married    university.degree  unknown  unknown   \n",
       "570   49  entrepreneur   married  professional.course       no  unknown   \n",
       "571   36    technician   married  professional.course       no  unknown   \n",
       "593   34      services    single          high.school       no  unknown   \n",
       "640   49     housemaid   married             basic.4y  unknown  unknown   \n",
       "663   35        admin.   married    university.degree       no  unknown   \n",
       "768   38    technician   married              unknown  unknown  unknown   \n",
       "\n",
       "        loan    contact month day_of_week ...  campaign  pdays  previous  \\\n",
       "29   unknown  telephone   may         mon ...         1    999         0   \n",
       "81   unknown  telephone   may         mon ...         1    999         0   \n",
       "261  unknown  telephone   may         mon ...         1    999         0   \n",
       "385  unknown  telephone   may         tue ...         1    999         0   \n",
       "401  unknown  telephone   may         tue ...         1    999         0   \n",
       "470  unknown  telephone   may         tue ...         1    999         0   \n",
       "485  unknown  telephone   may         tue ...         2    999         0   \n",
       "494  unknown  telephone   may         tue ...         1    999         0   \n",
       "495  unknown  telephone   may         tue ...         1    999         0   \n",
       "501  unknown  telephone   may         tue ...         1    999         0   \n",
       "520  unknown  telephone   may         tue ...         1    999         0   \n",
       "549  unknown  telephone   may         tue ...         1    999         0   \n",
       "564  unknown  telephone   may         tue ...         1    999         0   \n",
       "569  unknown  telephone   may         tue ...         2    999         0   \n",
       "570  unknown  telephone   may         tue ...         2    999         0   \n",
       "571  unknown  telephone   may         tue ...         2    999         0   \n",
       "593  unknown  telephone   may         tue ...         2    999         0   \n",
       "640  unknown  telephone   may         tue ...         2    999         0   \n",
       "663  unknown  telephone   may         tue ...         3    999         0   \n",
       "768  unknown  telephone   may         wed ...         2    999         0   \n",
       "\n",
       "        poutcome emp.var.rate  cons.price.idx  cons.conf.idx  euribor3m  \\\n",
       "29   nonexistent          1.1          93.994          -36.4      4.857   \n",
       "81   nonexistent          1.1          93.994          -36.4      4.857   \n",
       "261  nonexistent          1.1          93.994          -36.4      4.857   \n",
       "385  nonexistent          1.1          93.994          -36.4      4.857   \n",
       "401  nonexistent          1.1          93.994          -36.4      4.857   \n",
       "470  nonexistent          1.1          93.994          -36.4      4.857   \n",
       "485  nonexistent          1.1          93.994          -36.4      4.857   \n",
       "494  nonexistent          1.1          93.994          -36.4      4.857   \n",
       "495  nonexistent          1.1          93.994          -36.4      4.857   \n",
       "501  nonexistent          1.1          93.994          -36.4      4.857   \n",
       "520  nonexistent          1.1          93.994          -36.4      4.857   \n",
       "549  nonexistent          1.1          93.994          -36.4      4.857   \n",
       "564  nonexistent          1.1          93.994          -36.4      4.857   \n",
       "569  nonexistent          1.1          93.994          -36.4      4.857   \n",
       "570  nonexistent          1.1          93.994          -36.4      4.857   \n",
       "571  nonexistent          1.1          93.994          -36.4      4.857   \n",
       "593  nonexistent          1.1          93.994          -36.4      4.857   \n",
       "640  nonexistent          1.1          93.994          -36.4      4.857   \n",
       "663  nonexistent          1.1          93.994          -36.4      4.857   \n",
       "768  nonexistent          1.1          93.994          -36.4      4.856   \n",
       "\n",
       "     nr.employed   y  \n",
       "29        5191.0  no  \n",
       "81        5191.0  no  \n",
       "261       5191.0  no  \n",
       "385       5191.0  no  \n",
       "401       5191.0  no  \n",
       "470       5191.0  no  \n",
       "485       5191.0  no  \n",
       "494       5191.0  no  \n",
       "495       5191.0  no  \n",
       "501       5191.0  no  \n",
       "520       5191.0  no  \n",
       "549       5191.0  no  \n",
       "564       5191.0  no  \n",
       "569       5191.0  no  \n",
       "570       5191.0  no  \n",
       "571       5191.0  no  \n",
       "593       5191.0  no  \n",
       "640       5191.0  no  \n",
       "663       5191.0  no  \n",
       "768       5191.0  no  \n",
       "\n",
       "[20 rows x 21 columns]"
      ]
     },
     "execution_count": 3,
     "metadata": {},
     "output_type": "execute_result"
    }
   ],
   "source": [
    "train[train['housing']=='unknown'].head(20)                        "
   ]
  },
  {
   "cell_type": "code",
   "execution_count": 4,
   "metadata": {},
   "outputs": [
    {
     "name": "stdout",
     "output_type": "stream",
     "text": [
      "<class 'pandas.core.frame.DataFrame'>\n",
      "RangeIndex: 41188 entries, 0 to 41187\n",
      "Data columns (total 21 columns):\n",
      "age               41188 non-null int64\n",
      "job               41188 non-null object\n",
      "marital           41188 non-null object\n",
      "education         41188 non-null object\n",
      "default           41188 non-null object\n",
      "housing           41188 non-null object\n",
      "loan              41188 non-null object\n",
      "contact           41188 non-null object\n",
      "month             41188 non-null object\n",
      "day_of_week       41188 non-null object\n",
      "duration          41188 non-null int64\n",
      "campaign          41188 non-null int64\n",
      "pdays             41188 non-null int64\n",
      "previous          41188 non-null int64\n",
      "poutcome          41188 non-null object\n",
      "emp.var.rate      41188 non-null float64\n",
      "cons.price.idx    41188 non-null float64\n",
      "cons.conf.idx     41188 non-null float64\n",
      "euribor3m         41188 non-null float64\n",
      "nr.employed       41188 non-null float64\n",
      "y                 41188 non-null object\n",
      "dtypes: float64(5), int64(5), object(11)\n",
      "memory usage: 6.6+ MB\n"
     ]
    }
   ],
   "source": [
    "train.info()"
   ]
  },
  {
   "cell_type": "code",
   "execution_count": 5,
   "metadata": {},
   "outputs": [
    {
     "data": {
      "text/html": [
       "<div>\n",
       "<style scoped>\n",
       "    .dataframe tbody tr th:only-of-type {\n",
       "        vertical-align: middle;\n",
       "    }\n",
       "\n",
       "    .dataframe tbody tr th {\n",
       "        vertical-align: top;\n",
       "    }\n",
       "\n",
       "    .dataframe thead th {\n",
       "        text-align: right;\n",
       "    }\n",
       "</style>\n",
       "<table border=\"1\" class=\"dataframe\">\n",
       "  <thead>\n",
       "    <tr style=\"text-align: right;\">\n",
       "      <th></th>\n",
       "      <th>age</th>\n",
       "      <th>duration</th>\n",
       "      <th>campaign</th>\n",
       "      <th>pdays</th>\n",
       "      <th>previous</th>\n",
       "      <th>emp.var.rate</th>\n",
       "      <th>cons.price.idx</th>\n",
       "      <th>cons.conf.idx</th>\n",
       "      <th>euribor3m</th>\n",
       "      <th>nr.employed</th>\n",
       "    </tr>\n",
       "  </thead>\n",
       "  <tbody>\n",
       "    <tr>\n",
       "      <th>count</th>\n",
       "      <td>41188.00000</td>\n",
       "      <td>41188.000000</td>\n",
       "      <td>41188.000000</td>\n",
       "      <td>41188.000000</td>\n",
       "      <td>41188.000000</td>\n",
       "      <td>41188.000000</td>\n",
       "      <td>41188.000000</td>\n",
       "      <td>41188.000000</td>\n",
       "      <td>41188.000000</td>\n",
       "      <td>41188.000000</td>\n",
       "    </tr>\n",
       "    <tr>\n",
       "      <th>mean</th>\n",
       "      <td>40.02406</td>\n",
       "      <td>258.285010</td>\n",
       "      <td>2.567593</td>\n",
       "      <td>962.475454</td>\n",
       "      <td>0.172963</td>\n",
       "      <td>0.081886</td>\n",
       "      <td>93.575664</td>\n",
       "      <td>-40.502600</td>\n",
       "      <td>3.621291</td>\n",
       "      <td>5167.035911</td>\n",
       "    </tr>\n",
       "    <tr>\n",
       "      <th>std</th>\n",
       "      <td>10.42125</td>\n",
       "      <td>259.279249</td>\n",
       "      <td>2.770014</td>\n",
       "      <td>186.910907</td>\n",
       "      <td>0.494901</td>\n",
       "      <td>1.570960</td>\n",
       "      <td>0.578840</td>\n",
       "      <td>4.628198</td>\n",
       "      <td>1.734447</td>\n",
       "      <td>72.251528</td>\n",
       "    </tr>\n",
       "    <tr>\n",
       "      <th>min</th>\n",
       "      <td>17.00000</td>\n",
       "      <td>0.000000</td>\n",
       "      <td>1.000000</td>\n",
       "      <td>0.000000</td>\n",
       "      <td>0.000000</td>\n",
       "      <td>-3.400000</td>\n",
       "      <td>92.201000</td>\n",
       "      <td>-50.800000</td>\n",
       "      <td>0.634000</td>\n",
       "      <td>4963.600000</td>\n",
       "    </tr>\n",
       "    <tr>\n",
       "      <th>25%</th>\n",
       "      <td>32.00000</td>\n",
       "      <td>102.000000</td>\n",
       "      <td>1.000000</td>\n",
       "      <td>999.000000</td>\n",
       "      <td>0.000000</td>\n",
       "      <td>-1.800000</td>\n",
       "      <td>93.075000</td>\n",
       "      <td>-42.700000</td>\n",
       "      <td>1.344000</td>\n",
       "      <td>5099.100000</td>\n",
       "    </tr>\n",
       "    <tr>\n",
       "      <th>50%</th>\n",
       "      <td>38.00000</td>\n",
       "      <td>180.000000</td>\n",
       "      <td>2.000000</td>\n",
       "      <td>999.000000</td>\n",
       "      <td>0.000000</td>\n",
       "      <td>1.100000</td>\n",
       "      <td>93.749000</td>\n",
       "      <td>-41.800000</td>\n",
       "      <td>4.857000</td>\n",
       "      <td>5191.000000</td>\n",
       "    </tr>\n",
       "    <tr>\n",
       "      <th>75%</th>\n",
       "      <td>47.00000</td>\n",
       "      <td>319.000000</td>\n",
       "      <td>3.000000</td>\n",
       "      <td>999.000000</td>\n",
       "      <td>0.000000</td>\n",
       "      <td>1.400000</td>\n",
       "      <td>93.994000</td>\n",
       "      <td>-36.400000</td>\n",
       "      <td>4.961000</td>\n",
       "      <td>5228.100000</td>\n",
       "    </tr>\n",
       "    <tr>\n",
       "      <th>max</th>\n",
       "      <td>98.00000</td>\n",
       "      <td>4918.000000</td>\n",
       "      <td>56.000000</td>\n",
       "      <td>999.000000</td>\n",
       "      <td>7.000000</td>\n",
       "      <td>1.400000</td>\n",
       "      <td>94.767000</td>\n",
       "      <td>-26.900000</td>\n",
       "      <td>5.045000</td>\n",
       "      <td>5228.100000</td>\n",
       "    </tr>\n",
       "  </tbody>\n",
       "</table>\n",
       "</div>"
      ],
      "text/plain": [
       "               age      duration      campaign         pdays      previous  \\\n",
       "count  41188.00000  41188.000000  41188.000000  41188.000000  41188.000000   \n",
       "mean      40.02406    258.285010      2.567593    962.475454      0.172963   \n",
       "std       10.42125    259.279249      2.770014    186.910907      0.494901   \n",
       "min       17.00000      0.000000      1.000000      0.000000      0.000000   \n",
       "25%       32.00000    102.000000      1.000000    999.000000      0.000000   \n",
       "50%       38.00000    180.000000      2.000000    999.000000      0.000000   \n",
       "75%       47.00000    319.000000      3.000000    999.000000      0.000000   \n",
       "max       98.00000   4918.000000     56.000000    999.000000      7.000000   \n",
       "\n",
       "       emp.var.rate  cons.price.idx  cons.conf.idx     euribor3m   nr.employed  \n",
       "count  41188.000000    41188.000000   41188.000000  41188.000000  41188.000000  \n",
       "mean       0.081886       93.575664     -40.502600      3.621291   5167.035911  \n",
       "std        1.570960        0.578840       4.628198      1.734447     72.251528  \n",
       "min       -3.400000       92.201000     -50.800000      0.634000   4963.600000  \n",
       "25%       -1.800000       93.075000     -42.700000      1.344000   5099.100000  \n",
       "50%        1.100000       93.749000     -41.800000      4.857000   5191.000000  \n",
       "75%        1.400000       93.994000     -36.400000      4.961000   5228.100000  \n",
       "max        1.400000       94.767000     -26.900000      5.045000   5228.100000  "
      ]
     },
     "execution_count": 5,
     "metadata": {},
     "output_type": "execute_result"
    }
   ],
   "source": [
    "train.describe()"
   ]
  },
  {
   "cell_type": "markdown",
   "metadata": {},
   "source": [
    "### we see that the column 'duration' seems skewed.  Also the range of 'nr.employed' is quite off scales for other columns. "
   ]
  },
  {
   "cell_type": "code",
   "execution_count": 6,
   "metadata": {},
   "outputs": [
    {
     "name": "stdout",
     "output_type": "stream",
     "text": [
      "Index(['age', 'campaign', 'pdays', 'previous', 'emp.var.rate',\n",
      "       'cons.price.idx', 'cons.conf.idx', 'euribor3m', 'nr.employed'],\n",
      "      dtype='object')\n"
     ]
    },
    {
     "data": {
      "image/png": "[encoded data removed]",
      "text/plain": [
       "<matplotlib.figure.Figure at 0xba3c7b8>"
      ]
     },
     "metadata": {},
     "output_type": "display_data"
    }
   ],
   "source": [
    "quant=train[['age','campaign','pdays','previous','emp.var.rate','cons.price.idx','cons.conf.idx','euribor3m','nr.employed']]\n",
    "fig = plt.figure(figsize=(14, 10))\n",
    "print(quant.columns)\n",
    "quant.boxplot()\n",
    "#plt.set_title('Default', fontsize=10)\n",
    "plt.show()"
   ]
  },
  {
   "cell_type": "code",
   "execution_count": 8,
   "metadata": {
    "scrolled": true
   },
   "outputs": [
    {
     "data": {
      "text/plain": [
       "990"
      ]
     },
     "execution_count": 8,
     "metadata": {},
     "output_type": "execute_result"
    }
   ],
   "source": [
    "train[train['housing']=='unknown']['housing'].value_counts().sum()"
   ]
  },
  {
   "cell_type": "code",
   "execution_count": 9,
   "metadata": {},
   "outputs": [
    {
     "data": {
      "text/plain": [
       "array(['housemaid', 'services', 'admin.', 'blue-collar', 'technician',\n",
       "       'retired', 'management', 'unemployed', 'self-employed', 'unknown',\n",
       "       'entrepreneur', 'student'], dtype=object)"
      ]
     },
     "execution_count": 9,
     "metadata": {},
     "output_type": "execute_result"
    }
   ],
   "source": [
    "train['job'].unique()"
   ]
  },
  {
   "cell_type": "markdown",
   "metadata": {},
   "source": [
    "### We see that job contains some unknown data so we need to check if response is independent on the unknown values of the job. Therefore the job can be grouped into known and unknown categories. Then they will be tested using the contigency table"
   ]
  },
  {
   "cell_type": "code",
   "execution_count": 10,
   "metadata": {},
   "outputs": [
    {
     "data": {
      "text/plain": [
       "(0.0032104107038062905,\n",
       " 0.954815650813677,\n",
       " 1,\n",
       " array([[36255.17587647,  4602.82412353],\n",
       "        [  292.82412353,    37.17587647]]))"
      ]
     },
     "execution_count": 10,
     "metadata": {},
     "output_type": "execute_result"
    }
   ],
   "source": [
    "job_known=train[train['job']!='unknown']\n",
    "job_known_yes=job_known[job_known['y']=='yes'].y.value_counts().sum()\n",
    "job_known_no=job_known[job_known['y']=='no'].y.value_counts().sum()\n",
    "\n",
    "job_unknown=train[train['job']=='unknown']\n",
    "job_unknown_yes=job_unknown[job_unknown['y']=='yes'].y.value_counts().sum()\n",
    "job_unknown_no=job_unknown[job_unknown['y']=='no'].y.value_counts().sum()\n",
    "\n",
    "obs = np.array([[job_known_no, job_known_yes], [job_unknown_no, job_unknown_yes]])\n",
    "obs\n",
    "stats.chi2_contingency(obs)\n",
    "# output are the t-test statistic, p value and the expected values as 2 x 2 array"
   ]
  },
  {
   "cell_type": "markdown",
   "metadata": {},
   "source": [
    "### The Chi-square test for 2 x 2 contignency table indicates that p value = 0.9548 meaning H0 hypothesis(independence) can be accepted, i.e., the unknown status (missing data for job) does not impact the outcome of response. The missing of job data is randomly missed and therefore we may delete those missing data. There are 330 missing data for job need to be removed."
   ]
  },
  {
   "cell_type": "code",
   "execution_count": 11,
   "metadata": {},
   "outputs": [
    {
     "name": "stdout",
     "output_type": "stream",
     "text": [
      "<class 'pandas.core.frame.DataFrame'>\n",
      "Int64Index: 40858 entries, 0 to 41187\n",
      "Data columns (total 21 columns):\n",
      "age               40858 non-null int64\n",
      "job               40858 non-null object\n",
      "marital           40858 non-null object\n",
      "education         40858 non-null object\n",
      "default           40858 non-null object\n",
      "housing           40858 non-null object\n",
      "loan              40858 non-null object\n",
      "contact           40858 non-null object\n",
      "month             40858 non-null object\n",
      "day_of_week       40858 non-null object\n",
      "duration          40858 non-null int64\n",
      "campaign          40858 non-null int64\n",
      "pdays             40858 non-null int64\n",
      "previous          40858 non-null int64\n",
      "poutcome          40858 non-null object\n",
      "emp.var.rate      40858 non-null float64\n",
      "cons.price.idx    40858 non-null float64\n",
      "cons.conf.idx     40858 non-null float64\n",
      "euribor3m         40858 non-null float64\n",
      "nr.employed       40858 non-null float64\n",
      "y                 40858 non-null object\n",
      "dtypes: float64(5), int64(5), object(11)\n",
      "memory usage: 6.9+ MB\n",
      "None\n"
     ]
    }
   ],
   "source": [
    "train=train[train['job']!='unknown']\n",
    "print(train.info())"
   ]
  },
  {
   "cell_type": "code",
   "execution_count": 12,
   "metadata": {},
   "outputs": [
    {
     "name": "stdout",
     "output_type": "stream",
     "text": [
      "[[36193  4594]\n",
      " [   62     9]]\n"
     ]
    },
    {
     "data": {
      "text/plain": [
       "(0.03546075783643671,\n",
       " 0.8506334349774844,\n",
       " 1,\n",
       " array([[3.61919988e+04, 4.59500125e+03],\n",
       "        [6.30012482e+01, 7.99875177e+00]]))"
      ]
     },
     "execution_count": 12,
     "metadata": {},
     "output_type": "execute_result"
    }
   ],
   "source": [
    "marital_known=train[train['marital']!='unknown']\n",
    "marital_known_yes=marital_known[marital_known['y']=='yes'].y.value_counts().sum()\n",
    "marital_known_no=marital_known[marital_known['y']=='no'].y.value_counts().sum()\n",
    "\n",
    "marital_unknown=train[train['marital']=='unknown']\n",
    "marital_unknown_yes=marital_unknown[marital_unknown['y']=='yes'].y.value_counts().sum()\n",
    "marital_unknown_no=marital_unknown[marital_unknown['y']=='no'].y.value_counts().sum()\n",
    "\n",
    "obs = np.array([[marital_known_no, marital_known_yes], [marital_unknown_no, marital_unknown_yes]])\n",
    "print(obs)\n",
    "stats.chi2_contingency(obs)\n",
    "# output are the t-test statistic, p value and the expected values as 2 x 2 array"
   ]
  },
  {
   "cell_type": "markdown",
   "metadata": {},
   "source": [
    "### The Chi-square test for 2 x 2 contignency table indicates that p value = 0.8506 meaning H0 hypothesis(independence) can be accepted, i.e., the unknown status (missing data for marital) does not impact the outcome of response. The missing of marital data is randomly missed and therefore we may delete those missing data. There are 71 missing data for marital status need to be removed."
   ]
  },
  {
   "cell_type": "code",
   "execution_count": 13,
   "metadata": {},
   "outputs": [
    {
     "name": "stdout",
     "output_type": "stream",
     "text": [
      "<class 'pandas.core.frame.DataFrame'>\n",
      "Int64Index: 40787 entries, 0 to 41187\n",
      "Data columns (total 21 columns):\n",
      "age               40787 non-null int64\n",
      "job               40787 non-null object\n",
      "marital           40787 non-null object\n",
      "education         40787 non-null object\n",
      "default           40787 non-null object\n",
      "housing           40787 non-null object\n",
      "loan              40787 non-null object\n",
      "contact           40787 non-null object\n",
      "month             40787 non-null object\n",
      "day_of_week       40787 non-null object\n",
      "duration          40787 non-null int64\n",
      "campaign          40787 non-null int64\n",
      "pdays             40787 non-null int64\n",
      "previous          40787 non-null int64\n",
      "poutcome          40787 non-null object\n",
      "emp.var.rate      40787 non-null float64\n",
      "cons.price.idx    40787 non-null float64\n",
      "cons.conf.idx     40787 non-null float64\n",
      "euribor3m         40787 non-null float64\n",
      "nr.employed       40787 non-null float64\n",
      "y                 40787 non-null object\n",
      "dtypes: float64(5), int64(5), object(11)\n",
      "memory usage: 6.8+ MB\n",
      "None\n"
     ]
    }
   ],
   "source": [
    "train=train[train['marital']!='unknown']\n",
    "print(train.info())"
   ]
  },
  {
   "cell_type": "code",
   "execution_count": 14,
   "metadata": {},
   "outputs": [
    {
     "name": "stdout",
     "output_type": "stream",
     "text": [
      "[[34831  4360]\n",
      " [ 1362   234]]\n"
     ]
    },
    {
     "data": {
      "text/plain": [
       "(18.839319987021295,\n",
       " 1.4220510422823373e-05,\n",
       " 1,\n",
       " array([[34776.76374825,  4414.23625175],\n",
       "        [ 1416.23625175,   179.76374825]]))"
      ]
     },
     "execution_count": 14,
     "metadata": {},
     "output_type": "execute_result"
    }
   ],
   "source": [
    "education_known=train[train['education']!='unknown']\n",
    "education_known_yes=education_known[education_known['y']=='yes'].y.value_counts().sum()\n",
    "education_known_no=education_known[education_known['y']=='no'].y.value_counts().sum()\n",
    "\n",
    "education_unknown=train[train['education']=='unknown']\n",
    "education_unknown_yes=education_unknown[education_unknown['y']=='yes'].y.value_counts().sum()\n",
    "education_unknown_no=education_unknown[education_unknown['y']=='no'].y.value_counts().sum()\n",
    "\n",
    "obs = np.array([[education_known_no, education_known_yes], [education_unknown_no, education_unknown_yes]])\n",
    "print(obs)\n",
    "stats.chi2_contingency(obs)\n",
    "# output are the t-test statistic, p value and the expected values as 2 x 2 array"
   ]
  },
  {
   "cell_type": "markdown",
   "metadata": {},
   "source": [
    "### The Chi-square test for 2 x 2 contignency table indicates that p value = 1.422 e -5 meaning H0 hypothesis(independence) cannot be accepted, i.e., the unknown status (missing data for education) impacts the outcome of response. Therefore we are to keep the missing data for education and use them as new category."
   ]
  },
  {
   "cell_type": "code",
   "execution_count": 15,
   "metadata": {},
   "outputs": [
    {
     "name": "stdout",
     "output_type": "stream",
     "text": [
      "[[28193  4158]\n",
      " [ 8000   436]]\n"
     ]
    },
    {
     "data": {
      "text/plain": [
       "(394.5576157356691,\n",
       " 8.427395364909715e-88,\n",
       " 1,\n",
       " array([[28707.1798122,  3643.8201878],\n",
       "        [ 7485.8201878,   950.1798122]]))"
      ]
     },
     "execution_count": 15,
     "metadata": {},
     "output_type": "execute_result"
    }
   ],
   "source": [
    "default_known=train[train['default']!='unknown']\n",
    "default_known_yes=default_known[default_known['y']=='yes'].y.value_counts().sum()\n",
    "default_known_no=default_known[default_known['y']=='no'].y.value_counts().sum()\n",
    "\n",
    "default_unknown=train[train['default']=='unknown']\n",
    "default_unknown_yes=default_unknown[default_unknown['y']=='yes'].y.value_counts().sum()\n",
    "default_unknown_no=default_unknown[default_unknown['y']=='no'].y.value_counts().sum()\n",
    "\n",
    "obs = np.array([[default_known_no, default_known_yes], [default_unknown_no, default_unknown_yes]])\n",
    "print(obs)\n",
    "stats.chi2_contingency(obs)\n",
    "# output are the t-test statistic, p value and the expected values as 2 x 2 array"
   ]
  },
  {
   "cell_type": "markdown",
   "metadata": {},
   "source": [
    "### The Chi-square test for 2 x 2 contignency table indicates that p value = 8.427 e -88 meaning H0 hypothesis(independence) cannot be accepted, i.e., the unknown status (missing data for default) impacts the outcome of response. Therefore we are to keep the missing data for default and use them as new category."
   ]
  },
  {
   "cell_type": "code",
   "execution_count": 16,
   "metadata": {
    "scrolled": true
   },
   "outputs": [
    {
     "name": "stdout",
     "output_type": "stream",
     "text": [
      "[[35316  4487]\n",
      " [  877   107]]\n"
     ]
    },
    {
     "data": {
      "text/plain": [
       "(0.11566252063728887,\n",
       " 0.7337872991241348,\n",
       " 1,\n",
       " array([[35319.83178464,  4483.16821536],\n",
       "        [  873.16821536,   110.83178464]]))"
      ]
     },
     "execution_count": 16,
     "metadata": {},
     "output_type": "execute_result"
    }
   ],
   "source": [
    "housing_known=train[train['housing']!='unknown']\n",
    "housing_known_yes=housing_known[housing_known['y']=='yes'].y.value_counts().sum()\n",
    "housing_known_no=housing_known[housing_known['y']=='no'].y.value_counts().sum()\n",
    "\n",
    "housing_unknown=train[train['housing']=='unknown']\n",
    "housing_unknown_yes=housing_unknown[housing_unknown['y']=='yes'].y.value_counts().sum()\n",
    "housing_unknown_no=housing_unknown[housing_unknown['y']=='no'].y.value_counts().sum()\n",
    "\n",
    "obs = np.array([[housing_known_no, housing_known_yes], [housing_unknown_no, housing_unknown_yes]])\n",
    "print(obs)\n",
    "stats.chi2_contingency(obs)\n",
    "# output are the t-test statistic, p value and the expected values as 2 x 2 array"
   ]
  },
  {
   "cell_type": "markdown",
   "metadata": {},
   "source": [
    "### The Chi-square test for 2 x 2 contignency table indicates that p value = 0.7338 meaning H0 hypothesis(independence) can be accepted, i.e., the unknown status (missing data for housing) doe not impact the outcome of response."
   ]
  },
  {
   "cell_type": "code",
   "execution_count": 17,
   "metadata": {
    "scrolled": true
   },
   "outputs": [
    {
     "name": "stdout",
     "output_type": "stream",
     "text": [
      "[[35316  4487]\n",
      " [  877   107]]\n"
     ]
    },
    {
     "data": {
      "text/plain": [
       "(0.11566252063728887,\n",
       " 0.7337872991241348,\n",
       " 1,\n",
       " array([[35319.83178464,  4483.16821536],\n",
       "        [  873.16821536,   110.83178464]]))"
      ]
     },
     "execution_count": 17,
     "metadata": {},
     "output_type": "execute_result"
    }
   ],
   "source": [
    "loan_known=train[train['loan']!='unknown']\n",
    "loan_known_yes=loan_known[loan_known['y']=='yes'].y.value_counts().sum()\n",
    "loan_known_no=loan_known[loan_known['y']=='no'].y.value_counts().sum()\n",
    "\n",
    "loan_unknown=train[train['loan']=='unknown']\n",
    "loan_unknown_yes=loan_unknown[loan_unknown['y']=='yes'].y.value_counts().sum()\n",
    "loan_unknown_no=loan_unknown[loan_unknown['y']=='no'].y.value_counts().sum()\n",
    "\n",
    "obs = np.array([[loan_known_no, loan_known_yes], [loan_unknown_no, loan_unknown_yes]])\n",
    "print(obs)\n",
    "stats.chi2_contingency(obs)\n",
    "# output are the t-test statistic, p value and the expected values as 2 x 2 array"
   ]
  },
  {
   "cell_type": "code",
   "execution_count": 18,
   "metadata": {},
   "outputs": [
    {
     "name": "stdout",
     "output_type": "stream",
     "text": [
      "0.11263392747689215\n"
     ]
    }
   ],
   "source": [
    "y_yes=train[train['y']=='yes']['y'].value_counts().sum()\n",
    "y_no=train[train['y']=='no']['y'].value_counts().sum()\n",
    "yes_pct=y_yes/(y_yes+y_no)\n",
    "print(yes_pct)"
   ]
  },
  {
   "cell_type": "markdown",
   "metadata": {},
   "source": [
    "  ### We can see from calculation that the percentage of making deposits is about 11.2% of all subjects. The goal of this project is to predict the chance of people making deposit and the dataset makes imbalanced in term of this goal. Therefore it is feasible to either reduce the portion of non-making deposits or increase the portion of making depostis."
   ]
  },
  {
   "cell_type": "markdown",
   "metadata": {},
   "source": [
    "## Explanatory data analysis (EDA)"
   ]
  },
  {
   "cell_type": "markdown",
   "metadata": {},
   "source": [
    "### It is reasonable to divide ages into groups such as Young, Middle age and senior to study impact on the deposits"
   ]
  },
  {
   "cell_type": "code",
   "execution_count": 19,
   "metadata": {},
   "outputs": [
    {
     "name": "stdout",
     "output_type": "stream",
     "text": [
      "   age          job  marital            education  default housing loan  \\\n",
      "0   56    housemaid  married             basic.4y       no      no   no   \n",
      "1   57     services  married          high.school  unknown      no   no   \n",
      "2   37     services  married          high.school       no     yes   no   \n",
      "3   40       admin.  married             basic.6y       no      no   no   \n",
      "4   56     services  married          high.school       no      no  yes   \n",
      "5   45     services  married             basic.9y  unknown      no   no   \n",
      "6   59       admin.  married  professional.course       no      no   no   \n",
      "7   41  blue-collar  married              unknown  unknown      no   no   \n",
      "8   24   technician   single  professional.course       no     yes   no   \n",
      "9   25     services   single          high.school       no     yes   no   \n",
      "\n",
      "     contact month day_of_week     ...      pdays  previous     poutcome  \\\n",
      "0  telephone   may         mon     ...        999         0  nonexistent   \n",
      "1  telephone   may         mon     ...        999         0  nonexistent   \n",
      "2  telephone   may         mon     ...        999         0  nonexistent   \n",
      "3  telephone   may         mon     ...        999         0  nonexistent   \n",
      "4  telephone   may         mon     ...        999         0  nonexistent   \n",
      "5  telephone   may         mon     ...        999         0  nonexistent   \n",
      "6  telephone   may         mon     ...        999         0  nonexistent   \n",
      "7  telephone   may         mon     ...        999         0  nonexistent   \n",
      "8  telephone   may         mon     ...        999         0  nonexistent   \n",
      "9  telephone   may         mon     ...        999         0  nonexistent   \n",
      "\n",
      "   emp.var.rate cons.price.idx  cons.conf.idx  euribor3m  nr.employed   y  \\\n",
      "0           1.1         93.994          -36.4      4.857       5191.0  no   \n",
      "1           1.1         93.994          -36.4      4.857       5191.0  no   \n",
      "2           1.1         93.994          -36.4      4.857       5191.0  no   \n",
      "3           1.1         93.994          -36.4      4.857       5191.0  no   \n",
      "4           1.1         93.994          -36.4      4.857       5191.0  no   \n",
      "5           1.1         93.994          -36.4      4.857       5191.0  no   \n",
      "6           1.1         93.994          -36.4      4.857       5191.0  no   \n",
      "7           1.1         93.994          -36.4      4.857       5191.0  no   \n",
      "8           1.1         93.994          -36.4      4.857       5191.0  no   \n",
      "9           1.1         93.994          -36.4      4.857       5191.0  no   \n",
      "\n",
      "     agerange  \n",
      "0      senior  \n",
      "1      senior  \n",
      "2  middle-age  \n",
      "3  middle-age  \n",
      "4      senior  \n",
      "5  middle-age  \n",
      "6      senior  \n",
      "7  middle-age  \n",
      "8       young  \n",
      "9       young  \n",
      "\n",
      "[10 rows x 22 columns]\n"
     ]
    }
   ],
   "source": [
    "#group age into three categories: 17-35 young, 36-55 middle age, and 56+ senior\n",
    "bins = [17, 35, 55, 100]\n",
    "labels = ['young', 'middle-age', 'senior']\n",
    "train['agerange'] = pd.cut(train.age, bins, labels = labels,include_lowest = True)\n",
    "\n",
    "print(train[:10])"
   ]
  },
  {
   "cell_type": "code",
   "execution_count": 20,
   "metadata": {},
   "outputs": [
    {
     "name": "stdout",
     "output_type": "stream",
     "text": [
      "young         14328\n",
      "middle-age    19078\n",
      "senior         2787\n",
      "Name: agerange, dtype: int64\n",
      "young         2071\n",
      "middle-age    1797\n",
      "senior         726\n",
      "Name: agerange, dtype: int64\n"
     ]
    }
   ],
   "source": [
    "bank_age=train.sort_values(by='agerange')\n",
    "\n",
    "age_total=bank_age['agerange'].value_counts()\n",
    "age_total.sort_index(inplace=True)\n",
    "\n",
    "age_no=bank_age[bank_age['y']=='no']['agerange'].value_counts()\n",
    "age_no.sort_index(inplace=True)\n",
    "\n",
    "age_yes=bank_age[bank_age['y']=='yes']['agerange'].value_counts()\n",
    "age_yes.sort_index(inplace=True)\n",
    "\n",
    "print(age_no)\n",
    "print(age_yes)\n",
    "#age_no=age_no/(age_no+age_yes)\n",
    "#age_yes=1-age_no\n",
    "#print(age_no)\n",
    "#print(age_yes)"
   ]
  },
  {
   "cell_type": "code",
   "execution_count": 21,
   "metadata": {},
   "outputs": [
    {
     "name": "stdout",
     "output_type": "stream",
     "text": [
      "   Deposit  No Deposit    agerange\n",
      "0     2071       14328       young\n",
      "1     1797       19078  middle-age\n",
      "2      726        2787      senior\n",
      "young         16399\n",
      "middle-age    20875\n",
      "senior         3513\n",
      "Name: agerange, dtype: int64\n"
     ]
    },
    {
     "data": {
      "image/png": "[encoded data removed]",
      "text/plain": [
       "<matplotlib.figure.Figure at 0xbfb75f8>"
      ]
     },
     "metadata": {},
     "output_type": "display_data"
    }
   ],
   "source": [
    "df = pd.DataFrame({\n",
    "              'agerange':['young', 'middle-age', 'senior'],\n",
    "              'No Deposit':age_no.values,\n",
    "              'Deposit':age_yes.values}\n",
    "             )\n",
    "print(df)\n",
    "print(age_total)\n",
    "df = df.set_index(['agerange'])\n",
    "\n",
    "ax = df.plot(kind='bar', title =\"Deposit situation vs age status\", figsize=(14, 10), legend=True,rot=0, fontsize=10)\n",
    "ax.set_xlabel(\"Age status\", fontsize=14,rotation=0)\n",
    "ax.set_ylabel(\"Frequency\", fontsize=14,rotation=90)\n",
    "plt.show()"
   ]
  },
  {
   "cell_type": "markdown",
   "metadata": {},
   "source": [
    "### It can been seen that more fraction of senior made deposits but young and middle aged take more percentage.  "
   ]
  },
  {
   "cell_type": "code",
   "execution_count": 22,
   "metadata": {},
   "outputs": [
    {
     "data": {
      "image/png": "[encoded data removed]",
      "text/plain": [
       "<matplotlib.figure.Figure at 0xb6b10f0>"
      ]
     },
     "metadata": {},
     "output_type": "display_data"
    }
   ],
   "source": [
    "pd.crosstab(train.job,train.y).plot(kind='bar',figsize=(14, 10))\n",
    "plt.title('Deposit situation vs Job Title')\n",
    "plt.xlabel('Job')\n",
    "plt.xticks(rotation = 0)\n",
    "plt.ylabel('Frequency Deposit situation')\n",
    "plt.savefig('Deposit_fre_job')"
   ]
  },
  {
   "cell_type": "markdown",
   "metadata": {},
   "source": [
    "### It seems that the situation of  making deposits among all employment status correlate to the employment. "
   ]
  },
  {
   "cell_type": "code",
   "execution_count": 23,
   "metadata": {},
   "outputs": [
    {
     "name": "stdout",
     "output_type": "stream",
     "text": [
      "divorced     4126\n",
      "married     22178\n",
      "single       9889\n",
      "Name: marital, dtype: int64\n",
      "divorced     473\n",
      "married     2516\n",
      "single      1605\n",
      "Name: marital, dtype: int64\n",
      "divorced    0.897152\n",
      "married     0.898113\n",
      "single      0.860362\n",
      "Name: marital, dtype: float64\n",
      "divorced    0.102848\n",
      "married     0.101887\n",
      "single      0.139638\n",
      "Name: marital, dtype: float64\n"
     ]
    }
   ],
   "source": [
    "bank_marital = train.sort_values(by='marital')\n",
    "\n",
    "marital_total=bank_marital['marital'].value_counts()\n",
    "marital_total.sort_index(inplace=True)\n",
    "\n",
    "marital_no=bank_marital[bank_marital['y']=='no']['marital'].value_counts()\n",
    "marital_no.sort_index(inplace=True)\n",
    "\n",
    "marital_yes=bank_marital[bank_marital['y']=='yes']['marital'].value_counts()\n",
    "marital_yes.sort_index(inplace=True)\n",
    "\n",
    "print(marital_no)\n",
    "print(marital_yes)\n",
    "marital_no=marital_no/(marital_no + marital_yes)\n",
    "marital_yes=1-marital_no\n",
    "print(marital_no)\n",
    "print(marital_yes)"
   ]
  },
  {
   "cell_type": "code",
   "execution_count": 24,
   "metadata": {},
   "outputs": [
    {
     "name": "stdout",
     "output_type": "stream",
     "text": [
      "    Deposit  No Deposit   marital\n",
      "0  0.102848    0.897152  divorced\n",
      "1  0.101887    0.898113   married\n",
      "2  0.139638    0.860362    single\n",
      "divorced     4599\n",
      "married     24694\n",
      "single      11494\n",
      "Name: marital, dtype: int64\n"
     ]
    },
    {
     "data": {
      "image/png": "[encoded data removed]",
      "text/plain": [
       "<matplotlib.figure.Figure at 0xbfb7a90>"
      ]
     },
     "metadata": {},
     "output_type": "display_data"
    }
   ],
   "source": [
    "df = pd.DataFrame({\n",
    "              'marital':['divorced', 'married', 'single'],\n",
    "              'No Deposit':marital_no.values,\n",
    "              'Deposit':marital_yes.values}\n",
    "             )\n",
    "print(df)\n",
    "print(marital_total)\n",
    "df = df.set_index(['marital'])\n",
    "\n",
    "ax = df.plot(kind='bar', title =\"Deposit situation vs marital status\", figsize=(14, 10), legend=True,rot=0, fontsize=10)\n",
    "ax.set_xlabel(\"Marital status\", fontsize=14,rotation=0)\n",
    "ax.set_ylabel(\"Percentage\", fontsize=14,rotation=90)\n",
    "plt.show()\n"
   ]
  },
  {
   "cell_type": "markdown",
   "metadata": {},
   "source": [
    "#### It seem that the marital status does not affect the deposit. About 10% all marital status made deposits."
   ]
  },
  {
   "cell_type": "code",
   "execution_count": 25,
   "metadata": {},
   "outputs": [
    {
     "data": {
      "image/png": "[encoded data removed]",
      "text/plain": [
       "<matplotlib.figure.Figure at 0xc0daf60>"
      ]
     },
     "metadata": {},
     "output_type": "display_data"
    }
   ],
   "source": [
    "pd.crosstab(train.education,train.y).plot(kind='bar',figsize=(14, 10))\n",
    "plt.title('Deposit situation vs education')\n",
    "plt.xlabel('Education',fontsize=14,rotation=0)\n",
    "plt.xticks(rotation = 0)\n",
    "plt.ylabel('Frequency Deposit situation')\n",
    "plt.savefig('education_fre_job')"
   ]
  },
  {
   "cell_type": "markdown",
   "metadata": {},
   "source": [
    "### 14% of university degree holder made deposits and this group makes the majority of all people of interest. It seems that more education leads to more deposits"
   ]
  },
  {
   "cell_type": "code",
   "execution_count": 26,
   "metadata": {},
   "outputs": [
    {
     "data": {
      "image/png": "[encoded data removed]",
      "text/plain": [
       "<matplotlib.figure.Figure at 0xafd3f98>"
      ]
     },
     "metadata": {},
     "output_type": "display_data"
    }
   ],
   "source": [
    "pd.crosstab(train.default,train.y).plot(kind='bar',figsize=(14, 10))\n",
    "plt.title('Deposit situation vs default')\n",
    "plt.xlabel('Default')\n",
    "plt.xticks(rotation = 0)\n",
    "plt.ylabel('Frequency Deposit situation')\n",
    "plt.savefig('default_fre_job')"
   ]
  },
  {
   "cell_type": "markdown",
   "metadata": {},
   "source": [
    "### It is seen that the default status doe not impact deposit since most of people do not default and about 13% of them made deposits."
   ]
  },
  {
   "cell_type": "code",
   "execution_count": 27,
   "metadata": {},
   "outputs": [
    {
     "data": {
      "image/png": "[encoded data removed]",
      "text/plain": [
       "<matplotlib.figure.Figure at 0xfca75f8>"
      ]
     },
     "metadata": {},
     "output_type": "display_data"
    }
   ],
   "source": [
    "pd.crosstab(train.housing,train.y).plot(kind='bar',figsize=(14, 10))\n",
    "plt.title('Deposit situation vs housing')\n",
    "plt.xlabel('Housing')\n",
    "plt.xticks(rotation = 0)\n",
    "plt.ylabel('Frequency Deposit situation')\n",
    "plt.savefig('housing_fre_job')"
   ]
  },
  {
   "cell_type": "markdown",
   "metadata": {},
   "source": [
    "### It is obvious that the housing status does not impact the deposits. "
   ]
  },
  {
   "cell_type": "code",
   "execution_count": 28,
   "metadata": {},
   "outputs": [
    {
     "data": {
      "image/png": "[encoded data removed]",
      "text/plain": [
       "<matplotlib.figure.Figure at 0xfc5cc88>"
      ]
     },
     "metadata": {},
     "output_type": "display_data"
    }
   ],
   "source": [
    "pd.crosstab(train.loan,train.y).plot(kind='bar',figsize=(14, 10))\n",
    "plt.title('Deposit situation vs loan')\n",
    "plt.xlabel('Loan')\n",
    "plt.xticks(rotation = 0)\n",
    "plt.ylabel('Frequency Deposit situation')\n",
    "plt.savefig('loan_fre_job')"
   ]
  },
  {
   "cell_type": "markdown",
   "metadata": {},
   "source": [
    "### It is obvious that the loan does not affect the deposits."
   ]
  },
  {
   "cell_type": "code",
   "execution_count": 29,
   "metadata": {},
   "outputs": [
    {
     "name": "stdout",
     "output_type": "stream",
     "text": [
      "cellular     22110\n",
      "telephone    14083\n",
      "Name: contact, dtype: int64\n",
      "cellular     3818\n",
      "telephone     776\n",
      "Name: contact, dtype: int64\n",
      "cellular     0.852746\n",
      "telephone    0.947776\n",
      "Name: contact, dtype: float64\n",
      "cellular     0.147254\n",
      "telephone    0.052224\n",
      "Name: contact, dtype: float64\n"
     ]
    }
   ],
   "source": [
    "bank_contact=train.sort_values(by='contact')\n",
    "\n",
    "contact_total=bank_contact['contact'].value_counts()\n",
    "contact_total.sort_index(inplace=True)\n",
    "\n",
    "contact_no=bank_contact[bank_contact['y']=='no']['contact'].value_counts()\n",
    "contact_no.sort_index(inplace=True)\n",
    "\n",
    "contact_yes=bank_contact[bank_contact['y']=='yes']['contact'].value_counts()\n",
    "contact_yes.sort_index(inplace=True)\n",
    "\n",
    "print(contact_no)\n",
    "print(contact_yes)\n",
    "contact_no=contact_no/(contact_no + contact_yes)\n",
    "contact_yes=1-contact_no\n",
    "print(contact_no)\n",
    "print(contact_yes)"
   ]
  },
  {
   "cell_type": "code",
   "execution_count": 30,
   "metadata": {},
   "outputs": [
    {
     "name": "stdout",
     "output_type": "stream",
     "text": [
      "    Deposit  No Deposit    contact\n",
      "0  0.147254    0.852746   cellular\n",
      "1  0.052224    0.947776  telephone\n",
      "cellular     25928\n",
      "telephone    14859\n",
      "Name: contact, dtype: int64\n"
     ]
    },
    {
     "data": {
      "image/png": "[encoded data removed]",
      "text/plain": [
       "<matplotlib.figure.Figure at 0xfd50588>"
      ]
     },
     "metadata": {},
     "output_type": "display_data"
    }
   ],
   "source": [
    "df = pd.DataFrame({\n",
    "              'contact':['cellular', 'telephone'],\n",
    "              'No Deposit':contact_no.values,\n",
    "              'Deposit':contact_yes.values}\n",
    "             )\n",
    "print(df)\n",
    "print(contact_total)\n",
    "df = df.set_index(['contact'])\n",
    "\n",
    "ax = df.plot(kind='bar', title =\"Deposit situation vs contact status\", figsize=(14, 10), legend=True,rot=0, fontsize=10)\n",
    "ax.set_xlabel(\"Contact status\", fontsize=14,rotation=0)\n",
    "ax.set_ylabel(\"Percentage\", fontsize=14,rotation=90)\n",
    "plt.show()"
   ]
  },
  {
   "cell_type": "markdown",
   "metadata": {},
   "source": [
    "### It indicates that more people are using cell phone than regular phones. Meanwhile about 15% cell phone users made deposits"
   ]
  },
  {
   "cell_type": "code",
   "execution_count": 31,
   "metadata": {},
   "outputs": [
    {
     "name": "stdout",
     "output_type": "stream",
     "text": [
      "apr     2083\n",
      "aug     5462\n",
      "dec       92\n",
      "jul     6476\n",
      "jun     4697\n",
      "mar      267\n",
      "may    12737\n",
      "nov     3674\n",
      "oct      396\n",
      "sep      309\n",
      "Name: month, dtype: int64\n",
      "apr    537\n",
      "aug    646\n",
      "dec     88\n",
      "jul    642\n",
      "jun    548\n",
      "mar    274\n",
      "may    882\n",
      "nov    413\n",
      "oct    311\n",
      "sep    253\n",
      "Name: month, dtype: int64\n",
      "apr    0.795038\n",
      "aug    0.894237\n",
      "dec    0.511111\n",
      "jul    0.909806\n",
      "jun    0.895520\n",
      "mar    0.493530\n",
      "may    0.935238\n",
      "nov    0.898948\n",
      "oct    0.560113\n",
      "sep    0.549822\n",
      "Name: month, dtype: float64\n",
      "apr    0.204962\n",
      "aug    0.105763\n",
      "dec    0.488889\n",
      "jul    0.090194\n",
      "jun    0.104480\n",
      "mar    0.506470\n",
      "may    0.064762\n",
      "nov    0.101052\n",
      "oct    0.439887\n",
      "sep    0.450178\n",
      "Name: month, dtype: float64\n"
     ]
    }
   ],
   "source": [
    "bank_month=train.sort_values(by='month')\n",
    "\n",
    "month_total=bank_month['month'].value_counts()\n",
    "month_total.sort_index(inplace=True)\n",
    "\n",
    "month_no=bank_month[bank_month['y']=='no']['month'].value_counts()\n",
    "month_no.sort_index(inplace=True)\n",
    "\n",
    "month_yes=bank_month[bank_month['y']=='yes']['month'].value_counts()\n",
    "month_yes.sort_index(inplace=True)\n",
    "\n",
    "print(month_no)\n",
    "print(month_yes)\n",
    "month_no=month_no/(month_no + month_yes)\n",
    "month_yes=1-month_no\n",
    "print(month_no)\n",
    "print(month_yes)"
   ]
  },
  {
   "cell_type": "code",
   "execution_count": 32,
   "metadata": {},
   "outputs": [
    {
     "name": "stdout",
     "output_type": "stream",
     "text": [
      "apr     2620\n",
      "aug     6108\n",
      "dec      180\n",
      "jul     7118\n",
      "jun     5245\n",
      "mar      541\n",
      "may    13619\n",
      "nov     4087\n",
      "oct      707\n",
      "sep      562\n",
      "Name: month, dtype: int64\n",
      "        Deposit  No Deposit\n",
      "month                      \n",
      "3      0.506470    0.493530\n",
      "4      0.204962    0.795038\n",
      "5      0.064762    0.935238\n",
      "6      0.104480    0.895520\n",
      "7      0.090194    0.909806\n",
      "8      0.105763    0.894237\n",
      "9      0.450178    0.549822\n",
      "10     0.439887    0.560113\n",
      "11     0.101052    0.898948\n",
      "12     0.488889    0.511111\n"
     ]
    },
    {
     "data": {
      "image/png": "[encoded data removed]",
      "text/plain": [
       "<matplotlib.figure.Figure at 0x10000fd0>"
      ]
     },
     "metadata": {},
     "output_type": "display_data"
    }
   ],
   "source": [
    "df = pd.DataFrame({\n",
    "              'month':['apr', 'aug', 'dec', 'jul', 'jun', 'mar', 'may', 'nov', 'oct', 'sep'],\n",
    "              'No Deposit':month_no.values,\n",
    "              'Deposit':month_yes.values}\n",
    "             )\n",
    "\n",
    "print(month_total)\n",
    "\n",
    "df['month'] = pd.to_datetime(df.month, format='%b', errors='coerce').dt.month\n",
    "df = df.sort_values(by='month')\n",
    "df = df.set_index(['month'])\n",
    "print(df)\n",
    "#df = df.groupby(df['month'])\n",
    "\n",
    "\n",
    "ax = df.plot(kind='bar', title =\"Deposit situation vs month\", figsize=(14, 10), legend=True,rot=0, fontsize=10)\n",
    "ax.set_xlabel(\"Month\", fontsize=14,rotation=0)\n",
    "ax.set_ylabel(\"Percentage\", fontsize=14,rotation=90)\n",
    "plt.show()"
   ]
  },
  {
   "cell_type": "markdown",
   "metadata": {},
   "source": [
    "### It is shown that in May and July when most of people surveyed about 10% people made deposits. In December, the lowest number of people surveyed this may due to the holiday season when there is no business running therefore the survey activities are not run."
   ]
  },
  {
   "cell_type": "code",
   "execution_count": 33,
   "metadata": {},
   "outputs": [
    {
     "name": "stdout",
     "output_type": "stream",
     "text": [
      "fri    6940\n",
      "mon    7579\n",
      "thu    7497\n",
      "tue    7060\n",
      "wed    7117\n",
      "Name: day_of_week, dtype: int64\n",
      "fri     839\n",
      "mon     841\n",
      "thu    1033\n",
      "tue     946\n",
      "wed     935\n",
      "Name: day_of_week, dtype: int64\n",
      "fri    0.892146\n",
      "mon    0.900119\n",
      "thu    0.878898\n",
      "tue    0.881839\n",
      "wed    0.883880\n",
      "Name: day_of_week, dtype: float64\n",
      "fri    0.107854\n",
      "mon    0.099881\n",
      "thu    0.121102\n",
      "tue    0.118161\n",
      "wed    0.116120\n",
      "Name: day_of_week, dtype: float64\n"
     ]
    }
   ],
   "source": [
    "bank_day=train.sort_values(by='day_of_week')\n",
    "\n",
    "day_total=bank_day['day_of_week'].value_counts()\n",
    "day_total.sort_index(inplace=True)\n",
    "\n",
    "day_no=bank_day[bank_day['y']=='no']['day_of_week'].value_counts()\n",
    "day_no.sort_index(inplace=True)\n",
    "\n",
    "day_yes=bank_day[bank_day['y']=='yes']['day_of_week'].value_counts()\n",
    "day_yes.sort_index(inplace=True)\n",
    "\n",
    "print(day_no)\n",
    "print(day_yes)\n",
    "day_no=day_no/(day_no + day_yes)\n",
    "day_yes=1-day_no\n",
    "print(day_no)\n",
    "print(day_yes)"
   ]
  },
  {
   "cell_type": "code",
   "execution_count": 34,
   "metadata": {
    "scrolled": true
   },
   "outputs": [
    {
     "name": "stdout",
     "output_type": "stream",
     "text": [
      "fri    7779\n",
      "mon    8420\n",
      "thu    8530\n",
      "tue    8006\n",
      "wed    8052\n",
      "Name: day_of_week, dtype: int64\n",
      "              Deposit  No Deposit\n",
      "day_of_week                      \n",
      "fri          0.107854    0.892146\n",
      "mon          0.099881    0.900119\n",
      "thu          0.121102    0.878898\n",
      "tue          0.118161    0.881839\n",
      "wed          0.116120    0.883880\n"
     ]
    },
    {
     "data": {
      "image/png": "[encoded data removed]",
      "text/plain": [
       "<matplotlib.figure.Figure at 0xfdb45c0>"
      ]
     },
     "metadata": {},
     "output_type": "display_data"
    }
   ],
   "source": [
    "df = pd.DataFrame({\n",
    "              'day_of_week':['fri','mon','thu', 'tue', 'wed'],\n",
    "              'No Deposit':day_no.values,\n",
    "              'Deposit':day_yes.values}\n",
    "             )\n",
    "print(day_total)\n",
    "\n",
    "df = df.set_index(['day_of_week'])\n",
    "print(df)\n",
    "\n",
    "ax = df.plot(kind='bar', title =\"Deposit situation vs day of week\", figsize=(14, 10), legend=True,rot=0, fontsize=10)\n",
    "ax.set_xlabel(\"day of week\", fontsize=14,rotation=0)\n",
    "ax.set_ylabel(\"Percentage\", fontsize=14,rotation=90)\n",
    "plt.show()"
   ]
  },
  {
   "cell_type": "markdown",
   "metadata": {},
   "source": [
    "### There is no dependence of day of week on the deposits and all weekdays about 11% people made deposits"
   ]
  },
  {
   "cell_type": "code",
   "execution_count": 35,
   "metadata": {},
   "outputs": [
    {
     "data": {
      "text/plain": [
       "<matplotlib.axes._subplots.AxesSubplot at 0xfd79e80>"
      ]
     },
     "execution_count": 35,
     "metadata": {},
     "output_type": "execute_result"
    },
    {
     "data": {
      "image/png": "[encoded data removed]",
      "text/plain": [
       "<matplotlib.figure.Figure at 0xc066c50>"
      ]
     },
     "metadata": {},
     "output_type": "display_data"
    }
   ],
   "source": [
    "fig = plt.figure(figsize=(14, 10))\n",
    "train['duration'].hist(bins=20)"
   ]
  },
  {
   "cell_type": "code",
   "execution_count": null,
   "metadata": {},
   "outputs": [],
   "source": [
    "#group duration into three categories: 0-102 short, 103-319 medium, and 320+ long\n",
    "bins = [0, 102, 319, 4918]\n",
    "labels = ['short', 'medium', 'long']\n",
    "bank_additional_full_df['durationrange'] = pd.cut(bank_additional_full_df.duration, bins, labels = labels,include_lowest = True)\n",
    "\n",
    "print(bank_additional_full_df[:10])"
   ]
  },
  {
   "cell_type": "code",
   "execution_count": null,
   "metadata": {},
   "outputs": [],
   "source": [
    "bank_duration=bank_additional_full_df.sort_values(by='durationrange')\n",
    "\n",
    "duration_total=bank_duration['durationrange'].value_counts()\n",
    "duration_total.sort_index(inplace=True)\n",
    "\n",
    "duration_no=bank_duration[bank_duration['y']=='no']['durationrange'].value_counts()\n",
    "duration_no.sort_index(inplace=True)\n",
    "\n",
    "duration_yes=bank_duration[bank_duration['y']=='yes']['durationrange'].value_counts()\n",
    "duration_yes.sort_index(inplace=True)\n",
    "\n",
    "print(duration_no)\n",
    "print(duration_yes)\n",
    "duration_no=duration_no/(duration_no + duration_yes)\n",
    "duration_yes=1-duration_no\n",
    "print(duration_no)\n",
    "print(duration_yes)"
   ]
  },
  {
   "cell_type": "code",
   "execution_count": null,
   "metadata": {},
   "outputs": [],
   "source": [
    "df = pd.DataFrame({\n",
    "              'durationrange':['short', 'medium', 'long'],\n",
    "              'No Deposit':duration_no.values,\n",
    "              'Deposit':duration_yes.values}\n",
    "             )\n",
    "\n",
    "print(duration_total)\n",
    "\n",
    "#df['day_of_week'] = pd.to_datetime(df.day, format='%b', errors='coerce').dt.day\n",
    "#df = df.sort_values(by='durationrange')\n",
    "df = df.set_index(['durationrange'])\n",
    "print(df)\n",
    "#df = df.groupby(df['month'])\n",
    "\n",
    "\n",
    "ax = df.plot(kind='bar', title =\"Deposit situation vs duration\", figsize=(14, 10), legend=True,rot=0, fontsize=10)\n",
    "ax.set_xlabel(\"duration\", fontsize=14,rotation=0)\n",
    "ax.set_ylabel(\"Percentage\", fontsize=14,rotation=90)\n",
    "plt.show()"
   ]
  },
  {
   "cell_type": "markdown",
   "metadata": {},
   "source": [
    "#### The relationship between duration and deposits: longer the duration, more fractions people made deposits."
   ]
  },
  {
   "cell_type": "code",
   "execution_count": null,
   "metadata": {},
   "outputs": [],
   "source": [
    "fig = plt.figure(figsize=(14, 10))\n",
    "bank_additional_full_df['campaign'].hist(bins=20)"
   ]
  },
  {
   "cell_type": "code",
   "execution_count": null,
   "metadata": {},
   "outputs": [],
   "source": [
    "#group campaign into three categories: 0-1 small, 2-5 medium, and 6+ large\n",
    "bins = [0, 1, 5, 56]\n",
    "labels = ['small', 'medium', 'large']\n",
    "bank_additional_full_df['campaignrange'] = pd.cut(bank_additional_full_df.campaign, bins, labels = labels,include_lowest = True)\n",
    "\n",
    "print(bank_additional_full_df[:10])"
   ]
  },
  {
   "cell_type": "code",
   "execution_count": null,
   "metadata": {},
   "outputs": [],
   "source": [
    "bank_campaign=bank_additional_full_df.sort_values(by='campaignrange')\n",
    "\n",
    "campaign_total=bank_campaign['campaignrange'].value_counts()\n",
    "campaign_total.sort_index(inplace=True)\n",
    "\n",
    "campaign_no=bank_campaign[bank_campaign['y']=='no']['campaignrange'].value_counts()\n",
    "campaign_no.sort_index(inplace=True)\n",
    "\n",
    "campaign_yes=bank_campaign[bank_campaign['y']=='yes']['campaignrange'].value_counts()\n",
    "campaign_yes.sort_index(inplace=True)\n",
    "\n",
    "print(campaign_no)\n",
    "print(campaign_yes)\n",
    "campaign_no=campaign_no/(campaign_no + campaign_yes)\n",
    "campaign_yes=1-campaign_no\n",
    "print(campaign_no)\n",
    "print(campaign_yes)"
   ]
  },
  {
   "cell_type": "code",
   "execution_count": null,
   "metadata": {},
   "outputs": [],
   "source": [
    "df = pd.DataFrame({\n",
    "              'campaignrange':['small', 'medium', 'large'],\n",
    "              'No Deposit':campaign_no.values,\n",
    "              'Deposit':campaign_yes.values}\n",
    "             )\n",
    "\n",
    "print(campaign_total)\n",
    "\n",
    "\n",
    "#df = df.sort_values(by='campaignrange')\n",
    "df = df.set_index(['campaignrange'])\n",
    "print(df)\n",
    "\n",
    "ax = df.plot(kind='bar', title =\"Deposit situation vs campaign\", figsize=(14, 10), legend=True,rot=0, fontsize=10)\n",
    "ax.set_xlabel(\"Campaign\", fontsize=14,rotation=0)\n",
    "ax.set_ylabel(\"Percentage\", fontsize=14,rotation=90)\n",
    "plt.show()"
   ]
  },
  {
   "cell_type": "markdown",
   "metadata": {},
   "source": [
    "### It shows that the bigger of the size of the campaign, less people made deposits."
   ]
  },
  {
   "cell_type": "code",
   "execution_count": null,
   "metadata": {},
   "outputs": [],
   "source": [
    "# pdays: number of days that passed by after the client was last contacted from a previous campaign (numeric; 999 means client was not previously contacted)\n",
    "fig = plt.figure(figsize=(14, 10))\n",
    "bank_additional_full_df['pdays'].hist(bins=20)\n",
    "print(bank_additional_full_df['pdays'].unique())"
   ]
  },
  {
   "cell_type": "code",
   "execution_count": null,
   "metadata": {},
   "outputs": [],
   "source": [
    "#group pdays into three categories: 0-6 short, 7-21 medium, 22-27 long, and 28-999 never\n",
    "bins = [0, 6, 21, 27, 999]\n",
    "labels = ['short', 'medium', 'long','never']\n",
    "bank_additional_full_df['pdaysrange'] = pd.cut(bank_additional_full_df.pdays, bins, labels = labels,include_lowest = True)\n",
    "\n",
    "print(bank_additional_full_df[:10])"
   ]
  },
  {
   "cell_type": "code",
   "execution_count": null,
   "metadata": {},
   "outputs": [],
   "source": [
    "bank_pdays=bank_additional_full_df.sort_values(by='pdaysrange')\n",
    "\n",
    "pdays_total=bank_pdays['pdaysrange'].value_counts()\n",
    "pdays_total.sort_index(inplace=True)\n",
    "\n",
    "pdays_no=bank_pdays[bank_pdays['y']=='no']['pdaysrange'].value_counts()\n",
    "pdays_no.sort_index(inplace=True)\n",
    "\n",
    "pdays_yes=bank_pdays[bank_pdays['y']=='yes']['pdaysrange'].value_counts()\n",
    "pdays_yes.sort_index(inplace=True)\n",
    "\n",
    "print(pdays_no)\n",
    "print(pdays_yes)\n",
    "pdays_no=pdays_no/(pdays_no + pdays_yes)\n",
    "pdays_yes=1-pdays_no\n",
    "print(pdays_no)\n",
    "print(pdays_yes)"
   ]
  },
  {
   "cell_type": "code",
   "execution_count": null,
   "metadata": {},
   "outputs": [],
   "source": [
    "df = pd.DataFrame({\n",
    "              'pdaysrange':['short', 'medium', 'long','never'],\n",
    "              'No Deposit':pdays_no.values,\n",
    "              'Deposit':pdays_yes.values}\n",
    "             )\n",
    "\n",
    "print(pdays_total)\n",
    "\n",
    "\n",
    "#df = df.sort_values(by='pdaysrange')\n",
    "df = df.set_index(['pdaysrange'])\n",
    "print(df)\n",
    "\n",
    "ax = df.plot(kind='bar', title =\"Deposit situation vs pdays\", figsize=(14, 10), legend=True,rot=0, fontsize=10)\n",
    "ax.set_xlabel(\"Pdays\", fontsize=14,rotation=0)\n",
    "ax.set_ylabel(\"Percentage\", fontsize=14,rotation=90)\n",
    "plt.show()"
   ]
  },
  {
   "cell_type": "markdown",
   "metadata": {},
   "source": [
    "### It can be seen that shorter the pdays,  more people made deposits."
   ]
  },
  {
   "cell_type": "code",
   "execution_count": null,
   "metadata": {},
   "outputs": [],
   "source": [
    "# previous: number of contacts performed before this campaign and for this client (numeric)\n",
    "fig = plt.figure(figsize=(14, 10))\n",
    "bank_additional_full_df['previous'].hist(bins=20)\n",
    "print(bank_additional_full_df['previous'].unique())"
   ]
  },
  {
   "cell_type": "code",
   "execution_count": null,
   "metadata": {},
   "outputs": [],
   "source": [
    "#group previous into three categories: 0-1 less, 2-5 medium, 6-7 more\n",
    "bins = [0, 1, 5, 7]\n",
    "labels = ['less', 'medium', 'more']\n",
    "bank_additional_full_df['previousrange'] = pd.cut(bank_additional_full_df.previous, bins, labels = labels,include_lowest = True)\n",
    "\n",
    "print(bank_additional_full_df[:10])"
   ]
  },
  {
   "cell_type": "code",
   "execution_count": null,
   "metadata": {},
   "outputs": [],
   "source": [
    "bank_previous=bank_additional_full_df.sort_values(by='previousrange')\n",
    "\n",
    "previous_total=bank_previous['previousrange'].value_counts()\n",
    "previous_total.sort_index(inplace=True)\n",
    "\n",
    "previous_no=bank_previous[bank_previous['y']=='no']['previousrange'].value_counts()\n",
    "previous_no.sort_index(inplace=True)\n",
    "\n",
    "previous_yes=bank_previous[bank_previous['y']=='yes']['previousrange'].value_counts()\n",
    "previous_yes.sort_index(inplace=True)\n",
    "\n",
    "print(previous_no)\n",
    "print(previous_yes)\n",
    "previous_no=previous_no/(previous_no + previous_yes)\n",
    "previous_yes=1-previous_no\n",
    "print(previous_no)\n",
    "print(previous_yes)"
   ]
  },
  {
   "cell_type": "code",
   "execution_count": null,
   "metadata": {},
   "outputs": [],
   "source": [
    "df = pd.DataFrame({\n",
    "              'previousrange':['less', 'medium', 'more'],\n",
    "              'No Deposit':previous_no.values,\n",
    "              'Deposit':previous_yes.values}\n",
    "             )\n",
    "\n",
    "print(previous_total)\n",
    "\n",
    "\n",
    "#df = df.sort_values(by='pdaysrange')\n",
    "df = df.set_index(['previousrange'])\n",
    "print(df)\n",
    "\n",
    "ax = df.plot(kind='bar', title =\"Deposit situation vs previous\", figsize=(14, 10), legend=True,rot=0, fontsize=10)\n",
    "ax.set_xlabel(\"previous\", fontsize=14,rotation=0)\n",
    "ax.set_ylabel(\"Percentage\", fontsize=14,rotation=90)\n",
    "plt.show()"
   ]
  },
  {
   "cell_type": "markdown",
   "metadata": {},
   "source": [
    "### It shows that the more previous contact, more people made deposits."
   ]
  },
  {
   "cell_type": "code",
   "execution_count": null,
   "metadata": {},
   "outputs": [],
   "source": [
    "# emp.var.rate: employment variation rate - quarterly indicator (numeric)\n",
    "fig = plt.figure(figsize=(14, 10))\n",
    "bank_additional_full_df['emp.var.rate'].hist(bins=10)\n",
    "print(bank_additional_full_df['emp.var.rate'].unique())"
   ]
  },
  {
   "cell_type": "code",
   "execution_count": null,
   "metadata": {},
   "outputs": [],
   "source": [
    "#group emp.var.rate into three categories: -3.40--2 small, -2-0 medium, 0-1.4 large\n",
    "bins = [-3.40, -2, 0, 1.4]\n",
    "labels = ['small', 'medium', 'large']\n",
    "bank_additional_full_df['emp.var.raterange'] = pd.cut(bank_additional_full_df['emp.var.rate'], bins, labels = labels,include_lowest = True)\n",
    "\n",
    "print(bank_additional_full_df[:10])"
   ]
  },
  {
   "cell_type": "code",
   "execution_count": null,
   "metadata": {},
   "outputs": [],
   "source": [
    "bank_emp=bank_additional_full_df.sort_values(by='emp.var.raterange')\n",
    "\n",
    "emp_total=bank_emp['emp.var.raterange'].value_counts()\n",
    "emp_total.sort_index(inplace=True)\n",
    "\n",
    "emp_no=bank_emp[bank_emp['y']=='no']['emp.var.raterange'].value_counts()\n",
    "emp_no.sort_index(inplace=True)\n",
    "\n",
    "emp_yes=bank_emp[bank_emp['y']=='yes']['emp.var.raterange'].value_counts()\n",
    "emp_yes.sort_index(inplace=True)\n",
    "\n",
    "print(emp_no)\n",
    "print(emp_yes)\n",
    "emp_no=emp_no/(emp_no + emp_yes)\n",
    "emp_yes=1-emp_no\n",
    "print(emp_no)\n",
    "print(emp_yes)"
   ]
  },
  {
   "cell_type": "code",
   "execution_count": null,
   "metadata": {},
   "outputs": [],
   "source": [
    "df = pd.DataFrame({\n",
    "              'emp.var.raterange':['small', 'medium', 'large'],\n",
    "              'No Deposit':emp_no.values,\n",
    "              'Deposit':emp_yes.values}\n",
    "             )\n",
    "\n",
    "print(emp_total)\n",
    "\n",
    "df = df.set_index(['emp.var.raterange'])\n",
    "print(df)\n",
    "\n",
    "ax = df.plot(kind='bar', title =\"Deposit situation vs emp.var.rate\", figsize=(14, 10), legend=True,rot=0, fontsize=10)\n",
    "ax.set_xlabel(\"emp.var.rate\", fontsize=14,rotation=0)\n",
    "ax.set_ylabel(\"Percentage\", fontsize=14,rotation=90)\n",
    "plt.show()"
   ]
  },
  {
   "cell_type": "markdown",
   "metadata": {},
   "source": [
    "### It is clear that increase of emp var rate leads to less people making deposits."
   ]
  },
  {
   "cell_type": "code",
   "execution_count": null,
   "metadata": {},
   "outputs": [],
   "source": [
    "# cons.price.idx: consumer price index - monthly indicator (numeric) \n",
    "fig = plt.figure(figsize=(14, 10))\n",
    "bank_additional_full_df['cons.price.idx'].hist(bins=20)\n",
    "print(bank_additional_full_df['cons.price.idx'].unique())"
   ]
  },
  {
   "cell_type": "code",
   "execution_count": null,
   "metadata": {},
   "outputs": [],
   "source": [
    "#group cons.price.idx into three categories: 92.2-93 small, 93-94 medium, 94-94.5 large\n",
    "bins = [92.2, 93, 94, 94.5]\n",
    "labels = ['small', 'medium', 'large']\n",
    "bank_additional_full_df['cons.price.idxrange'] = pd.cut(bank_additional_full_df['cons.price.idx'], bins, labels = labels,include_lowest = True)\n",
    "\n",
    "print(bank_additional_full_df[:10])"
   ]
  },
  {
   "cell_type": "code",
   "execution_count": null,
   "metadata": {},
   "outputs": [],
   "source": [
    "bank_consprice=bank_additional_full_df.sort_values(by='cons.price.idxrange')\n",
    "\n",
    "consprice_total=bank_consprice['cons.price.idxrange'].value_counts()\n",
    "consprice_total.sort_index(inplace=True)\n",
    "\n",
    "consprice_no=bank_consprice[bank_consprice['y']=='no']['cons.price.idxrange'].value_counts()\n",
    "consprice_no.sort_index(inplace=True)\n",
    "\n",
    "consprice_yes=bank_consprice[bank_consprice['y']=='yes']['cons.price.idxrange'].value_counts()\n",
    "consprice_yes.sort_index(inplace=True)\n",
    "\n",
    "print(consprice_no)\n",
    "print(consprice_yes)\n",
    "consprice_no=consprice_no/(consprice_no + consprice_yes)\n",
    "consprice_yes=1-consprice_no\n",
    "print(consprice_no)\n",
    "print(consprice_yes)"
   ]
  },
  {
   "cell_type": "code",
   "execution_count": null,
   "metadata": {},
   "outputs": [],
   "source": [
    "df = pd.DataFrame({\n",
    "              'cons.price.idxrange':['small', 'medium', 'large'],\n",
    "              'No Deposit':consprice_no.values,\n",
    "              'Deposit':consprice_yes.values}\n",
    "             )\n",
    "\n",
    "print(consprice_total)\n",
    "\n",
    "df = df.set_index(['cons.price.idxrange'])\n",
    "print(df)\n",
    "\n",
    "ax = df.plot(kind='bar', title =\"Deposit situation vs cons.price.idx\", figsize=(14, 10), legend=True,rot=0, fontsize=10)\n",
    "ax.set_xlabel(\"cons.price.idx\", fontsize=14,rotation=0)\n",
    "ax.set_ylabel(\"Percentage\", fontsize=14,rotation=90)\n",
    "plt.show()"
   ]
  },
  {
   "cell_type": "markdown",
   "metadata": {},
   "source": [
    "### The relationship between deposits and cons price idx is not apparrent."
   ]
  },
  {
   "cell_type": "code",
   "execution_count": null,
   "metadata": {},
   "outputs": [],
   "source": [
    "#  cons.conf.idx: consumer confidence index - monthly indicator (numeric)\n",
    "fig = plt.figure(figsize=(14, 10))\n",
    "bank_additional_full_df['cons.conf.idx'].hist(bins=20)\n",
    "print(bank_additional_full_df['cons.conf.idx'].unique())"
   ]
  },
  {
   "cell_type": "code",
   "execution_count": null,
   "metadata": {},
   "outputs": [],
   "source": [
    "#group cons.conf.idx into three categories: -50.8--45 small, -45--35 medium, -35--30 large\n",
    "bins = [-50.8, -45, -35, -30]\n",
    "labels = ['small', 'medium', 'large']\n",
    "bank_additional_full_df['cons.conf.idxrange'] = pd.cut(bank_additional_full_df['cons.conf.idx'], bins, labels = labels,include_lowest = True)\n",
    "\n",
    "print(bank_additional_full_df[:10])"
   ]
  },
  {
   "cell_type": "code",
   "execution_count": null,
   "metadata": {},
   "outputs": [],
   "source": [
    "bank_consconf=bank_additional_full_df.sort_values(by='cons.conf.idxrange')\n",
    "\n",
    "consconf_total=bank_consconf['cons.conf.idxrange'].value_counts()\n",
    "consconf_total.sort_index(inplace=True)\n",
    "\n",
    "consconf_no=bank_consconf[bank_consconf['y']=='no']['cons.conf.idxrange'].value_counts()\n",
    "consconf_no.sort_index(inplace=True)\n",
    "\n",
    "consconf_yes=bank_consconf[bank_consconf['y']=='yes']['cons.conf.idxrange'].value_counts()\n",
    "consconf_yes.sort_index(inplace=True)\n",
    "\n",
    "print(consconf_no)\n",
    "print(consconf_yes)\n",
    "consconf_no=consconf_no/(consconf_no + consconf_yes)\n",
    "consconf_yes=1-consconf_no\n",
    "print(consconf_no)\n",
    "print(consconf_yes)"
   ]
  },
  {
   "cell_type": "code",
   "execution_count": null,
   "metadata": {},
   "outputs": [],
   "source": [
    "df = pd.DataFrame({\n",
    "              'cons.conf.idxrange':['small', 'medium', 'large'],\n",
    "              'No Deposit':consconf_no.values,\n",
    "              'Deposit':consconf_yes.values}\n",
    "             )\n",
    "\n",
    "print(consconf_total)\n",
    "\n",
    "df = df.set_index(['cons.conf.idxrange'])\n",
    "print(df)\n",
    "\n",
    "ax = df.plot(kind='bar', title =\"Deposit situation vs cons.conf.idx\", figsize=(14, 10), legend=True,rot=0, fontsize=10)\n",
    "ax.set_xlabel(\"cons.conf.idx\", fontsize=14,rotation=0)\n",
    "ax.set_ylabel(\"Percentage\", fontsize=14,rotation=90)\n",
    "plt.show()"
   ]
  },
  {
   "cell_type": "markdown",
   "metadata": {},
   "source": [
    "### It seems that the larger the cons conf idx, more people made deposits."
   ]
  },
  {
   "cell_type": "code",
   "execution_count": null,
   "metadata": {},
   "outputs": [],
   "source": [
    "# euribor3m: euribor 3 month rate - daily indicator (numeric)\n",
    "fig = plt.figure(figsize=(14, 10))\n",
    "bank_additional_full_df['euribor3m'].hist(bins=20)\n",
    "#print(bank_additional_full_df['euribor3m'].unique())"
   ]
  },
  {
   "cell_type": "code",
   "execution_count": null,
   "metadata": {},
   "outputs": [],
   "source": [
    "#group euribor3m into three categories: 0.63-2 small, 2-4 medium, 4-5.05 large\n",
    "bins = [0.63,2,4,5.05]\n",
    "labels = ['small', 'medium', 'large']\n",
    "bank_additional_full_df['euribor3mrange'] = pd.cut(bank_additional_full_df['euribor3m'], bins, labels = labels,include_lowest = True)\n",
    "\n",
    "print(bank_additional_full_df[:10])"
   ]
  },
  {
   "cell_type": "code",
   "execution_count": null,
   "metadata": {},
   "outputs": [],
   "source": [
    "bank_euribor=bank_additional_full_df.sort_values(by='euribor3mrange')\n",
    "\n",
    "euribor_total=bank_euribor['euribor3mrange'].value_counts()\n",
    "euribor_total.sort_index(inplace=True)\n",
    "\n",
    "euribor_no=bank_euribor[bank_euribor['y']=='no']['euribor3mrange'].value_counts()\n",
    "euribor_no.sort_index(inplace=True)\n",
    "\n",
    "euribor_yes=bank_euribor[bank_euribor['y']=='yes']['euribor3mrange'].value_counts()\n",
    "euribor_yes.sort_index(inplace=True)\n",
    "\n",
    "print(euribor_no)\n",
    "print(euribor_yes)\n",
    "euribor_no=euribor_no/(euribor_no + euribor_yes)\n",
    "euribor_yes=1-euribor_no\n",
    "print(euribor_no)\n",
    "print(euribor_yes)"
   ]
  },
  {
   "cell_type": "code",
   "execution_count": null,
   "metadata": {},
   "outputs": [],
   "source": [
    "df = pd.DataFrame({\n",
    "              'euribor3mrange':['small', 'medium', 'large'],\n",
    "              'No Deposit':euribor_no.values,\n",
    "              'Deposit':euribor_yes.values}\n",
    "             )\n",
    "\n",
    "print(euribor_total)\n",
    "\n",
    "df = df.set_index(['euribor3mrange'])\n",
    "print(df)\n",
    "\n",
    "ax = df.plot(kind='bar', title =\"Deposit situation vs euribor3m\", figsize=(14, 10), legend=True,rot=0, fontsize=10)\n",
    "ax.set_xlabel(\"euribor3m\", fontsize=14,rotation=0)\n",
    "ax.set_ylabel(\"Percentage\", fontsize=14,rotation=90)\n",
    "plt.show()"
   ]
  },
  {
   "cell_type": "markdown",
   "metadata": {},
   "source": [
    "### It is obvious that larger of euribor 3 month rate, less people made deposits."
   ]
  },
  {
   "cell_type": "code",
   "execution_count": null,
   "metadata": {},
   "outputs": [],
   "source": [
    "#  nr.employed: number of employees - quarterly indicator (numeric)\n",
    "fig = plt.figure(figsize=(14, 10))\n",
    "bank_additional_full_df['nr.employed'].hist(bins=20)\n",
    "print(bank_additional_full_df['nr.employed'].unique())"
   ]
  },
  {
   "cell_type": "code",
   "execution_count": null,
   "metadata": {},
   "outputs": [],
   "source": [
    "# group nr.employed into three categories: 4963-5050 small, 5050-5200 medium, 5200-5228 large\n",
    "bins = [4960,5050,5200,5229]\n",
    "labels = ['small', 'medium', 'large']\n",
    "bank_additional_full_df['nr.employedrange'] = pd.cut(bank_additional_full_df['nr.employed'], bins, labels = labels,include_lowest = True)\n",
    "\n",
    "print(bank_additional_full_df[:10])"
   ]
  },
  {
   "cell_type": "code",
   "execution_count": null,
   "metadata": {},
   "outputs": [],
   "source": [
    "bank_numemp=bank_additional_full_df.sort_values(by='nr.employedrange')\n",
    "\n",
    "numemp_total=bank_numemp['nr.employedrange'].value_counts()\n",
    "numemp_total.sort_index(inplace=True)\n",
    "print(len(bank_numemp))\n",
    "numemp_no=bank_numemp[bank_numemp['y']=='no']['nr.employedrange'].value_counts()\n",
    "numemp_no.sort_index(inplace=True)\n",
    "\n",
    "numemp_yes=bank_numemp[bank_numemp['y']=='yes']['nr.employedrange'].value_counts()\n",
    "numemp_yes.sort_index(inplace=True)\n",
    "\n",
    "print(numemp_no)\n",
    "print(numemp_yes)\n",
    "numemp_no=numemp_no/(numemp_no + numemp_yes)\n",
    "numemp_yes=1-numemp_no\n",
    "print(numemp_no)\n",
    "print(numemp_yes)"
   ]
  },
  {
   "cell_type": "code",
   "execution_count": null,
   "metadata": {},
   "outputs": [],
   "source": [
    "df = pd.DataFrame({\n",
    "              'nr.employedrange':['small', 'medium', 'large'],\n",
    "              'No Deposit':numemp_no.values,\n",
    "              'Deposit':numemp_yes.values}\n",
    "             )\n",
    "\n",
    "print(numemp_total)\n",
    "\n",
    "df = df.set_index(['nr.employedrange'])\n",
    "print(df)\n",
    "\n",
    "ax = df.plot(kind='bar', title =\"Deposit situation vs nr.employed\", figsize=(14, 10), legend=True,rot=0, fontsize=10)\n",
    "ax.set_xlabel(\"nr.employed\", fontsize=14,rotation=0)\n",
    "ax.set_ylabel(\"Percentage\", fontsize=14,rotation=90)\n",
    "plt.show()"
   ]
  },
  {
   "cell_type": "markdown",
   "metadata": {},
   "source": [
    "### It is apparrent that larger the number of employed, the less people made deposits."
   ]
  },
  {
   "cell_type": "code",
   "execution_count": null,
   "metadata": {},
   "outputs": [],
   "source": [
    "#following are calculations for correlation matrix between all vaiables of dataset bank_additional_full_df\n",
    "\n",
    "#Corelation Matrix\n",
    "\n",
    "sns.set(style=\"white\")\n",
    "\n",
    "df_corr= bank_additional_full_df[:]\n",
    "# Compute the correlation matrix\n",
    "corr = df_corr.dropna().corr()\n",
    "\n",
    "# Generate a mask for the upper triangle\n",
    "mask = np.zeros_like(corr, dtype=np.bool)\n",
    "#mask[np.triu_indices_from(mask)] = True\n",
    "\n",
    "# Set up the matplotlib figure\n",
    "fig, ax = plt.subplots(figsize=(30, 15))\n",
    "#fig, ax = plt.subplots(figsize=(10, 10))\n",
    "# Generate a custom diverging colormap\n",
    "cmap = sns.diverging_palette(220, 10, as_cmap=True)\n",
    "\n",
    "# Draw the heatmap with the mask and correct aspect ratio\n",
    "sns.heatmap(corr, mask=mask, cmap=cmap, square=True, linewidths=.5, ax=ax)\n",
    "\n",
    "print(corr)\n"
   ]
  },
  {
   "cell_type": "markdown",
   "metadata": {},
   "source": [
    "### We see that there is strong negative correlation between Pdays and previous (-0.572977), more times of previous contacts, less the pdays to make deposits. Another pair is number of employed and euribor3m and they have strong positively correlated (0.949181). "
   ]
  },
  {
   "cell_type": "markdown",
   "metadata": {},
   "source": [
    "## Logistic Regression:"
   ]
  },
  {
   "cell_type": "code",
   "execution_count": null,
   "metadata": {},
   "outputs": [],
   "source": [
    "data_vars=bank_additional_full_df.columns.values.tolist()"
   ]
  },
  {
   "cell_type": "code",
   "execution_count": null,
   "metadata": {},
   "outputs": [],
   "source": [
    "#bank_additional_full_df['job']=pd.get_dummies(bank_additional_full_df.job)\n",
    "print(bank_additional_full_df['job'].head(150))"
   ]
  },
  {
   "cell_type": "code",
   "execution_count": null,
   "metadata": {},
   "outputs": [],
   "source": [
    "bank_additional_full_df['job'].unique()"
   ]
  },
  {
   "cell_type": "code",
   "execution_count": null,
   "metadata": {},
   "outputs": [],
   "source": [
    "print(data_vars)"
   ]
  },
  {
   "cell_type": "code",
   "execution_count": null,
   "metadata": {},
   "outputs": [],
   "source": [
    "removal_vars=['marital','age', 'agerange', 'durationrange', 'campaignrange', 'pdaysrange', 'previousrange', 'emp.var.raterange', 'cons.price.idxrange', 'cons.conf.idxrange', 'euribor3mrange', 'nr.employedrange']\n",
    "keep=[i for i in data_vars if i not in removal_vars]\n",
    "final_data=bank_additional_full_df[keep]\n",
    "final_data.columns.values"
   ]
  },
  {
   "cell_type": "code",
   "execution_count": null,
   "metadata": {},
   "outputs": [],
   "source": [
    "data_final_vars=final_data.columns.values.tolist()\n",
    "y=['y']\n",
    "X=[i for i in data_final_vars if i not in y]\n",
    "print(final_data[X].head())"
   ]
  },
  {
   "cell_type": "code",
   "execution_count": null,
   "metadata": {},
   "outputs": [],
   "source": [
    "from sklearn import datasets\n",
    "from sklearn.feature_selection import RFE\n",
    "from sklearn.linear_model import LogisticRegression\n",
    "\n",
    "logreg = LogisticRegression()\n",
    "#logreg.fit(final_data[X], final_data[y])\n",
    "#score=logreg.score(final_data[X], final_data[y])\n",
    "#print(score)\n",
    "    \n",
    "#import statsmodels.api as sm\n",
    "#logit_model=sm.Logit(y,X)\n",
    "#result=logit_model.fit()\n",
    "#print(result.summary())\n",
    "\n",
    "rfe = RFE(logreg, 18)\n",
    "rfe = rfe.fit(final_data[X], final_data[y] )\n",
    "print(rfe.support_)\n",
    "print(rfe.ranking_)"
   ]
  },
  {
   "cell_type": "code",
   "execution_count": null,
   "metadata": {},
   "outputs": [],
   "source": []
  }
 ],
 "metadata": {
  "kernelspec": {
   "display_name": "Python 3",
   "language": "python",
   "name": "python3"
  },
  "language_info": {
   "codemirror_mode": {
    "name": "ipython",
    "version": 3
   },
   "file_extension": ".py",
   "mimetype": "text/x-python",
   "name": "python",
   "nbconvert_exporter": "python",
   "pygments_lexer": "ipython3",
   "version": "3.6.4"
  }
 },
 "nbformat": 4,
 "nbformat_minor": 2
}
