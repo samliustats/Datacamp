{
 "cells": [
  {
   "cell_type": "markdown",
   "metadata": {},
   "source": [
    "# Prediction of parking violations in New York City\n"
   ]
  },
  {
   "cell_type": "code",
   "execution_count": 1,
   "metadata": {
    "collapsed": true
   },
   "outputs": [],
   "source": [
    "import matplotlib.pyplot as plt\n",
    "import pandas as pd\n",
    "import numpy as np\n",
    "from datetime import datetime, date, time\n",
    "import datetime\n",
    "from IPython.display import Image\n",
    "from sqlalchemy import create_engine\n",
    "import time"
   ]
  },
  {
   "cell_type": "code",
   "execution_count": 2,
   "metadata": {
    "collapsed": true
   },
   "outputs": [],
   "source": [
    "%matplotlib inline"
   ]
  },
  {
   "cell_type": "code",
   "execution_count": 4,
   "metadata": {
    "scrolled": true
   },
   "outputs": [
    {
     "name": "stdout",
     "output_type": "stream",
     "text": [
      "<class 'pandas.core.frame.DataFrame'>\n",
      "RangeIndex: 5 entries, 0 to 4\n",
      "Data columns (total 43 columns):\n",
      "Summons Number                       5 non-null int64\n",
      "Plate ID                             5 non-null object\n",
      "Registration State                   5 non-null object\n",
      "Plate Type                           5 non-null object\n",
      "Issue Date                           5 non-null object\n",
      "Violation Code                       5 non-null int64\n",
      "Vehicle Body Type                    5 non-null object\n",
      "Vehicle Make                         5 non-null object\n",
      "Issuing Agency                       5 non-null object\n",
      "Street Code1                         5 non-null int64\n",
      "Street Code2                         5 non-null int64\n",
      "Street Code3                         5 non-null int64\n",
      "Vehicle Expiration Date              5 non-null int64\n",
      "Violation Location                   2 non-null float64\n",
      "Violation Precinct                   5 non-null int64\n",
      "Issuer Precinct                      5 non-null int64\n",
      "Issuer Code                          5 non-null int64\n",
      "Issuer Command                       2 non-null object\n",
      "Issuer Squad                         2 non-null object\n",
      "Violation Time                       5 non-null object\n",
      "Time First Observed                  0 non-null float64\n",
      "Violation County                     5 non-null object\n",
      "Violation In Front Of Or Opposite    2 non-null object\n",
      "House Number                         2 non-null float64\n",
      "Street Name                          5 non-null object\n",
      "Intersecting Street                  3 non-null object\n",
      "Date First Observed                  5 non-null int64\n",
      "Law Section                          5 non-null int64\n",
      "Sub Division                         5 non-null object\n",
      "Violation Legal Code                 3 non-null object\n",
      "Days Parking In Effect               2 non-null object\n",
      "From Hours In Effect                 2 non-null object\n",
      "To Hours In Effect                   2 non-null object\n",
      "Vehicle Color                        5 non-null object\n",
      "Unregistered Vehicle?                0 non-null float64\n",
      "Vehicle Year                         5 non-null int64\n",
      "Meter Number                         0 non-null float64\n",
      "Feet From Curb                       5 non-null int64\n",
      "Violation Post Code                  2 non-null object\n",
      "Violation Description                5 non-null object\n",
      "No Standing or Stopping Violation    0 non-null float64\n",
      "Hydrant Violation                    0 non-null float64\n",
      "Double Parking Violation             0 non-null float64\n",
      "dtypes: float64(8), int64(13), object(22)\n",
      "memory usage: 1.8+ KB\n",
      "None\n"
     ]
    }
   ],
   "source": [
    "file='E:\\\\DS18\\\\datacamp\\\\NYC\\\\ParkingViolations2017.csv'\n",
    "df=pd.read_csv(file,nrows=5)\n",
    "print(df.info())"
   ]
  },
  {
   "cell_type": "code",
   "execution_count": null,
   "metadata": {},
   "outputs": [
    {
     "name": "stdout",
     "output_type": "stream",
     "text": [
      "591.272255897522"
     ]
    }
   ],
   "source": [
    "start = time.time()\n",
    "\n",
    "mylist = []\n",
    "\n",
    "for chunk in  pd.read_csv(file,low_memory=False, chunksize=10**6):\n",
    "    mylist.append(chunk)\n",
    "\n",
    "df = pd.concat(mylist, axis= 0)\n",
    "del mylist\n",
    "\n",
    "\n",
    "end = time.time()\n",
    "elapsed = end - start\n",
    "print(elapsed)\n",
    "print(df.shape)\n",
    "new=df.drop_duplicates()\n",
    "new=new.dropna(axis=1, how='all')\n",
    "print(new.shape)\n"
   ]
  },
  {
   "cell_type": "code",
   "execution_count": null,
   "metadata": {
    "collapsed": true
   },
   "outputs": [],
   "source": [
    "rank_st = new['Registration State'].value_counts()\n",
    "rank_st.sort_values(ascending=False)\n",
    "top10 = rank_st[:10]\n",
    "top10.plot(kind=\"bar\", title=\"10 states with most violations in 2017\",rot=-60)\n",
    "#string = ', Vancouver, Canada'\n",
    "top10_list = top10.index\n",
    "for idx in top10_list:\n",
    "    print(str(idx))\n",
    "#print(rank_st[-10:])"
   ]
  },
  {
   "cell_type": "markdown",
   "metadata": {},
   "source": [
    "# Parking tickets\n",
    "Data set description : \n",
    "\n",
    "The City of Vancouver regulates parking to balance the needs of residents, commuters, and visitors.\n",
    "\n",
    "This data set includes parking ticket records data on a year-by-year basis beginning in 2010.\n",
    "\n",
    "Note: Ticket issued location information was aggregated to 100-block unit level.\n",
    "\n",
    "Attributes:\n",
    "\n",
    "    Hundred_Block: Block level of the street where the infraction occurred. For example: 1 Main Street means 100 Main Street.\n",
    "    Street: Name of the street where the infraction occurred\n",
    "    Date: Date the infraction occurred in month/day/year format\n",
    "    Bylaw: Specific parking bylaw which the parking ticket was issued under\n",
    "    Section: Specific section of the bylaw which the infraction pertains\n",
    "    Status: Status of the parking ticket\n",
    "            I = Issued\n",
    "            W = Warning\n",
    "            V = Void\n",
    "            R = Cancelled due to Paid by Phone\n",
    "    Description: Short description of the infraction\n",
    "\n",
    "website for data:  http://data.vancouver.ca/datacatalogue/parking-tickets.htm\n"
   ]
  },
  {
   "cell_type": "code",
   "execution_count": null,
   "metadata": {
    "collapsed": true,
    "scrolled": true
   },
   "outputs": [],
   "source": []
  },
  {
   "cell_type": "code",
   "execution_count": null,
   "metadata": {
    "collapsed": true
   },
   "outputs": [],
   "source": []
  },
  {
   "cell_type": "code",
   "execution_count": null,
   "metadata": {
    "collapsed": true
   },
   "outputs": [],
   "source": [
    "#new['month'] = pd.DatetimeIndex(new['DATE']).month\n",
    "#new['dayofweek']=pd.DatetimeIndex(new['DATE']).dayofweek"
   ]
  },
  {
   "cell_type": "code",
   "execution_count": null,
   "metadata": {
    "collapsed": true
   },
   "outputs": [],
   "source": [
    "new.info()"
   ]
  },
  {
   "cell_type": "code",
   "execution_count": null,
   "metadata": {
    "collapsed": true
   },
   "outputs": [],
   "source": [
    "\n"
   ]
  },
  {
   "cell_type": "markdown",
   "metadata": {},
   "source": [
    "In the year of 2016, we can see from above figure that there are over 20,000 violations on Broadway Street W. and there are about 8500 violations on Alberni Street. To visually identify these 10 most violations streets, the google map is utilized to show these locations in city of Vancouver in Canada."
   ]
  },
  {
   "cell_type": "code",
   "execution_count": null,
   "metadata": {
    "collapsed": true
   },
   "outputs": [],
   "source": [
    "Image(filename=\"C:/Users/VT/Datacamp/Tenviost.jpg\")"
   ]
  },
  {
   "cell_type": "markdown",
   "metadata": {},
   "source": [
    "From the map shown above, the most parking tickets issued is on the Broadway Stree W. and the third is issued on 4th Ave. W, these locations are on the southwest part of the Vancouver city. The other 7 most violations occurred on the center of the city. the wikipedia describes the Broadyway Street W as in the link: \n",
    "https://en.wikipedia.org/wiki/Broadway_(Vancouver)\n",
    "along the street, there are  University of British Columbia (UBC), low-rise apartment blocks and small supermarkets and  rental suites. \n",
    "Therefore it is very buzziling area and there are lots of activities in these area and thereby leads lots of traffic and parking activities. The contribution of parking violation from university will be explored as the time vs violations # at these locations. "
   ]
  },
  {
   "cell_type": "code",
   "execution_count": null,
   "metadata": {
    "collapsed": true,
    "scrolled": true
   },
   "outputs": [],
   "source": [
    "top1=new.loc[new['STREET']=='Broadway St. W.']\n",
    "num=top1.groupby(['month'])['month'].count()\n",
    "num.plot(kind=\"bar\", title=\"Violations in 12 months on Broadway St. W.\",rot=0)"
   ]
  },
  {
   "cell_type": "markdown",
   "metadata": {
    "collapsed": true
   },
   "source": [
    "The figure shown above is the 12 month violation information on Broadway St. W., it can be seen that during the summer months(June-September) the violations are the lowest for all year of 2016. This may be resulted from the during the summer season the UBC university is closed and therefore there are less automobiles near the street and less violations."
   ]
  },
  {
   "cell_type": "code",
   "execution_count": null,
   "metadata": {
    "collapsed": true,
    "scrolled": true
   },
   "outputs": [],
   "source": [
    "bottom10 = rank_st[-10:]\n",
    "bottom10.plot(kind=\"bar\", title=\"10 streets with least violations\",rot=-60)"
   ]
  },
  {
   "cell_type": "markdown",
   "metadata": {},
   "source": [
    "Create the bar chart for column 'Street' and shown above are the least tickets issued 10 streets (they all had less than 1 ticket issued, really). "
   ]
  },
  {
   "cell_type": "code",
   "execution_count": null,
   "metadata": {
    "collapsed": true,
    "scrolled": true
   },
   "outputs": [],
   "source": [
    "top10 = new['DESCRIPTION'].value_counts()\n",
    "top10.sort_values(ascending=False)\n",
    "top10 = top10[:10]\n",
    "top10.plot(kind=\"pie\")"
   ]
  },
  {
   "cell_type": "markdown",
   "metadata": {
    "collapsed": true
   },
   "source": [
    "Create pie chart for column 'description' to find the most popular reasons getting a ticket. As shown in pie chart, the flashing 4 zeros is the leading reason, meter ran out of money for driver to legally keep the spot. the No Stopping is the second leading cause for the tickets which is pretty tricky since by law it is illegal to pick up, dropoff people and load and unload things in this zone. "
   ]
  },
  {
   "cell_type": "code",
   "execution_count": null,
   "metadata": {
    "collapsed": true
   },
   "outputs": [],
   "source": [
    "rank_top1=new.loc[new['STREET']==top10_list[0],'DESCRIPTION'].value_counts()\n",
    "rank_top1.sort_values(ascending=False)\n",
    "rank_top1[:5].plot(kind=\"pie\", title='Violations on Broadway St.')"
   ]
  },
  {
   "cell_type": "code",
   "execution_count": null,
   "metadata": {
    "collapsed": true
   },
   "outputs": [],
   "source": [
    "rank_top2=new.loc[new['STREET']==top10_list[1],'DESCRIPTION'].value_counts()\n",
    "rank_top2.sort_values(ascending=False)\n",
    "rank_top2[:5].plot(kind=\"pie\", title='Violations on Homer St.',fontsize=10)"
   ]
  },
  {
   "cell_type": "code",
   "execution_count": null,
   "metadata": {
    "collapsed": true
   },
   "outputs": [],
   "source": [
    "rank_top3=new.loc[new['STREET']==top10_list[2],'DESCRIPTION'].value_counts()\n",
    "rank_top3.sort_values(ascending=False)\n",
    "rank_top3[:5].plot(kind=\"pie\", title='Violations on 4th Ave W.')"
   ]
  },
  {
   "cell_type": "markdown",
   "metadata": {},
   "source": [
    "Above three pie charts tell that the flashing 4 zeros violation is the leading factor to get a tickets on streets where most violations occurred. Next we are going to explore the ranking of the flashing 4 zeros for all streets in the city. "
   ]
  },
  {
   "cell_type": "code",
   "execution_count": null,
   "metadata": {
    "collapsed": true
   },
   "outputs": [],
   "source": [
    "rank_flash=new.loc[new['DESCRIPTION']=='FLASHING 4 ZEROS','STREET'].value_counts()\n",
    "rank_flash.sort_values(ascending=False)\n",
    "rank_flash[:10].plot(kind=\"bar\", title=\"Ranking of Flashing 4 zeros on streets\",rot=60)"
   ]
  },
  {
   "cell_type": "markdown",
   "metadata": {},
   "source": [
    "From figure, it shows that the most flashing violations occurred on Broadway street, followed by Homer and 4the Ave street. Therefore, it is of high business values for parking meter companies to set up meters on these streets. By doing this parking meter comapnies will have better profits on these street and at the same time to get rid of extra meters on those streets having much fewer or none flashing violations. "
   ]
  },
  {
   "cell_type": "code",
   "execution_count": null,
   "metadata": {
    "collapsed": true
   },
   "outputs": [],
   "source": [
    "rank_dayofweek = new['dayofweek'].value_counts()\n",
    "rank_dayofweek.sort_values(ascending=False)\n",
    "rank_dayofweek.plot(kind=\"bar\", title=\"Violation # in day of week(Mon=0,Sun=6)\",rot=0)\n",
    "#The day of the week with Monday=0, Sunday=6\n"
   ]
  },
  {
   "cell_type": "markdown",
   "metadata": {},
   "source": [
    "The figure above shows that most tickets were issued on Wednesday(over 70000 tickets issued), imaging on this hump day, people are super busy and getting really tired therefore it was quite easy for them to forget what happened to their cars that parked on streets.  On Saturday and Sunday there were least tickets issued this can be explained that most people are taken off during holidays and therefore there are much fewer people on streets. "
   ]
  },
  {
   "cell_type": "code",
   "execution_count": null,
   "metadata": {
    "collapsed": true
   },
   "outputs": [],
   "source": []
  }
 ],
 "metadata": {
  "kernelspec": {
   "display_name": "Python 3",
   "language": "python",
   "name": "python3"
  },
  "language_info": {
   "codemirror_mode": {
    "name": "ipython",
    "version": 3
   },
   "file_extension": ".py",
   "mimetype": "text/x-python",
   "name": "python",
   "nbconvert_exporter": "python",
   "pygments_lexer": "ipython3",
   "version": "3.6.4"
  }
 },
 "nbformat": 4,
 "nbformat_minor": 2
}
