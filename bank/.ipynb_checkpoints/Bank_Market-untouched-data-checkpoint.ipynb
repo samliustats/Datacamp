{
 "cells": [
  {
   "cell_type": "code",
   "execution_count": 1,
   "metadata": {},
   "outputs": [],
   "source": [
    "#import all necessary packages\n",
    "import numpy as np\n",
    "import pandas as pd\n",
    "from pandas import Series, DataFrame\n",
    "import matplotlib as mpl\n",
    "import matplotlib.pyplot as plt\n",
    "import seaborn as sns \n",
    "from pylab import plot, show\n",
    "import seaborn as sns\n",
    "import scipy.stats as stats\n",
    "from sklearn.linear_model import LogisticRegression\n",
    "from sklearn.model_selection import train_test_split\n",
    "import statsmodels.discrete.discrete_model as sm\n",
    "from sklearn import datasets\n",
    "from sklearn.feature_selection import RFE\n",
    "from sklearn.metrics import roc_auc_score\n",
    "from sklearn.metrics import roc_curve\n",
    "from sklearn.model_selection import GridSearchCV\n",
    "from imblearn.over_sampling import SMOTE\n",
    "from sklearn.metrics import confusion_matrix\n",
    "from sklearn.metrics import classification_report\n",
    "\n",
    "%matplotlib inline"
   ]
  },
  {
   "cell_type": "code",
   "execution_count": 2,
   "metadata": {},
   "outputs": [],
   "source": [
    "#Reading the csv files\n",
    "df1 = pd.read_csv('./bank-additional/bank-additional-full.csv',sep=';')\n",
    "df2 = pd.read_csv('./bank-additional/bank-additional.csv',sep=';')\n",
    "data = pd.concat([df1,df2])\n",
    "data1 = data\n"
   ]
  },
  {
   "cell_type": "code",
   "execution_count": 3,
   "metadata": {},
   "outputs": [
    {
     "name": "stdout",
     "output_type": "stream",
     "text": [
      "<class 'pandas.core.frame.DataFrame'>\n",
      "Int64Index: 45307 entries, 0 to 4118\n",
      "Data columns (total 21 columns):\n",
      "age               45307 non-null int64\n",
      "job               45307 non-null object\n",
      "marital           45307 non-null object\n",
      "education         45307 non-null object\n",
      "default           45307 non-null object\n",
      "housing           45307 non-null object\n",
      "loan              45307 non-null object\n",
      "contact           45307 non-null object\n",
      "month             45307 non-null object\n",
      "day_of_week       45307 non-null object\n",
      "duration          45307 non-null int64\n",
      "campaign          45307 non-null int64\n",
      "pdays             45307 non-null int64\n",
      "previous          45307 non-null int64\n",
      "poutcome          45307 non-null object\n",
      "emp.var.rate      45307 non-null float64\n",
      "cons.price.idx    45307 non-null float64\n",
      "cons.conf.idx     45307 non-null float64\n",
      "euribor3m         45307 non-null float64\n",
      "nr.employed       45307 non-null float64\n",
      "y                 45307 non-null object\n",
      "dtypes: float64(5), int64(5), object(11)\n",
      "memory usage: 7.6+ MB\n"
     ]
    }
   ],
   "source": [
    "data.info()"
   ]
  },
  {
   "cell_type": "code",
   "execution_count": 4,
   "metadata": {},
   "outputs": [
    {
     "data": {
      "text/html": [
       "<div>\n",
       "<style scoped>\n",
       "    .dataframe tbody tr th:only-of-type {\n",
       "        vertical-align: middle;\n",
       "    }\n",
       "\n",
       "    .dataframe tbody tr th {\n",
       "        vertical-align: top;\n",
       "    }\n",
       "\n",
       "    .dataframe thead th {\n",
       "        text-align: right;\n",
       "    }\n",
       "</style>\n",
       "<table border=\"1\" class=\"dataframe\">\n",
       "  <thead>\n",
       "    <tr style=\"text-align: right;\">\n",
       "      <th></th>\n",
       "      <th>age</th>\n",
       "      <th>duration</th>\n",
       "      <th>campaign</th>\n",
       "      <th>pdays</th>\n",
       "      <th>previous</th>\n",
       "      <th>emp.var.rate</th>\n",
       "      <th>cons.price.idx</th>\n",
       "      <th>cons.conf.idx</th>\n",
       "      <th>euribor3m</th>\n",
       "      <th>nr.employed</th>\n",
       "    </tr>\n",
       "  </thead>\n",
       "  <tbody>\n",
       "    <tr>\n",
       "      <th>count</th>\n",
       "      <td>45307.000000</td>\n",
       "      <td>45307.000000</td>\n",
       "      <td>45307.000000</td>\n",
       "      <td>45307.000000</td>\n",
       "      <td>45307.000000</td>\n",
       "      <td>45307.000000</td>\n",
       "      <td>45307.000000</td>\n",
       "      <td>45307.000000</td>\n",
       "      <td>45307.000000</td>\n",
       "      <td>45307.000000</td>\n",
       "    </tr>\n",
       "    <tr>\n",
       "      <th>mean</th>\n",
       "      <td>40.032203</td>\n",
       "      <td>258.148917</td>\n",
       "      <td>2.564835</td>\n",
       "      <td>962.288785</td>\n",
       "      <td>0.174543</td>\n",
       "      <td>0.082166</td>\n",
       "      <td>93.576032</td>\n",
       "      <td>-40.502282</td>\n",
       "      <td>3.621297</td>\n",
       "      <td>5166.985525</td>\n",
       "    </tr>\n",
       "    <tr>\n",
       "      <th>std</th>\n",
       "      <td>10.411407</td>\n",
       "      <td>258.864200</td>\n",
       "      <td>2.752261</td>\n",
       "      <td>187.370863</td>\n",
       "      <td>0.499364</td>\n",
       "      <td>1.570231</td>\n",
       "      <td>0.578881</td>\n",
       "      <td>4.625101</td>\n",
       "      <td>1.734350</td>\n",
       "      <td>72.380791</td>\n",
       "    </tr>\n",
       "    <tr>\n",
       "      <th>min</th>\n",
       "      <td>17.000000</td>\n",
       "      <td>0.000000</td>\n",
       "      <td>1.000000</td>\n",
       "      <td>0.000000</td>\n",
       "      <td>0.000000</td>\n",
       "      <td>-3.400000</td>\n",
       "      <td>92.201000</td>\n",
       "      <td>-50.800000</td>\n",
       "      <td>0.634000</td>\n",
       "      <td>4963.600000</td>\n",
       "    </tr>\n",
       "    <tr>\n",
       "      <th>25%</th>\n",
       "      <td>32.000000</td>\n",
       "      <td>102.000000</td>\n",
       "      <td>1.000000</td>\n",
       "      <td>999.000000</td>\n",
       "      <td>0.000000</td>\n",
       "      <td>-1.800000</td>\n",
       "      <td>93.075000</td>\n",
       "      <td>-42.700000</td>\n",
       "      <td>1.344000</td>\n",
       "      <td>5099.100000</td>\n",
       "    </tr>\n",
       "    <tr>\n",
       "      <th>50%</th>\n",
       "      <td>38.000000</td>\n",
       "      <td>180.000000</td>\n",
       "      <td>2.000000</td>\n",
       "      <td>999.000000</td>\n",
       "      <td>0.000000</td>\n",
       "      <td>1.100000</td>\n",
       "      <td>93.749000</td>\n",
       "      <td>-41.800000</td>\n",
       "      <td>4.857000</td>\n",
       "      <td>5191.000000</td>\n",
       "    </tr>\n",
       "    <tr>\n",
       "      <th>75%</th>\n",
       "      <td>47.000000</td>\n",
       "      <td>319.000000</td>\n",
       "      <td>3.000000</td>\n",
       "      <td>999.000000</td>\n",
       "      <td>0.000000</td>\n",
       "      <td>1.400000</td>\n",
       "      <td>93.994000</td>\n",
       "      <td>-36.400000</td>\n",
       "      <td>4.961000</td>\n",
       "      <td>5228.100000</td>\n",
       "    </tr>\n",
       "    <tr>\n",
       "      <th>max</th>\n",
       "      <td>98.000000</td>\n",
       "      <td>4918.000000</td>\n",
       "      <td>56.000000</td>\n",
       "      <td>999.000000</td>\n",
       "      <td>7.000000</td>\n",
       "      <td>1.400000</td>\n",
       "      <td>94.767000</td>\n",
       "      <td>-26.900000</td>\n",
       "      <td>5.045000</td>\n",
       "      <td>5228.100000</td>\n",
       "    </tr>\n",
       "  </tbody>\n",
       "</table>\n",
       "</div>"
      ],
      "text/plain": [
       "                age      duration      campaign         pdays      previous  \\\n",
       "count  45307.000000  45307.000000  45307.000000  45307.000000  45307.000000   \n",
       "mean      40.032203    258.148917      2.564835    962.288785      0.174543   \n",
       "std       10.411407    258.864200      2.752261    187.370863      0.499364   \n",
       "min       17.000000      0.000000      1.000000      0.000000      0.000000   \n",
       "25%       32.000000    102.000000      1.000000    999.000000      0.000000   \n",
       "50%       38.000000    180.000000      2.000000    999.000000      0.000000   \n",
       "75%       47.000000    319.000000      3.000000    999.000000      0.000000   \n",
       "max       98.000000   4918.000000     56.000000    999.000000      7.000000   \n",
       "\n",
       "       emp.var.rate  cons.price.idx  cons.conf.idx     euribor3m   nr.employed  \n",
       "count  45307.000000    45307.000000   45307.000000  45307.000000  45307.000000  \n",
       "mean       0.082166       93.576032     -40.502282      3.621297   5166.985525  \n",
       "std        1.570231        0.578881       4.625101      1.734350     72.380791  \n",
       "min       -3.400000       92.201000     -50.800000      0.634000   4963.600000  \n",
       "25%       -1.800000       93.075000     -42.700000      1.344000   5099.100000  \n",
       "50%        1.100000       93.749000     -41.800000      4.857000   5191.000000  \n",
       "75%        1.400000       93.994000     -36.400000      4.961000   5228.100000  \n",
       "max        1.400000       94.767000     -26.900000      5.045000   5228.100000  "
      ]
     },
     "execution_count": 4,
     "metadata": {},
     "output_type": "execute_result"
    }
   ],
   "source": [
    "data.describe()"
   ]
  },
  {
   "cell_type": "markdown",
   "metadata": {},
   "source": [
    "### We see that the column 'duration' seems skewed.  Also the range of 'nr.employed' is quite off scales for other columns. "
   ]
  },
  {
   "cell_type": "code",
   "execution_count": 5,
   "metadata": {},
   "outputs": [
    {
     "name": "stdout",
     "output_type": "stream",
     "text": [
      "0.11236674244597965\n"
     ]
    }
   ],
   "source": [
    "y_yes = data[data['y']=='yes']['y'].value_counts().sum()\n",
    "y_no = data[data['y']=='no']['y'].value_counts().sum()\n",
    "yes_pct = y_yes /(y_yes + y_no)\n",
    "print(yes_pct)"
   ]
  },
  {
   "cell_type": "markdown",
   "metadata": {},
   "source": [
    "### We can see from calculation that the percentage of making deposits is about 11.2% of all subjects. The goal of this project is to predict the chance of people making deposit and the dataset makes imbalanced in term of this goal. Therefore it is feasible to either reduce the portion of non-making deposits or increase the portion of making depostis."
   ]
  },
  {
   "cell_type": "code",
   "execution_count": 6,
   "metadata": {},
   "outputs": [
    {
     "data": {
      "text/plain": [
       "['age',\n",
       " 'duration',\n",
       " 'campaign',\n",
       " 'pdays',\n",
       " 'previous',\n",
       " 'emp.var.rate',\n",
       " 'cons.price.idx',\n",
       " 'cons.conf.idx',\n",
       " 'euribor3m',\n",
       " 'nr.employed',\n",
       " 'y',\n",
       " 'job_blue-collar',\n",
       " 'job_entrepreneur',\n",
       " 'job_housemaid',\n",
       " 'job_management',\n",
       " 'job_retired',\n",
       " 'job_self-employed',\n",
       " 'job_services',\n",
       " 'job_student',\n",
       " 'job_technician',\n",
       " 'job_unemployed',\n",
       " 'job_unknown',\n",
       " 'marital_married',\n",
       " 'marital_single',\n",
       " 'marital_unknown',\n",
       " 'education_basic.6y',\n",
       " 'education_basic.9y',\n",
       " 'education_high.school',\n",
       " 'education_illiterate',\n",
       " 'education_professional.course',\n",
       " 'education_university.degree',\n",
       " 'education_unknown',\n",
       " 'default_unknown',\n",
       " 'default_yes',\n",
       " 'housing_unknown',\n",
       " 'housing_yes',\n",
       " 'loan_unknown',\n",
       " 'loan_yes',\n",
       " 'contact_telephone',\n",
       " 'month_aug',\n",
       " 'month_dec',\n",
       " 'month_jul',\n",
       " 'month_jun',\n",
       " 'month_mar',\n",
       " 'month_may',\n",
       " 'month_nov',\n",
       " 'month_oct',\n",
       " 'month_sep',\n",
       " 'day_of_week_mon',\n",
       " 'day_of_week_thu',\n",
       " 'day_of_week_tue',\n",
       " 'day_of_week_wed',\n",
       " 'poutcome_nonexistent',\n",
       " 'poutcome_success']"
      ]
     },
     "execution_count": 6,
     "metadata": {},
     "output_type": "execute_result"
    }
   ],
   "source": [
    "data_dmy = pd.get_dummies(data, columns =['job', 'marital', 'education','default', 'housing', 'loan','contact','month', 'day_of_week','poutcome'],drop_first=True)\n",
    "\n",
    "data_dmy.loc[data_dmy.y == 'yes','y'] = 1\n",
    "data_dmy.loc[data_dmy.y == 'no','y'] = 0\n",
    "data_vars = data_dmy.columns.values.tolist()\n",
    "data_vars\n"
   ]
  },
  {
   "cell_type": "code",
   "execution_count": 7,
   "metadata": {},
   "outputs": [],
   "source": [
    "#final_data_vars = data.columns.values.tolist()\n",
    "\n",
    "y = ['y']\n",
    "X = [i for i in data_vars if i not in y]"
   ]
  },
  {
   "cell_type": "markdown",
   "metadata": {},
   "source": [
    "## Logistic Regression:"
   ]
  },
  {
   "cell_type": "code",
   "execution_count": 9,
   "metadata": {},
   "outputs": [
    {
     "name": "stdout",
     "output_type": "stream",
     "text": [
      "Tuned Logistic Regression Parameters: {'C': 4.094915062380453e-08}\n",
      "Best score is 0.9014942503365926\n"
     ]
    }
   ],
   "source": [
    "# Setup the hyperparameter grid\n",
    "c_space = np.logspace(-50, 8, 50)\n",
    "param_grid = {'C': c_space}\n",
    "\n",
    "# Instantiate a logistic regression classifier: logreg\n",
    "#logreg = LogisticRegression(random_state=0, class_weight='balanced')\n",
    "logreg = LogisticRegression()\n",
    "\n",
    "# Instantiate the GridSearchCV object: logreg_cv\n",
    "logreg_cv = GridSearchCV(logreg, param_grid, cv=10)\n",
    "\n",
    "# Fit it to the data\n",
    "logreg_cv.fit(data_dmy[X], data_dmy['y'])\n",
    "\n",
    "# Print the tuned parameter and score\n",
    "print(\"Tuned Logistic Regression Parameters: {}\".format(logreg_cv.best_params_))\n",
    "print(\"Best score is {}\".format(logreg_cv.best_score_))\n"
   ]
  },
  {
   "cell_type": "code",
   "execution_count": 10,
   "metadata": {},
   "outputs": [
    {
     "name": "stdout",
     "output_type": "stream",
     "text": [
      "Accuracy of logistic regression classifier on training set: 0.90\n",
      "\n",
      "Accuracy of logistic regression classifier on testing set: 0.91\n",
      "\n",
      "[[ 2.00852449e-04  3.54470818e-03 -5.20312316e-05 -2.71396705e-03\n",
      "   1.89132902e-05 -1.81064555e-04  1.30239372e-04  2.48725990e-05\n",
      "  -1.93916297e-04 -1.53235736e-04 -1.27297128e-05 -1.25836820e-06\n",
      "  -2.85055515e-07  1.58920615e-07  7.19437404e-06 -7.55776358e-07\n",
      "  -3.57232715e-06  4.64527685e-06  4.65162096e-07  1.19792762e-06\n",
      "  -1.96186723e-08 -7.70375887e-06  1.03754460e-05  2.31353281e-09\n",
      "  -2.23107333e-06 -6.73318015e-06 -1.34789485e-06  9.27109981e-08\n",
      "   7.10093503e-07  1.11738410e-05  1.77423363e-06 -1.49867556e-05\n",
      "  -5.17268623e-09 -2.12016352e-08  3.46477678e-06 -2.12016352e-08\n",
      "  -1.05877242e-06 -2.51951527e-05  6.43913802e-07  1.90895828e-06\n",
      "  -5.91421919e-06  8.55382743e-07  7.48894646e-06 -2.10672668e-05\n",
      "  -1.57529801e-06  6.80088142e-06  4.87622601e-06 -1.74700423e-06\n",
      "   1.64533440e-06  1.36824173e-06  4.96350269e-07 -9.69998277e-06\n",
      "   4.76243107e-06]]\n"
     ]
    }
   ],
   "source": [
    "X_train, X_test, y_train, y_test = train_test_split(data_dmy[X],data_dmy['y'], test_size=0.1, random_state=0)\n",
    "#\n",
    "LogReg = LogisticRegression(fit_intercept = False, C = 4.094915062380453e-08,random_state=0)\n",
    "\n",
    "LogReg.fit(X_train.astype(float), y_train.astype(float))\n",
    "score = LogReg.score(X_train.astype(float), y_train.astype(float))\n",
    "print('Accuracy of logistic regression classifier on training set: {:.2f}\\n'.format(score))\n",
    "\n",
    "y_pred = LogReg.predict(X_test)\n",
    "print('Accuracy of logistic regression classifier on testing set: {:.2f}\\n'.format(LogReg.score(X_test, y_test)))\n",
    "\n",
    "print(LogReg.coef_)\n",
    "#print(np.std(X_train)*LogReg.coef_)"
   ]
  },
  {
   "cell_type": "code",
   "execution_count": 12,
   "metadata": {},
   "outputs": [
    {
     "data": {
      "image/png": "[encoded data removed]",
      "text/plain": [
       "<matplotlib.figure.Figure at 0xe5d2b38>"
      ]
     },
     "metadata": {},
     "output_type": "display_data"
    }
   ],
   "source": [
    "logit_roc_auc = roc_auc_score(y_train, LogReg.predict(X_train))\n",
    "fpr, tpr, thresholds = roc_curve(y_train, LogReg.predict_proba(X_train)[:,1])\n",
    "fig = plt.figure(figsize=(14, 10))\n",
    "plt.plot(fpr, tpr, label='Logistic Regression (area = %0.3f)' % logit_roc_auc)\n",
    "plt.plot([0, 1], [0, 1],'r--')\n",
    "plt.xlim([0.0, 1.0])\n",
    "plt.ylim([0.0, 1.0])\n",
    "plt.xlabel('False Positive Rate')\n",
    "plt.ylabel('True Positive Rate')\n",
    "plt.title('Receiver operating characteristic for training data')\n",
    "plt.legend(loc=\"lower right\")\n",
    "plt.savefig('Log_ROC')"
   ]
  },
  {
   "cell_type": "code",
   "execution_count": 13,
   "metadata": {},
   "outputs": [
    {
     "name": "stdout",
     "output_type": "stream",
     "text": [
      "Warning: Maximum number of iterations has been exceeded.\n",
      "         Current function value: 0.207344\n",
      "         Iterations: 35\n",
      "                                   Results: Logit\n",
      "=====================================================================================\n",
      "Model:                      Logit                  No. Iterations:         35.0000   \n",
      "Dependent Variable:         y                      Pseudo R-squared:       0.411     \n",
      "Date:                       2018-06-05 22:45       AIC:                    17013.2814\n",
      "No. Observations:           40776                  BIC:                    17461.3056\n",
      "Df Model:                   51                     Log-Likelihood:         -8454.6   \n",
      "Df Residuals:               40724                  LL-Null:                -14355.   \n",
      "Converged:                  0.0000                 Scale:                  1.0000    \n",
      "-------------------------------------------------------------------------------------\n",
      "                               Coef.    Std.Err.    z     P>|z|    [0.025     0.975] \n",
      "-------------------------------------------------------------------------------------\n",
      "age                             0.0020    0.0024   0.8231 0.4104    -0.0028    0.0068\n",
      "duration                        0.0047    0.0001  62.7563 0.0000     0.0046    0.0049\n",
      "campaign                       -0.0389    0.0118  -3.2989 0.0010    -0.0620   -0.0158\n",
      "pdays                          -0.0010    0.0002  -4.4993 0.0000    -0.0014   -0.0005\n",
      "previous                       -0.0416    0.0576  -0.7225 0.4700    -0.1546    0.0713\n",
      "emp.var.rate                   -1.0569    0.0904 -11.6879 0.0000    -1.2341   -0.8797\n",
      "cons.price.idx                  0.6534    0.0422  15.4827 0.0000     0.5707    0.7362\n",
      "cons.conf.idx                  -0.0060    0.0061  -0.9869 0.3237    -0.0179    0.0059\n",
      "euribor3m                       0.7680    0.1075   7.1426 0.0000     0.5573    0.9788\n",
      "nr.employed                    -0.0131    0.0008 -15.4709 0.0000    -0.0147   -0.0114\n",
      "job_blue-collar                -0.2387    0.0802  -2.9759 0.0029    -0.3959   -0.0815\n",
      "job_entrepreneur               -0.1790    0.1266  -1.4139 0.1574    -0.4272    0.0691\n",
      "job_housemaid                  -0.0407    0.1467  -0.2775 0.7814    -0.3282    0.2468\n",
      "job_management                 -0.0965    0.0857  -1.1256 0.2603    -0.2646    0.0715\n",
      "job_retired                     0.2153    0.1069   2.0137 0.0440     0.0057    0.4248\n",
      "job_self-employed              -0.3336    0.1218  -2.7390 0.0062    -0.5723   -0.0949\n",
      "job_services                   -0.1802    0.0874  -2.0607 0.0393    -0.3515   -0.0088\n",
      "job_student                     0.1540    0.1130   1.3623 0.1731    -0.0675    0.3755\n",
      "job_technician                 -0.0081    0.0710  -0.1140 0.9092    -0.1472    0.1310\n",
      "job_unemployed                  0.0721    0.1259   0.5728 0.5668    -0.1746    0.3188\n",
      "job_unknown                    -0.1479    0.2378  -0.6220 0.5340    -0.6140    0.3182\n",
      "marital_married                 0.0355    0.0696   0.5105 0.6097    -0.1009    0.1719\n",
      "marital_single                  0.1290    0.0793   1.6265 0.1038    -0.0264    0.2844\n",
      "marital_unknown                -0.0100    0.4346  -0.0230 0.9816    -0.8618    0.8418\n",
      "education_basic.6y              0.1334    0.1217   1.0962 0.2730    -0.1051    0.3720\n",
      "education_basic.9y             -0.0032    0.0962  -0.0333 0.9734    -0.1917    0.1853\n",
      "education_high.school           0.0398    0.0930   0.4280 0.6686    -0.1424    0.2220\n",
      "education_illiterate            1.5410    0.7414   2.0786 0.0377     0.0879    2.9941\n",
      "education_professional.course   0.0702    0.1021   0.6883 0.4913    -0.1298    0.2703\n",
      "education_university.degree     0.1921    0.0930   2.0655 0.0389     0.0098    0.3745\n",
      "education_unknown               0.1495    0.1197   1.2489 0.2117    -0.0851    0.3842\n",
      "default_unknown                -0.2677    0.0677  -3.9563 0.0001    -0.4004   -0.1351\n",
      "default_yes                   -13.6903 4465.3484  -0.0031 0.9976 -8765.6123 8738.2316\n",
      "housing_unknown                -0.0199       nan      nan    nan        nan       nan\n",
      "housing_yes                    -0.0310    0.0416  -0.7472 0.4549    -0.1125    0.0504\n",
      "loan_unknown                   -0.0199       nan      nan    nan        nan       nan\n",
      "loan_yes                       -0.0583    0.0576  -1.0129 0.3111    -0.1712    0.0545\n",
      "contact_telephone              -0.4957    0.0712  -6.9580 0.0000    -0.6353   -0.3560\n",
      "month_aug                       0.4547    0.1048   4.3384 0.0000     0.2493    0.6601\n",
      "month_dec                      -0.0874    0.1967  -0.4444 0.6568    -0.4729    0.2981\n",
      "month_jul                       0.1621    0.0968   1.6747 0.0940    -0.0276    0.3517\n",
      "month_jun                       0.0185    0.0987   0.1878 0.8510    -0.1748    0.2119\n",
      "month_mar                       1.5342    0.1174  13.0688 0.0000     1.3041    1.7643\n",
      "month_may                      -0.6211    0.0763  -8.1377 0.0000    -0.7707   -0.4715\n",
      "month_nov                      -0.6434    0.1132  -5.6848 0.0000    -0.8653   -0.4216\n",
      "month_oct                      -0.2816    0.1334  -2.1111 0.0348    -0.5430   -0.0202\n",
      "month_sep                      -0.3387    0.1359  -2.4912 0.0127    -0.6051   -0.0722\n",
      "day_of_week_mon                -0.1174    0.0663  -1.7708 0.0766    -0.2474    0.0125\n",
      "day_of_week_thu                 0.0630    0.0642   0.9812 0.3265    -0.0628    0.1888\n",
      "day_of_week_tue                 0.0497    0.0660   0.7528 0.4516    -0.0797    0.1791\n",
      "day_of_week_wed                 0.1489    0.0659   2.2607 0.0238     0.0198    0.2780\n",
      "poutcome_nonexistent            0.4138    0.0931   4.4466 0.0000     0.2314    0.5962\n",
      "poutcome_success                0.8951    0.2103   4.2565 0.0000     0.4829    1.3072\n",
      "=====================================================================================\n",
      "\n"
     ]
    },
    {
     "name": "stderr",
     "output_type": "stream",
     "text": [
      "C:\\Users\\VT\\Anaconda3\\lib\\site-packages\\statsmodels\\base\\model.py:496: ConvergenceWarning: Maximum Likelihood optimization failed to converge. Check mle_retvals\n",
      "  \"Check mle_retvals\", ConvergenceWarning)\n",
      "C:\\Users\\VT\\Anaconda3\\lib\\site-packages\\statsmodels\\base\\model.py:1029: RuntimeWarning: invalid value encountered in sqrt\n",
      "  return np.sqrt(np.diag(self.cov_params()))\n",
      "C:\\Users\\VT\\Anaconda3\\lib\\site-packages\\scipy\\stats\\_distn_infrastructure.py:879: RuntimeWarning: invalid value encountered in greater\n",
      "  return (self.a < x) & (x < self.b)\n",
      "C:\\Users\\VT\\Anaconda3\\lib\\site-packages\\scipy\\stats\\_distn_infrastructure.py:879: RuntimeWarning: invalid value encountered in less\n",
      "  return (self.a < x) & (x < self.b)\n",
      "C:\\Users\\VT\\Anaconda3\\lib\\site-packages\\scipy\\stats\\_distn_infrastructure.py:1821: RuntimeWarning: invalid value encountered in less_equal\n",
      "  cond2 = cond0 & (x <= self.a)\n"
     ]
    }
   ],
   "source": [
    "logit_model = sm.Logit(y_train.astype(float),X_train.astype(float))\n",
    "result = logit_model.fit()\n",
    "print(result.summary2())"
   ]
  },
  {
   "cell_type": "code",
   "execution_count": 14,
   "metadata": {},
   "outputs": [
    {
     "name": "stdout",
     "output_type": "stream",
     "text": [
      "The confusion matrix is :\n",
      " [[3973   61]\n",
      " [ 355  142]]\n",
      "             precision    recall  f1-score   support\n",
      "\n",
      "          0       0.92      0.98      0.95      4034\n",
      "          1       0.70      0.29      0.41       497\n",
      "\n",
      "avg / total       0.89      0.91      0.89      4531\n",
      "\n"
     ]
    }
   ],
   "source": [
    "confusion_matrix = confusion_matrix(y_test, y_pred)\n",
    "print('The confusion matrix is :\\n',confusion_matrix)\n",
    "print(classification_report(y_test, y_pred))"
   ]
  },
  {
   "cell_type": "markdown",
   "metadata": {},
   "source": [
    "## Oversampling imbalanced data"
   ]
  },
  {
   "cell_type": "code",
   "execution_count": 15,
   "metadata": {},
   "outputs": [
    {
     "name": "stdout",
     "output_type": "stream",
     "text": [
      "['age', 'duration', 'campaign', 'pdays', 'previous', 'emp.var.rate', 'cons.price.idx', 'cons.conf.idx', 'euribor3m', 'nr.employed', 'y', 'job_blue-collar', 'job_entrepreneur', 'job_housemaid', 'job_management', 'job_retired', 'job_self-employed', 'job_services', 'job_student', 'job_technician', 'job_unemployed', 'job_unknown', 'marital_married', 'marital_single', 'marital_unknown', 'education_basic.6y', 'education_basic.9y', 'education_high.school', 'education_illiterate', 'education_professional.course', 'education_university.degree', 'education_unknown', 'default_unknown', 'default_yes', 'housing_unknown', 'housing_yes', 'loan_unknown', 'loan_yes', 'contact_telephone', 'month_aug', 'month_dec', 'month_jul', 'month_jun', 'month_mar', 'month_may', 'month_nov', 'month_oct', 'month_sep', 'day_of_week_mon', 'day_of_week_thu', 'day_of_week_tue', 'day_of_week_wed', 'poutcome_nonexistent', 'poutcome_success']\n",
      "Tuned Logistic Regression Parameters: {'C': 4.094915062380453e-08}\n",
      "Best score is 0.9014942503365926\n"
     ]
    }
   ],
   "source": [
    "data_dmy = pd.get_dummies(data1, columns =['job', 'marital', 'education','default', 'housing', 'loan','contact','month', 'day_of_week','poutcome'],drop_first=True)\n",
    "\n",
    "data_dmy.loc[data_dmy.y == 'yes','y'] = 1\n",
    "data_dmy.loc[data_dmy.y == 'no','y'] = 0\n",
    "data_vars = data_dmy.columns.values.tolist()\n",
    "print(data_vars)\n",
    "\n",
    "y = ['y']\n",
    "X = [i for i in data_vars if i not in y]\n",
    "\n",
    "# Setup the hyperparameter grid\n",
    "c_space = np.logspace(-50, 8, 50)\n",
    "param_grid = {'C': c_space}\n",
    "\n",
    "# Instantiate a logistic regression classifier: logreg\n",
    "#logreg = LogisticRegression(random_state=0, class_weight='balanced')\n",
    "logreg = LogisticRegression()\n",
    "\n",
    "# Instantiate the GridSearchCV object: logreg_cv\n",
    "logreg_cv = GridSearchCV(logreg, param_grid, cv=10)\n",
    "\n",
    "# Fit it to the data\n",
    "logreg_cv.fit(data_dmy[X], data_dmy['y'])\n",
    "\n",
    "# Print the tuned parameter and score\n",
    "print(\"Tuned Logistic Regression Parameters: {}\".format(logreg_cv.best_params_))\n",
    "print(\"Best score is {}\".format(logreg_cv.best_score_))\n"
   ]
  },
  {
   "cell_type": "code",
   "execution_count": 16,
   "metadata": {},
   "outputs": [
    {
     "name": "stderr",
     "output_type": "stream",
     "text": [
      "C:\\Users\\VT\\Anaconda3\\lib\\site-packages\\sklearn\\utils\\deprecation.py:77: DeprecationWarning: Function _ratio_float is deprecated; Use a float for 'ratio' is deprecated from version 0.2. The support will be removed in 0.4. Use a dict, str, or a callable instead.\n",
      "  warnings.warn(msg, category=DeprecationWarning)\n"
     ]
    }
   ],
   "source": [
    "X_train, X_test, y_train, y_test = train_test_split(data_dmy[X],data_dmy['y'], test_size=0.1, random_state=0)\n",
    "sm = SMOTE(random_state=12, ratio = 1.0)\n",
    "X_train_res, y_train_res = sm.fit_sample(X_train, y_train)\n"
   ]
  },
  {
   "cell_type": "code",
   "execution_count": 17,
   "metadata": {},
   "outputs": [
    {
     "name": "stdout",
     "output_type": "stream",
     "text": [
      "Accuracy of logistic regression classifier on training set: 0.88\n",
      "\n",
      "Accuracy of logistic regression classifier on testing set: 0.86\n",
      "\n",
      "[[ 9.50840652e-04  7.14094749e-03 -6.31324069e-02 -1.86461865e-03\n",
      "  -1.52927354e-01 -1.22523483e+00  6.39356120e-01 -1.74930340e-02\n",
      "   7.39653911e-01 -1.24897288e-02 -3.41953390e-01 -1.46401649e-01\n",
      "  -2.21928335e-02 -1.73117261e-01  3.14551980e-01 -3.76546533e-01\n",
      "  -2.93238458e-01  2.84424243e-01  1.84515931e-02  2.18208375e-01\n",
      "   2.36412717e-02  1.80228473e-01  2.39415535e-01 -8.73774478e-03\n",
      "   2.47602480e-02 -7.03827714e-02 -7.72350580e-02  4.65286976e-02\n",
      "   8.00912547e-02  2.29491986e-01  2.83963906e-02 -4.15081638e-01\n",
      "  -1.08474500e-03 -3.85402459e-02 -1.57775397e-02 -3.85402459e-02\n",
      "  -9.78464354e-02 -2.25197314e-01  3.89381839e-01 -6.48392897e-02\n",
      "   5.45903398e-02 -1.41667088e-01  1.70073816e+00 -1.19321138e+00\n",
      "  -7.63798750e-01  5.69802158e-01 -2.00031279e-01 -9.26059712e-02\n",
      "  -5.56101252e-02  1.47419239e-02  1.13383345e-01  4.43668911e-01\n",
      "   2.22115357e-01]]\n"
     ]
    }
   ],
   "source": [
    "LogReg = LogisticRegression(fit_intercept = False, C = 1e5,random_state=0)\n",
    "\n",
    "LogReg.fit(X_train_res.astype(float), y_train_res.astype(float))\n",
    "score = LogReg.score(X_train_res.astype(float), y_train_res.astype(float))\n",
    "print('Accuracy of logistic regression classifier on training set: {:.2f}\\n'.format(score))\n",
    "\n",
    "y_pred = LogReg.predict(X_test)\n",
    "print('Accuracy of logistic regression classifier on testing set: {:.2f}\\n'.format(LogReg.score(X_test, y_test)))\n",
    "\n",
    "print(LogReg.coef_)\n",
    "#print(np.std(X_train)*LogReg.coef_)"
   ]
  },
  {
   "cell_type": "code",
   "execution_count": 18,
   "metadata": {},
   "outputs": [
    {
     "data": {
      "image/png": "[encoded data removed]",
      "text/plain": [
       "<matplotlib.figure.Figure at 0xc19ec50>"
      ]
     },
     "metadata": {},
     "output_type": "display_data"
    }
   ],
   "source": [
    "logit_roc_auc = roc_auc_score(y_train_res, LogReg.predict(X_train_res))\n",
    "fpr, tpr, thresholds = roc_curve(y_train_res, LogReg.predict_proba(X_train_res)[:,1])\n",
    "fig = plt.figure(figsize=(14, 10))\n",
    "plt.plot(fpr, tpr, label='Logistic Regression (area = %0.3f)' % logit_roc_auc)\n",
    "plt.plot([0, 1], [0, 1],'r--')\n",
    "plt.xlim([0.0, 1.0])\n",
    "plt.ylim([0.0, 1.0])\n",
    "plt.xlabel('False Positive Rate')\n",
    "plt.ylabel('True Positive Rate')\n",
    "plt.title('Receiver operating characteristic for training dataset')\n",
    "plt.legend(loc=\"lower right\")\n",
    "plt.savefig('Log_ROC')"
   ]
  },
  {
   "cell_type": "code",
   "execution_count": 19,
   "metadata": {},
   "outputs": [
    {
     "data": {
      "image/png": "[encoded data removed]",
      "text/plain": [
       "<matplotlib.figure.Figure at 0xc2867f0>"
      ]
     },
     "metadata": {},
     "output_type": "display_data"
    }
   ],
   "source": [
    "logit_roc_auc = roc_auc_score(y_test, LogReg.predict(X_test))\n",
    "fpr, tpr, thresholds = roc_curve(y_test, LogReg.predict_proba(X_test)[:,1])\n",
    "fig = plt.figure(figsize=(14, 10))\n",
    "plt.plot(fpr, tpr, label='Logistic Regression (area = %0.3f)' % logit_roc_auc)\n",
    "plt.plot([0, 1], [0, 1],'r--')\n",
    "plt.xlim([0.0, 1.0])\n",
    "plt.ylim([0.0, 1.0])\n",
    "plt.xlabel('False Positive Rate')\n",
    "plt.ylabel('True Positive Rate')\n",
    "plt.title('Receiver operating characteristic for testing dataset')\n",
    "plt.legend(loc=\"lower right\")\n",
    "plt.savefig('Log_ROC')"
   ]
  },
  {
   "cell_type": "code",
   "execution_count": null,
   "metadata": {},
   "outputs": [],
   "source": []
  }
 ],
 "metadata": {
  "kernelspec": {
   "display_name": "Python 3",
   "language": "python",
   "name": "python3"
  },
  "language_info": {
   "codemirror_mode": {
    "name": "ipython",
    "version": 3
   },
   "file_extension": ".py",
   "mimetype": "text/x-python",
   "name": "python",
   "nbconvert_exporter": "python",
   "pygments_lexer": "ipython3",
   "version": "3.6.4"
  }
 },
 "nbformat": 4,
 "nbformat_minor": 2
}
