{
 "cells": [
  {
   "cell_type": "code",
   "execution_count": 1,
   "metadata": {},
   "outputs": [],
   "source": [
    "#import all necessary packages\n",
    "import numpy as np\n",
    "import pandas as pd\n",
    "from pandas import Series, DataFrame\n",
    "import matplotlib as mpl\n",
    "import matplotlib.pyplot as plt\n",
    "import seaborn as sns \n",
    "from pylab import plot, show\n",
    "import seaborn as sns\n",
    "import scipy.stats as stats\n",
    "from sklearn.linear_model import LogisticRegression\n",
    "from sklearn.model_selection import train_test_split\n",
    "import statsmodels.discrete.discrete_model as sm\n",
    "from sklearn import datasets\n",
    "from sklearn.feature_selection import RFE\n",
    "from sklearn.metrics import roc_auc_score\n",
    "from sklearn.metrics import roc_curve\n",
    "from sklearn.model_selection import GridSearchCV\n",
    "from imblearn.over_sampling import SMOTE\n",
    "from sklearn.metrics import confusion_matrix\n",
    "from sklearn.metrics import classification_report\n",
    "\n",
    "\n",
    "%matplotlib inline"
   ]
  },
  {
   "cell_type": "code",
   "execution_count": 2,
   "metadata": {},
   "outputs": [],
   "source": [
    "#Reading the csv files\n",
    "df1 = pd.read_csv('./bank-additional/bank-additional-full.csv',sep=';')\n",
    "df2 = pd.read_csv('./bank-additional/bank-additional.csv',sep=';')\n",
    "data = pd.concat([df1,df2])\n",
    "data0 = data"
   ]
  },
  {
   "cell_type": "code",
   "execution_count": 3,
   "metadata": {},
   "outputs": [
    {
     "name": "stdout",
     "output_type": "stream",
     "text": [
      "<class 'pandas.core.frame.DataFrame'>\n",
      "Int64Index: 45307 entries, 0 to 4118\n",
      "Data columns (total 21 columns):\n",
      "age               45307 non-null int64\n",
      "job               45307 non-null object\n",
      "marital           45307 non-null object\n",
      "education         45307 non-null object\n",
      "default           45307 non-null object\n",
      "housing           45307 non-null object\n",
      "loan              45307 non-null object\n",
      "contact           45307 non-null object\n",
      "month             45307 non-null object\n",
      "day_of_week       45307 non-null object\n",
      "duration          45307 non-null int64\n",
      "campaign          45307 non-null int64\n",
      "pdays             45307 non-null int64\n",
      "previous          45307 non-null int64\n",
      "poutcome          45307 non-null object\n",
      "emp.var.rate      45307 non-null float64\n",
      "cons.price.idx    45307 non-null float64\n",
      "cons.conf.idx     45307 non-null float64\n",
      "euribor3m         45307 non-null float64\n",
      "nr.employed       45307 non-null float64\n",
      "y                 45307 non-null object\n",
      "dtypes: float64(5), int64(5), object(11)\n",
      "memory usage: 7.6+ MB\n"
     ]
    }
   ],
   "source": [
    "data.info()"
   ]
  },
  {
   "cell_type": "code",
   "execution_count": 4,
   "metadata": {},
   "outputs": [
    {
     "data": {
      "text/html": [
       "<div>\n",
       "<style scoped>\n",
       "    .dataframe tbody tr th:only-of-type {\n",
       "        vertical-align: middle;\n",
       "    }\n",
       "\n",
       "    .dataframe tbody tr th {\n",
       "        vertical-align: top;\n",
       "    }\n",
       "\n",
       "    .dataframe thead th {\n",
       "        text-align: right;\n",
       "    }\n",
       "</style>\n",
       "<table border=\"1\" class=\"dataframe\">\n",
       "  <thead>\n",
       "    <tr style=\"text-align: right;\">\n",
       "      <th></th>\n",
       "      <th>age</th>\n",
       "      <th>duration</th>\n",
       "      <th>campaign</th>\n",
       "      <th>pdays</th>\n",
       "      <th>previous</th>\n",
       "      <th>emp.var.rate</th>\n",
       "      <th>cons.price.idx</th>\n",
       "      <th>cons.conf.idx</th>\n",
       "      <th>euribor3m</th>\n",
       "      <th>nr.employed</th>\n",
       "    </tr>\n",
       "  </thead>\n",
       "  <tbody>\n",
       "    <tr>\n",
       "      <th>count</th>\n",
       "      <td>45307.000000</td>\n",
       "      <td>45307.000000</td>\n",
       "      <td>45307.000000</td>\n",
       "      <td>45307.000000</td>\n",
       "      <td>45307.000000</td>\n",
       "      <td>45307.000000</td>\n",
       "      <td>45307.000000</td>\n",
       "      <td>45307.000000</td>\n",
       "      <td>45307.000000</td>\n",
       "      <td>45307.000000</td>\n",
       "    </tr>\n",
       "    <tr>\n",
       "      <th>mean</th>\n",
       "      <td>40.032203</td>\n",
       "      <td>258.148917</td>\n",
       "      <td>2.564835</td>\n",
       "      <td>962.288785</td>\n",
       "      <td>0.174543</td>\n",
       "      <td>0.082166</td>\n",
       "      <td>93.576032</td>\n",
       "      <td>-40.502282</td>\n",
       "      <td>3.621297</td>\n",
       "      <td>5166.985525</td>\n",
       "    </tr>\n",
       "    <tr>\n",
       "      <th>std</th>\n",
       "      <td>10.411407</td>\n",
       "      <td>258.864200</td>\n",
       "      <td>2.752261</td>\n",
       "      <td>187.370863</td>\n",
       "      <td>0.499364</td>\n",
       "      <td>1.570231</td>\n",
       "      <td>0.578881</td>\n",
       "      <td>4.625101</td>\n",
       "      <td>1.734350</td>\n",
       "      <td>72.380791</td>\n",
       "    </tr>\n",
       "    <tr>\n",
       "      <th>min</th>\n",
       "      <td>17.000000</td>\n",
       "      <td>0.000000</td>\n",
       "      <td>1.000000</td>\n",
       "      <td>0.000000</td>\n",
       "      <td>0.000000</td>\n",
       "      <td>-3.400000</td>\n",
       "      <td>92.201000</td>\n",
       "      <td>-50.800000</td>\n",
       "      <td>0.634000</td>\n",
       "      <td>4963.600000</td>\n",
       "    </tr>\n",
       "    <tr>\n",
       "      <th>25%</th>\n",
       "      <td>32.000000</td>\n",
       "      <td>102.000000</td>\n",
       "      <td>1.000000</td>\n",
       "      <td>999.000000</td>\n",
       "      <td>0.000000</td>\n",
       "      <td>-1.800000</td>\n",
       "      <td>93.075000</td>\n",
       "      <td>-42.700000</td>\n",
       "      <td>1.344000</td>\n",
       "      <td>5099.100000</td>\n",
       "    </tr>\n",
       "    <tr>\n",
       "      <th>50%</th>\n",
       "      <td>38.000000</td>\n",
       "      <td>180.000000</td>\n",
       "      <td>2.000000</td>\n",
       "      <td>999.000000</td>\n",
       "      <td>0.000000</td>\n",
       "      <td>1.100000</td>\n",
       "      <td>93.749000</td>\n",
       "      <td>-41.800000</td>\n",
       "      <td>4.857000</td>\n",
       "      <td>5191.000000</td>\n",
       "    </tr>\n",
       "    <tr>\n",
       "      <th>75%</th>\n",
       "      <td>47.000000</td>\n",
       "      <td>319.000000</td>\n",
       "      <td>3.000000</td>\n",
       "      <td>999.000000</td>\n",
       "      <td>0.000000</td>\n",
       "      <td>1.400000</td>\n",
       "      <td>93.994000</td>\n",
       "      <td>-36.400000</td>\n",
       "      <td>4.961000</td>\n",
       "      <td>5228.100000</td>\n",
       "    </tr>\n",
       "    <tr>\n",
       "      <th>max</th>\n",
       "      <td>98.000000</td>\n",
       "      <td>4918.000000</td>\n",
       "      <td>56.000000</td>\n",
       "      <td>999.000000</td>\n",
       "      <td>7.000000</td>\n",
       "      <td>1.400000</td>\n",
       "      <td>94.767000</td>\n",
       "      <td>-26.900000</td>\n",
       "      <td>5.045000</td>\n",
       "      <td>5228.100000</td>\n",
       "    </tr>\n",
       "  </tbody>\n",
       "</table>\n",
       "</div>"
      ],
      "text/plain": [
       "                age      duration      campaign         pdays      previous  \\\n",
       "count  45307.000000  45307.000000  45307.000000  45307.000000  45307.000000   \n",
       "mean      40.032203    258.148917      2.564835    962.288785      0.174543   \n",
       "std       10.411407    258.864200      2.752261    187.370863      0.499364   \n",
       "min       17.000000      0.000000      1.000000      0.000000      0.000000   \n",
       "25%       32.000000    102.000000      1.000000    999.000000      0.000000   \n",
       "50%       38.000000    180.000000      2.000000    999.000000      0.000000   \n",
       "75%       47.000000    319.000000      3.000000    999.000000      0.000000   \n",
       "max       98.000000   4918.000000     56.000000    999.000000      7.000000   \n",
       "\n",
       "       emp.var.rate  cons.price.idx  cons.conf.idx     euribor3m   nr.employed  \n",
       "count  45307.000000    45307.000000   45307.000000  45307.000000  45307.000000  \n",
       "mean       0.082166       93.576032     -40.502282      3.621297   5166.985525  \n",
       "std        1.570231        0.578881       4.625101      1.734350     72.380791  \n",
       "min       -3.400000       92.201000     -50.800000      0.634000   4963.600000  \n",
       "25%       -1.800000       93.075000     -42.700000      1.344000   5099.100000  \n",
       "50%        1.100000       93.749000     -41.800000      4.857000   5191.000000  \n",
       "75%        1.400000       93.994000     -36.400000      4.961000   5228.100000  \n",
       "max        1.400000       94.767000     -26.900000      5.045000   5228.100000  "
      ]
     },
     "execution_count": 4,
     "metadata": {},
     "output_type": "execute_result"
    }
   ],
   "source": [
    "data.describe()"
   ]
  },
  {
   "cell_type": "markdown",
   "metadata": {},
   "source": [
    "### We see that the column 'duration' seems skewed.  Also the range of 'nr.employed' is quite off scales for other columns. "
   ]
  },
  {
   "cell_type": "code",
   "execution_count": 5,
   "metadata": {},
   "outputs": [
    {
     "name": "stdout",
     "output_type": "stream",
     "text": [
      "Index(['age', 'campaign', 'pdays', 'previous', 'emp.var.rate',\n",
      "       'cons.price.idx', 'cons.conf.idx', 'euribor3m', 'nr.employed'],\n",
      "      dtype='object')\n"
     ]
    },
    {
     "data": {
      "image/png": "[encoded data removed]",
      "text/plain": [
       "<matplotlib.figure.Figure at 0xbd4a278>"
      ]
     },
     "metadata": {},
     "output_type": "display_data"
    }
   ],
   "source": [
    "quant = data[['age','campaign','pdays','previous','emp.var.rate','cons.price.idx','cons.conf.idx','euribor3m','nr.employed']]\n",
    "fig = plt.figure(figsize=(14, 10))\n",
    "print(quant.columns)\n",
    "quant.boxplot()\n",
    "#plt.set_title('Default', fontsize=10)\n",
    "plt.show()"
   ]
  },
  {
   "cell_type": "code",
   "execution_count": 6,
   "metadata": {},
   "outputs": [
    {
     "data": {
      "text/plain": [
       "array(['housemaid', 'services', 'admin.', 'blue-collar', 'technician',\n",
       "       'retired', 'management', 'unemployed', 'self-employed', 'unknown',\n",
       "       'entrepreneur', 'student'], dtype=object)"
      ]
     },
     "execution_count": 6,
     "metadata": {},
     "output_type": "execute_result"
    }
   ],
   "source": [
    "data['job'].unique()"
   ]
  },
  {
   "cell_type": "markdown",
   "metadata": {},
   "source": [
    "### We see that job contains some unknown data so we need to check if response is independent on the unknown values of the job. Therefore the job can be grouped into known and unknown categories. Then they will be tested using the contigency table"
   ]
  },
  {
   "cell_type": "code",
   "execution_count": 7,
   "metadata": {},
   "outputs": [
    {
     "name": "stdout",
     "output_type": "stream",
     "text": [
      "Observed values:\n",
      " [[39888  5050]\n",
      " [  328    41]]\n"
     ]
    },
    {
     "data": {
      "text/plain": [
       "(3.68403648211336e-05,\n",
       " 0.9951571685287003,\n",
       " 1,\n",
       " array([[39888.46332796,  5049.53667204],\n",
       "        [  327.53667204,    41.46332796]]))"
      ]
     },
     "execution_count": 7,
     "metadata": {},
     "output_type": "execute_result"
    }
   ],
   "source": [
    "job_known = data[data['job']!='unknown']\n",
    "job_known_yes = job_known[job_known['y']=='yes'].y.value_counts().sum()\n",
    "job_known_no = job_known[job_known['y']=='no'].y.value_counts().sum()\n",
    "\n",
    "job_unknown = data[data['job']=='unknown']\n",
    "job_unknown_yes = job_unknown[job_unknown['y']=='yes'].y.value_counts().sum()\n",
    "job_unknown_no = job_unknown[job_unknown['y']=='no'].y.value_counts().sum()\n",
    "\n",
    "obs = np.array([[job_known_no, job_known_yes], [job_unknown_no, job_unknown_yes]])\n",
    "print(\"Observed values:\\n\",obs)\n",
    "stats.chi2_contingency(obs)\n",
    "# output are the t-test statistic, p value and the expected values as 2 x 2 array"
   ]
  },
  {
   "cell_type": "markdown",
   "metadata": {},
   "source": [
    "### The Chi-square test for 2 x 2 contignency table indicates that p value = 0.9952 meaning H0 hypothesis(independence) can be accepted, i.e., the unknown status (missing data for job) does not impact the outcome of response. The missing of job data is randomly missed and therefore we may delete those missing data. There are 369 missing data for job need to be removed."
   ]
  },
  {
   "cell_type": "code",
   "execution_count": 8,
   "metadata": {},
   "outputs": [
    {
     "name": "stdout",
     "output_type": "stream",
     "text": [
      "<class 'pandas.core.frame.DataFrame'>\n",
      "Int64Index: 44938 entries, 0 to 4118\n",
      "Data columns (total 21 columns):\n",
      "age               44938 non-null int64\n",
      "job               44938 non-null object\n",
      "marital           44938 non-null object\n",
      "education         44938 non-null object\n",
      "default           44938 non-null object\n",
      "housing           44938 non-null object\n",
      "loan              44938 non-null object\n",
      "contact           44938 non-null object\n",
      "month             44938 non-null object\n",
      "day_of_week       44938 non-null object\n",
      "duration          44938 non-null int64\n",
      "campaign          44938 non-null int64\n",
      "pdays             44938 non-null int64\n",
      "previous          44938 non-null int64\n",
      "poutcome          44938 non-null object\n",
      "emp.var.rate      44938 non-null float64\n",
      "cons.price.idx    44938 non-null float64\n",
      "cons.conf.idx     44938 non-null float64\n",
      "euribor3m         44938 non-null float64\n",
      "nr.employed       44938 non-null float64\n",
      "y                 44938 non-null object\n",
      "dtypes: float64(5), int64(5), object(11)\n",
      "memory usage: 7.5+ MB\n",
      "None\n"
     ]
    }
   ],
   "source": [
    "data = data[data['job']!='unknown']\n",
    "print(data.info())"
   ]
  },
  {
   "cell_type": "code",
   "execution_count": 9,
   "metadata": {},
   "outputs": [
    {
     "data": {
      "text/plain": [
       "array(['married', 'single', 'divorced', 'unknown'], dtype=object)"
      ]
     },
     "execution_count": 9,
     "metadata": {},
     "output_type": "execute_result"
    }
   ],
   "source": [
    "data['marital'].unique()"
   ]
  },
  {
   "cell_type": "code",
   "execution_count": 10,
   "metadata": {},
   "outputs": [
    {
     "name": "stdout",
     "output_type": "stream",
     "text": [
      "Observed values:\n",
      " [[39816  5040]\n",
      " [   72    10]]\n"
     ]
    },
    {
     "data": {
      "text/plain": [
       "(0.00995432388975868,\n",
       " 0.9205258475181421,\n",
       " 1,\n",
       " array([[3.98152149e+04, 5.04078508e+03],\n",
       "        [7.27850817e+01, 9.21491833e+00]]))"
      ]
     },
     "execution_count": 10,
     "metadata": {},
     "output_type": "execute_result"
    }
   ],
   "source": [
    "marital_known = data[data['marital']!='unknown']\n",
    "marital_known_yes = marital_known[marital_known['y']=='yes'].y.value_counts().sum()\n",
    "marital_known_no = marital_known[marital_known['y']=='no'].y.value_counts().sum()\n",
    "\n",
    "marital_unknown = data[data['marital']=='unknown']\n",
    "marital_unknown_yes = marital_unknown[marital_unknown['y']=='yes'].y.value_counts().sum()\n",
    "marital_unknown_no = marital_unknown[marital_unknown['y']=='no'].y.value_counts().sum()\n",
    "\n",
    "obs = np.array([[marital_known_no, marital_known_yes], [marital_unknown_no, marital_unknown_yes]])\n",
    "print(\"Observed values:\\n\",obs)\n",
    "stats.chi2_contingency(obs)\n",
    "# output are the t-test statistic, p value and the expected values as 2 x 2 array"
   ]
  },
  {
   "cell_type": "markdown",
   "metadata": {},
   "source": [
    "### The Chi-square test for 2 x 2 contignency table indicates that p value = 0.9205 meaning H0 hypothesis(independence) can be accepted, i.e., the unknown status (missing data for marital) does not impact the outcome of response. The missing of marital data is randomly missed and therefore we may delete those missing data. There are 82 missing data for marital status need to be removed."
   ]
  },
  {
   "cell_type": "code",
   "execution_count": 11,
   "metadata": {},
   "outputs": [
    {
     "name": "stdout",
     "output_type": "stream",
     "text": [
      "<class 'pandas.core.frame.DataFrame'>\n",
      "Int64Index: 44856 entries, 0 to 4118\n",
      "Data columns (total 21 columns):\n",
      "age               44856 non-null int64\n",
      "job               44856 non-null object\n",
      "marital           44856 non-null object\n",
      "education         44856 non-null object\n",
      "default           44856 non-null object\n",
      "housing           44856 non-null object\n",
      "loan              44856 non-null object\n",
      "contact           44856 non-null object\n",
      "month             44856 non-null object\n",
      "day_of_week       44856 non-null object\n",
      "duration          44856 non-null int64\n",
      "campaign          44856 non-null int64\n",
      "pdays             44856 non-null int64\n",
      "previous          44856 non-null int64\n",
      "poutcome          44856 non-null object\n",
      "emp.var.rate      44856 non-null float64\n",
      "cons.price.idx    44856 non-null float64\n",
      "cons.conf.idx     44856 non-null float64\n",
      "euribor3m         44856 non-null float64\n",
      "nr.employed       44856 non-null float64\n",
      "y                 44856 non-null object\n",
      "dtypes: float64(5), int64(5), object(11)\n",
      "memory usage: 7.5+ MB\n",
      "None\n"
     ]
    }
   ],
   "source": [
    "data = data[data['marital']!='unknown']\n",
    "print(data.info())"
   ]
  },
  {
   "cell_type": "code",
   "execution_count": 12,
   "metadata": {},
   "outputs": [
    {
     "data": {
      "text/plain": [
       "array(['basic.4y', 'high.school', 'basic.6y', 'basic.9y',\n",
       "       'professional.course', 'unknown', 'university.degree',\n",
       "       'illiterate'], dtype=object)"
      ]
     },
     "execution_count": 12,
     "metadata": {},
     "output_type": "execute_result"
    }
   ],
   "source": [
    "data['education'].unique()"
   ]
  },
  {
   "cell_type": "code",
   "execution_count": 13,
   "metadata": {},
   "outputs": [
    {
     "name": "stdout",
     "output_type": "stream",
     "text": [
      "Observed values:\n",
      " [[38324  4782]\n",
      " [ 1492   258]]\n"
     ]
    },
    {
     "data": {
      "text/plain": [
       "(22.091007266749553,\n",
       " 2.600250136648344e-06,\n",
       " 1,\n",
       " array([[38262.62921348,  4843.37078652],\n",
       "        [ 1553.37078652,   196.62921348]]))"
      ]
     },
     "execution_count": 13,
     "metadata": {},
     "output_type": "execute_result"
    }
   ],
   "source": [
    "education_known = data[data['education']!='unknown']\n",
    "education_known_yes = education_known[education_known['y']=='yes'].y.value_counts().sum()\n",
    "education_known_no = education_known[education_known['y']=='no'].y.value_counts().sum()\n",
    "\n",
    "education_unknown = data[data['education']=='unknown']\n",
    "education_unknown_yes = education_unknown[education_unknown['y']=='yes'].y.value_counts().sum()\n",
    "education_unknown_no = education_unknown[education_unknown['y']=='no'].y.value_counts().sum()\n",
    "\n",
    "obs = np.array([[education_known_no, education_known_yes], [education_unknown_no, education_unknown_yes]])\n",
    "print(\"Observed values:\\n\",obs)\n",
    "stats.chi2_contingency(obs)\n",
    "# output are the t-test statistic, p value and the expected values as 2 x 2 array"
   ]
  },
  {
   "cell_type": "markdown",
   "metadata": {},
   "source": [
    "### The Chi-square test for 2 x 2 contignency table indicates that p value = 2.600 e -6 meaning H0 hypothesis(independence) cannot be accepted, i.e., the unknown status (missing data for education) impacts the outcome of response. Therefore we are to keep the missing data for education and use them as new category."
   ]
  },
  {
   "cell_type": "code",
   "execution_count": 14,
   "metadata": {},
   "outputs": [
    {
     "data": {
      "text/plain": [
       "array(['no', 'unknown', 'yes'], dtype=object)"
      ]
     },
     "execution_count": 14,
     "metadata": {},
     "output_type": "execute_result"
    }
   ],
   "source": [
    "data['default'].unique()"
   ]
  },
  {
   "cell_type": "code",
   "execution_count": 15,
   "metadata": {},
   "outputs": [
    {
     "name": "stdout",
     "output_type": "stream",
     "text": [
      "Observed values:\n",
      " [[31080  4556]\n",
      " [ 8736   484]]\n"
     ]
    },
    {
     "data": {
      "text/plain": [
       "(416.26877966907807,\n",
       " 1.5834305941574436e-92,\n",
       " 1,\n",
       " array([[31631.95505618,  4004.04494382],\n",
       "        [ 8184.04494382,  1035.95505618]]))"
      ]
     },
     "execution_count": 15,
     "metadata": {},
     "output_type": "execute_result"
    }
   ],
   "source": [
    "default_known = data[data['default']!='unknown']\n",
    "default_known_yes = default_known[default_known['y']=='yes'].y.value_counts().sum()\n",
    "default_known_no = default_known[default_known['y']=='no'].y.value_counts().sum()\n",
    "\n",
    "default_unknown = data[data['default']=='unknown']\n",
    "default_unknown_yes = default_unknown[default_unknown['y']=='yes'].y.value_counts().sum()\n",
    "default_unknown_no = default_unknown[default_unknown['y']=='no'].y.value_counts().sum()\n",
    "\n",
    "obs = np.array([[default_known_no, default_known_yes], [default_unknown_no, default_unknown_yes]])\n",
    "print(\"Observed values:\\n\",obs)\n",
    "stats.chi2_contingency(obs)\n",
    "# output are the t-test statistic, p value and the expected values as 2 x 2 array"
   ]
  },
  {
   "cell_type": "markdown",
   "metadata": {},
   "source": [
    "### The Chi-square test for 2 x 2 contignency table indicates that p value = 1.583 e -92 meaning H0 hypothesis(independence) cannot be accepted, i.e., the unknown status (missing data for default) impacts the outcome of response. Therefore we are to keep the missing data for default and use them as new category."
   ]
  },
  {
   "cell_type": "code",
   "execution_count": 16,
   "metadata": {},
   "outputs": [
    {
     "data": {
      "text/plain": [
       "array(['no', 'yes', 'unknown'], dtype=object)"
      ]
     },
     "execution_count": 16,
     "metadata": {},
     "output_type": "execute_result"
    }
   ],
   "source": [
    "data['housing'].unique()"
   ]
  },
  {
   "cell_type": "code",
   "execution_count": 17,
   "metadata": {
    "scrolled": true
   },
   "outputs": [
    {
     "name": "stdout",
     "output_type": "stream",
     "text": [
      "Observed values:\n",
      " [[38843  4924]\n",
      " [  973   116]]\n"
     ]
    },
    {
     "data": {
      "text/plain": [
       "(0.32398687623786254,\n",
       " 0.5692214719819244,\n",
       " 1,\n",
       " array([[38849.35955056,  4917.64044944],\n",
       "        [  966.64044944,   122.35955056]]))"
      ]
     },
     "execution_count": 17,
     "metadata": {},
     "output_type": "execute_result"
    }
   ],
   "source": [
    "housing_known = data[data['housing']!='unknown']\n",
    "housing_known_yes = housing_known[housing_known['y']=='yes'].y.value_counts().sum()\n",
    "housing_known_no = housing_known[housing_known['y']=='no'].y.value_counts().sum()\n",
    "\n",
    "housing_unknown = data[data['housing']=='unknown']\n",
    "housing_unknown_yes = housing_unknown[housing_unknown['y']=='yes'].y.value_counts().sum()\n",
    "housing_unknown_no = housing_unknown[housing_unknown['y']=='no'].y.value_counts().sum()\n",
    "\n",
    "obs = np.array([[housing_known_no, housing_known_yes], [housing_unknown_no, housing_unknown_yes]])\n",
    "print(\"Observed values:\\n\",obs)\n",
    "stats.chi2_contingency(obs)\n",
    "# output are the t-test statistic, p value and the expected values as 2 x 2 array"
   ]
  },
  {
   "cell_type": "markdown",
   "metadata": {},
   "source": [
    "   ###             The Chi-square test for 2 x 2 contignency table indicates that p value = 0.5692 meaning H0 hypothesis (independence) can be accepted, i.e., the unknown status (missing data for housing) doe not impact the outcome of response. Since there are 2.4% data are unknown housing, it is not wise to remove them."
   ]
  },
  {
   "cell_type": "code",
   "execution_count": 18,
   "metadata": {},
   "outputs": [
    {
     "data": {
      "text/plain": [
       "array(['no', 'yes', 'unknown'], dtype=object)"
      ]
     },
     "execution_count": 18,
     "metadata": {},
     "output_type": "execute_result"
    }
   ],
   "source": [
    "data['loan'].unique()"
   ]
  },
  {
   "cell_type": "code",
   "execution_count": 19,
   "metadata": {
    "scrolled": true
   },
   "outputs": [
    {
     "name": "stdout",
     "output_type": "stream",
     "text": [
      "Observed values:\n",
      " [[38843  4924]\n",
      " [  973   116]]\n"
     ]
    },
    {
     "data": {
      "text/plain": [
       "(0.32398687623786254,\n",
       " 0.5692214719819244,\n",
       " 1,\n",
       " array([[38849.35955056,  4917.64044944],\n",
       "        [  966.64044944,   122.35955056]]))"
      ]
     },
     "execution_count": 19,
     "metadata": {},
     "output_type": "execute_result"
    }
   ],
   "source": [
    "loan_known = data[data['loan']!='unknown']\n",
    "loan_known_yes = loan_known[loan_known['y']=='yes'].y.value_counts().sum()\n",
    "loan_known_no = loan_known[loan_known['y']=='no'].y.value_counts().sum()\n",
    "\n",
    "loan_unknown = data[data['loan']=='unknown']\n",
    "loan_unknown_yes = loan_unknown[loan_unknown['y']=='yes'].y.value_counts().sum()\n",
    "loan_unknown_no = loan_unknown[loan_unknown['y']=='no'].y.value_counts().sum()\n",
    "\n",
    "obs = np.array([[loan_known_no, loan_known_yes], [loan_unknown_no, loan_unknown_yes]])\n",
    "print(\"Observed values:\\n\",obs)\n",
    "stats.chi2_contingency(obs)\n",
    "# output are the t-test statistic, p value and the expected values as 2 x 2 array"
   ]
  },
  {
   "cell_type": "code",
   "execution_count": 23,
   "metadata": {},
   "outputs": [
    {
     "name": "stdout",
     "output_type": "stream",
     "text": [
      "Percentage of subjects made deposits: 0.112\n"
     ]
    }
   ],
   "source": [
    "y_yes = data[data['y']=='yes']['y'].value_counts().sum()\n",
    "y_no = data[data['y']=='no']['y'].value_counts().sum()\n",
    "yes_pct = y_yes /(y_yes+y_no)\n",
    "print(\"Percentage of subjects made deposits: %.3f\" %yes_pct)"
   ]
  },
  {
   "cell_type": "markdown",
   "metadata": {},
   "source": [
    "  ### We can see from calculation that the percentage of making deposits is about 11.2% of all subjects. The goal of this project is to predict the chance of people making deposit and the dataset makes imbalanced in term of this goal. Therefore it is feasible to either reduce the portion of non-making deposits or increase the portion of making depostis."
   ]
  },
  {
   "cell_type": "markdown",
   "metadata": {},
   "source": [
    "## Oversampling imbalanced data"
   ]
  },
  {
   "cell_type": "code",
   "execution_count": null,
   "metadata": {},
   "outputs": [],
   "source": [
    "data_dmy = pd.get_dummies(data, columns =['job', 'marital', 'education','default', 'housing', 'loan','contact','month', 'day_of_week','poutcome'],drop_first=True)\n",
    "\n",
    "data_dmy.loc[data_dmy.y == 'yes','y'] = 1\n",
    "data_dmy.loc[data_dmy.y == 'no','y'] = 0\n",
    "data_vars = data_dmy.columns.values.tolist()\n",
    "print(data_vars)\n",
    "\n",
    "y = ['y']\n",
    "X = [i for i in data_vars if i not in y]\n",
    "\n",
    "logreg = LogisticRegression()\n",
    "rfe = RFE(logreg, 18)\n",
    "rfe = rfe.fit(data_dmy[X], data_dmy['y'] )\n",
    "print(rfe.support_)\n",
    "print(rfe.ranking_)\n",
    "\n"
   ]
  },
  {
   "cell_type": "code",
   "execution_count": null,
   "metadata": {},
   "outputs": [],
   "source": [
    "#cols = [\"previous\", \"euribor3m\",  'job_blue-collar', 'job_entrepreneur', \"job_retired\", \"job_services\",\"job_student\", \"default_unknown\", \"contact_telephone\", \"month_dec\", \"month_jul\", \"month_jun\", \"month_mar\", \"month_may\", \"month_oct\", \"day_of_week_mon\",\"poutcome_nonexistent\",\"poutcome_success\"]\n",
    "\n",
    "#cols=[\"previous\", \"euribor3m\", \"job_blue-collar\", \"job_retired\", \"job_services\", \"job_student\", \"default_no\", \"month_aug\", \"month_dec\", \"month_jul\", \"month_nov\", \"month_oct\", \"month_sep\", \"day_of_week_fri\", \"day_of_week_wed\", \"poutcome_failure\", \"poutcome_nonexistent\", \"poutcome_success\"] \n",
    "\n",
    "#cols = [\"previous\", \"euribor3m\", \"job_blue-collar\", \"job_entrepreneur\", \"job_retired\", \"job_services\", \n",
    " #     \"job_student\", \"default_unknown\",  \"contact_telephone\",\"month_dec\", \"month_jul\", \"month_jun\", \"month_mar\", \"month_may\",\n",
    "  #     \"month_oct\", \"day_of_week_mon\",\"poutcome_nonexistent\",\"poutcome_success\"] \n",
    "\n",
    "#cols = ['previous','euribor3m','job_blue-collar', 'job_entrepreneur','job_retired','job_services', 'job_student', 'default_yes', 'month_aug' ]\n",
    "cols=[\"previous\", \"euribor3m\", \"job_blue-collar\", \"job_entrepreneur\", \"job_retired\", \"job_services\", \n",
    "      \"job_student\", \"default_unknown\",  \"contact_telephone\",\"month_dec\", \"month_jul\", \"month_jun\", \"month_mar\", \"month_may\",\n",
    "       \"month_oct\", \"day_of_week_mon\",\"poutcome_nonexistent\",\"poutcome_success\"] "
   ]
  },
  {
   "cell_type": "code",
   "execution_count": null,
   "metadata": {},
   "outputs": [],
   "source": [
    "#data_dmy = data_dmy[cols]\n",
    "data_dmy[cols].info()"
   ]
  },
  {
   "cell_type": "code",
   "execution_count": null,
   "metadata": {},
   "outputs": [],
   "source": [
    "X_train, X_test, y_train, y_test = train_test_split(data_dmy[cols],data_dmy['y'], test_size=0.1, random_state=0)\n",
    "sm = SMOTE(random_state=12)\n",
    "#, ratio = .15)\n",
    "X_train_res, y_train_res = sm.fit_sample(X_train, y_train)\n",
    "\n"
   ]
  },
  {
   "cell_type": "markdown",
   "metadata": {},
   "source": [
    "### Tune the logistic model to find the best C value"
   ]
  },
  {
   "cell_type": "code",
   "execution_count": null,
   "metadata": {},
   "outputs": [],
   "source": [
    "# Setup the hyperparameter grid\n",
    "c_space = np.logspace(-3, 4, 1000)\n",
    "param_grid = {'C': c_space, 'penalty': ['l1', 'l2']}\n",
    "#c_space = np.logspace(-5, 8, 15)\n",
    "#param_grid = {'C': c_space, 'penalty': ['l1', 'l2']}\n",
    "\n",
    "# Instantiate a logistic regression classifier: logreg\n",
    "#logreg = LogisticRegression(random_state=0, class_weight='balanced')\n",
    "logreg = LogisticRegression(fit_intercept = False,random_state=0)\n",
    "\n",
    "# Instantiate the GridSearchCV object: logreg_cv\n",
    "logreg_cv = GridSearchCV(logreg, param_grid, cv=10)\n",
    "\n",
    "# Fit it to the data\n",
    "logreg_cv.fit(X_train_res, y_train_res)\n",
    "\n",
    "# Print the tuned parameter and score\n",
    "print(\"Tuned Logistic Regression Parameters: {}\".format(logreg_cv.best_params_))\n",
    "print(\"Best score is {}\".format(logreg_cv.best_score_))\n"
   ]
  },
  {
   "cell_type": "code",
   "execution_count": null,
   "metadata": {},
   "outputs": [],
   "source": [
    "LogReg = LogisticRegression(fit_intercept = False, C =  0.25353644939701114,random_state=0)\n",
    "LogReg.fit(X_train_res.astype(float), y_train_res.astype(float))\n",
    "score = LogReg.score(X_train_res.astype(float), y_train_res.astype(float))\n",
    "print('Accuracy of logistic regression classifier on training set: {:.2f}\\n'.format(score))\n",
    "\n",
    "y_pred = LogReg.predict(X_test)\n",
    "print('Accuracy of logistic regression classifier on testing set: {:.2f}\\n'.format(LogReg.score(X_test, y_test)))\n",
    "\n",
    "print(LogReg.coef_)\n",
    "#print(np.std(X_train)*LogReg.coef_)"
   ]
  },
  {
   "cell_type": "code",
   "execution_count": null,
   "metadata": {},
   "outputs": [],
   "source": [
    "logit_roc_auc = roc_auc_score(y_test, LogReg.predict(X_test))\n",
    "fpr, tpr, thresholds = roc_curve(y_test, LogReg.predict_proba(X_test)[:,1])\n",
    "fig = plt.figure(figsize=(14, 10))\n",
    "plt.plot(fpr, tpr, label='Logistic Regression (area = %0.2f)' % logit_roc_auc)\n",
    "plt.plot([0, 1], [0, 1],'r--')\n",
    "plt.xlim([0.0, 1.0])\n",
    "plt.ylim([0.0, 1.05])\n",
    "plt.xlabel('False Positive Rate')\n",
    "plt.ylabel('True Positive Rate')\n",
    "plt.title('Receiver operating characteristic')\n",
    "plt.legend(loc=\"lower right\")\n",
    "plt.savefig('Log_ROC')"
   ]
  },
  {
   "cell_type": "markdown",
   "metadata": {},
   "source": [
    "## Explanatory data analysis (EDA)"
   ]
  },
  {
   "cell_type": "markdown",
   "metadata": {},
   "source": [
    "### It is reasonable to divide ages into groups such as Young, Middle age and senior to study impact on the deposits"
   ]
  },
  {
   "cell_type": "code",
   "execution_count": null,
   "metadata": {},
   "outputs": [],
   "source": [
    "#group age into three categories: 17-35 young, 36-55 middle age, and 56+ senior\n",
    "bins = [17, 35, 55, 100]\n",
    "labels = ['young', 'middle-age', 'senior']\n",
    "data['agerange'] = pd.cut(data.age, bins, labels = labels,include_lowest = True)"
   ]
  },
  {
   "cell_type": "code",
   "execution_count": null,
   "metadata": {},
   "outputs": [],
   "source": [
    "#pd.crosstab(data['agerange'],data.y).plot(kind='bar',figsize=(14, 10))\n",
    "table = pd.crosstab(data.agerange,data.y)\n",
    "table.div(table.sum(1).astype(float), axis=0).plot(kind='bar',figsize=(14, 10))\n",
    "plt.title('Deposit situation vs Age')\n",
    "plt.xlabel('Age')\n",
    "plt.xticks(rotation = 0)\n",
    "plt.ylabel('Deposit Fraction')\n",
    "plt.savefig('Deposit_age')"
   ]
  },
  {
   "cell_type": "markdown",
   "metadata": {},
   "source": [
    "### It can been seen that more fraction of senior made deposits but young and middle aged take more percentage.  "
   ]
  },
  {
   "cell_type": "code",
   "execution_count": null,
   "metadata": {},
   "outputs": [],
   "source": [
    "#pd.crosstab(data.job,data.y).plot(kind='bar',figsize=(14, 10))\n",
    "table = pd.crosstab(data.job,data.y)\n",
    "table.div(table.sum(1).astype(float), axis=0).plot(kind='bar',figsize=(14, 10))\n",
    "plt.title('Deposit situation vs Job Title')\n",
    "plt.xlabel('Job')\n",
    "plt.xticks(rotation = 0)\n",
    "plt.ylabel('Deposit Frequency')\n",
    "plt.savefig('Deposit_job')"
   ]
  },
  {
   "cell_type": "markdown",
   "metadata": {},
   "source": [
    "### It seems that the situation of  making deposits among all employment status correlate to the employment. "
   ]
  },
  {
   "cell_type": "code",
   "execution_count": null,
   "metadata": {},
   "outputs": [],
   "source": [
    "#pd.crosstab(data.marital,data.y).plot(kind='bar',figsize=(14, 10))\n",
    "pd.crosstab(data.marital,data.y,margins=True)\n",
    "            \n",
    "table.div(table.sum(1).astype(float), axis=0)\n",
    "#.plot(kind='bar',figsize=(14, 10))\n",
    "#plt.title('Deposit situation vs Marital')\n",
    "#plt.xlabel('Marital',fontsize=14,rotation=0)\n",
    "#plt.xticks(rotation = 0)\n",
    "#plt.ylabel('Deposit Frequency')\n",
    "#plt.savefig('Deposit_Marital')"
   ]
  },
  {
   "cell_type": "markdown",
   "metadata": {},
   "source": [
    "### It seems that the marital status does not affect the deposit. About 10% all marital status made deposits."
   ]
  },
  {
   "cell_type": "code",
   "execution_count": null,
   "metadata": {},
   "outputs": [],
   "source": [
    "table = pd.crosstab(data.education,data.y)\n",
    "table.div(table.sum(1).astype(float), axis=0).plot(kind='bar',figsize=(14, 10))\n",
    "plt.title('Deposit vs education status')\n",
    "plt.xlabel('Education',fontsize=14,rotation=0)\n",
    "plt.xticks(rotation = 0)\n",
    "plt.ylabel('Deposit fraction')\n",
    "plt.savefig('Deposit_education')"
   ]
  },
  {
   "cell_type": "markdown",
   "metadata": {},
   "source": [
    "### 14% of university degree holder made deposits and this group makes the majority of all people of interest. It seems that those having more education made more deposits"
   ]
  },
  {
   "cell_type": "code",
   "execution_count": null,
   "metadata": {},
   "outputs": [],
   "source": [
    "table = pd.crosstab(data.default,data.y)\n",
    "table.div(table.sum(1).astype(float), axis=0).plot(kind='bar',figsize=(14, 10))\n",
    "plt.title('Deposit situation vs default')\n",
    "plt.xlabel('Default')\n",
    "plt.xticks(rotation = 0)\n",
    "plt.ylabel('Deposit Fraction')\n",
    "plt.savefig('Deposit_default')"
   ]
  },
  {
   "cell_type": "markdown",
   "metadata": {},
   "source": [
    "### It seems that the default status doe not impact deposit since most of people do not default and about 13% of them made deposits."
   ]
  },
  {
   "cell_type": "code",
   "execution_count": null,
   "metadata": {},
   "outputs": [],
   "source": [
    "table = pd.crosstab(data.housing,data.y)\n",
    "table.div(table.sum(1).astype(float), axis=0).plot(kind='bar',figsize=(14, 10))\n",
    "plt.title('Deposit situation vs housing')\n",
    "plt.xlabel('Housing')\n",
    "plt.xticks(rotation = 0)\n",
    "plt.ylabel('Deposit Fraction')\n",
    "plt.savefig('Deposit_housing')"
   ]
  },
  {
   "cell_type": "markdown",
   "metadata": {},
   "source": [
    "### It is obvious that the housing status does not impact the deposits. "
   ]
  },
  {
   "cell_type": "code",
   "execution_count": null,
   "metadata": {},
   "outputs": [],
   "source": [
    "table = pd.crosstab(data.loan,data.y)\n",
    "table.div(table.sum(1).astype(float), axis=0).plot(kind='bar',figsize=(14, 10))\n",
    "plt.title('Deposit situation vs loan')\n",
    "plt.xlabel('Loan')\n",
    "plt.xticks(rotation = 0)\n",
    "plt.ylabel('Deposit Fraction')\n",
    "plt.savefig('Deposit_loan')"
   ]
  },
  {
   "cell_type": "markdown",
   "metadata": {},
   "source": [
    "### It is obvious that the loan does not affect the deposits."
   ]
  },
  {
   "cell_type": "code",
   "execution_count": null,
   "metadata": {},
   "outputs": [],
   "source": [
    "table = pd.crosstab(data.contact,data.y)\n",
    "table.div(table.sum(1).astype(float), axis=0).plot(kind='bar',figsize=(14, 10))\n",
    "plt.title('Deposit situation vs contact')\n",
    "plt.xlabel('Contact')\n",
    "plt.xticks(rotation = 0)\n",
    "plt.ylabel('Deposit Fraction')\n",
    "plt.savefig('Deposit_contact')"
   ]
  },
  {
   "cell_type": "markdown",
   "metadata": {},
   "source": [
    "### It indicates that more people are using cell phone than regular phones. Meanwhile about 15% cell phone users made deposits"
   ]
  },
  {
   "cell_type": "code",
   "execution_count": null,
   "metadata": {},
   "outputs": [],
   "source": [
    "table = pd.crosstab(data.month,data.y)\n",
    "table.div(table.sum(1).astype(float), axis=0).plot(kind='bar',figsize=(14, 10))\n",
    "plt.title('Deposit situation vs month')\n",
    "plt.xlabel('Month')\n",
    "plt.xticks(rotation = 0)\n",
    "plt.ylabel('Deposit Fraction')\n",
    "plt.savefig('Deposit_month')"
   ]
  },
  {
   "cell_type": "markdown",
   "metadata": {},
   "source": [
    "### It is shown that in May and July when most of people surveyed about 10% people made deposits. In December, the lowest number of people surveyed this may due to the holiday season when there is no business running therefore the survey activities are not run."
   ]
  },
  {
   "cell_type": "code",
   "execution_count": null,
   "metadata": {},
   "outputs": [],
   "source": [
    "#pd.crosstab(data.day_of_week,data.y).plot(kind='bar',figsize=(14, 10))\n",
    "table = pd.crosstab(data.day_of_week,data.y)\n",
    "table.div(table.sum(1).astype(float), axis=0).plot(kind='bar',figsize=(14, 10))\n",
    "plt.title('Deposit situation vs day of week')\n",
    "plt.xlabel('Day of week')\n",
    "plt.xticks(rotation = 0)\n",
    "plt.ylabel('Deposit Fraction')\n",
    "plt.savefig('Deposit_day')"
   ]
  },
  {
   "cell_type": "markdown",
   "metadata": {},
   "source": [
    "### There is no dependence of day of week on the deposits and all weekdays about 11% people made deposits"
   ]
  },
  {
   "cell_type": "code",
   "execution_count": null,
   "metadata": {},
   "outputs": [],
   "source": [
    "fig = plt.figure(figsize=(14, 10))\n",
    "plt.hist(data['duration'],bins=20)\n",
    "plt.title(\"Duration Histogram\")\n",
    "plt.xlabel(\"Duration\")\n",
    "plt.ylabel(\"Frequency\")\n",
    "plt.savefig('Duration histogram')"
   ]
  },
  {
   "cell_type": "code",
   "execution_count": null,
   "metadata": {},
   "outputs": [],
   "source": [
    "#group duration into three categories: 0-102 short, 103-319 medium, and 320+ long\n",
    "bins = [0, 102, 319, 4918]\n",
    "labels = ['short', 'medium', 'long']\n",
    "data['durationrange'] = pd.cut(data.duration, bins, labels = labels,include_lowest = True)"
   ]
  },
  {
   "cell_type": "code",
   "execution_count": null,
   "metadata": {},
   "outputs": [],
   "source": [
    "table = pd.crosstab(data.durationrange,data.y)\n",
    "table.div(table.sum(1).astype(float), axis=0).plot(kind='bar',figsize=(14, 10))\n",
    "plt.title('Deposit situation vs duration')\n",
    "plt.xlabel('Duration')\n",
    "plt.xticks(rotation = 0)\n",
    "plt.ylabel('Deposit Fraction')\n",
    "plt.savefig('Deposit_duration')"
   ]
  },
  {
   "cell_type": "markdown",
   "metadata": {},
   "source": [
    "### The relationship between duration and deposits: longer the duration, more fractions people made deposits."
   ]
  },
  {
   "cell_type": "code",
   "execution_count": null,
   "metadata": {},
   "outputs": [],
   "source": [
    "fig = plt.figure(figsize=(14, 10))\n",
    "plt.hist(data['campaign'],bins=20)\n",
    "plt.title(\"Campaign Histogram\")\n",
    "plt.xlabel(\"Campaign\")\n",
    "plt.ylabel(\"Frequency\")\n",
    "plt.savefig('Campaign histogram')"
   ]
  },
  {
   "cell_type": "code",
   "execution_count": null,
   "metadata": {},
   "outputs": [],
   "source": [
    "#group campaign into three categories: 0-1 small, 2-5 medium, and 6+ large\n",
    "bins = [0, 1, 5, 56]\n",
    "labels = ['small', 'medium', 'large']\n",
    "data['campaignrange'] = pd.cut(data.campaign, bins, labels = labels,include_lowest = True)"
   ]
  },
  {
   "cell_type": "code",
   "execution_count": null,
   "metadata": {},
   "outputs": [],
   "source": [
    "table = pd.crosstab(data.campaignrange,data.y)\n",
    "table.div(table.sum(1).astype(float), axis=0).plot(kind='bar',figsize=(14, 10))\n",
    "plt.title('Deposit situation vs campaign')\n",
    "plt.xlabel('Campaign')\n",
    "plt.xticks(rotation = 0)\n",
    "plt.ylabel('Deposit Frequency')\n",
    "plt.savefig('Deposit_campaign')"
   ]
  },
  {
   "cell_type": "markdown",
   "metadata": {},
   "source": [
    "### It shows that the bigger of the size of the campaign, less people made deposits."
   ]
  },
  {
   "cell_type": "code",
   "execution_count": null,
   "metadata": {},
   "outputs": [],
   "source": [
    "# pdays: number of days that passed by after the client was last contacted from a previous campaign (numeric; 999 means client was not previously contacted)\n",
    "fig = plt.figure(figsize=(14, 10))\n",
    "plt.hist(data['pdays'],bins=20)\n",
    "plt.title(\"Pdays Histogram\")\n",
    "plt.xlabel(\"pdays\")\n",
    "plt.ylabel(\"Frequency\")\n",
    "plt.savefig('Pdays histogram')"
   ]
  },
  {
   "cell_type": "code",
   "execution_count": null,
   "metadata": {},
   "outputs": [],
   "source": [
    "#group pdays into three categories: 0-6 short, 7-21 medium, 22-27 long, and 28-999 never\n",
    "bins = [0, 6, 21, 27, 999]\n",
    "labels = ['short', 'medium', 'long','never']\n",
    "data['pdaysrange'] = pd.cut(data.pdays, bins, labels = labels,include_lowest = True)"
   ]
  },
  {
   "cell_type": "code",
   "execution_count": null,
   "metadata": {},
   "outputs": [],
   "source": [
    "table = pd.crosstab(data.pdaysrange,data.y)\n",
    "table.div(table.sum(1).astype(float), axis=0).plot(kind='bar',figsize=(14, 10))\n",
    "plt.title('Deposit situation vs pdays')\n",
    "plt.xlabel('Pdays')\n",
    "plt.xticks(rotation = 0)\n",
    "plt.ylabel('Pdays Frequency')\n",
    "plt.savefig('Deposit_pdays')"
   ]
  },
  {
   "cell_type": "markdown",
   "metadata": {},
   "source": [
    "### It can be seen that shorter the pdays,  more people made deposits."
   ]
  },
  {
   "cell_type": "code",
   "execution_count": null,
   "metadata": {},
   "outputs": [],
   "source": [
    "# previous: number of contacts performed before this campaign and for this client (numeric)\n",
    "fig = plt.figure(figsize=(14, 10))\n",
    "plt.hist(data['previous'],bins=20)\n",
    "plt.title(\"Previous Histogram\")\n",
    "plt.xlabel(\"previous\")\n",
    "plt.ylabel(\"Frequency\")\n",
    "plt.savefig('Previous histogram')"
   ]
  },
  {
   "cell_type": "code",
   "execution_count": null,
   "metadata": {},
   "outputs": [],
   "source": [
    "#group previous into three categories: 0-1 less, 2-5 medium, 6-7 more\n",
    "bins = [0, 1, 5, 7]\n",
    "labels = ['less', 'medium', 'more']\n",
    "data['previousrange'] = pd.cut(data.previous, bins, labels = labels,include_lowest = True)"
   ]
  },
  {
   "cell_type": "code",
   "execution_count": null,
   "metadata": {},
   "outputs": [],
   "source": [
    "table = pd.crosstab(data.previousrange,data.y)\n",
    "table.div(table.sum(1).astype(float), axis=0).plot(kind='bar',figsize=(14, 10))\n",
    "plt.title('Deposit situation vs previous')\n",
    "plt.xlabel('previous')\n",
    "plt.xticks(rotation = 0)\n",
    "plt.ylabel('previous Frequency')\n",
    "plt.savefig('Deposit_previous')"
   ]
  },
  {
   "cell_type": "markdown",
   "metadata": {},
   "source": [
    "### It shows that the more previous contact, more people made deposits."
   ]
  },
  {
   "cell_type": "code",
   "execution_count": null,
   "metadata": {},
   "outputs": [],
   "source": [
    "# emp.var.rate: employment variation rate - quarterly indicator (numeric)\n",
    "fig = plt.figure(figsize=(14, 10))\n",
    "plt.hist(data['emp.var.rate'],bins=20)\n",
    "plt.title(\"Employment variation rate Histogram\")\n",
    "plt.xlabel(\"Employment variation rate\")\n",
    "plt.ylabel(\"Frequency\")\n",
    "plt.savefig('Employment variation rate histogram')"
   ]
  },
  {
   "cell_type": "code",
   "execution_count": null,
   "metadata": {},
   "outputs": [],
   "source": [
    "#group emp.var.rate into three categories: -3.40--2 small, -2-0 medium, 0-1.4 large\n",
    "bins = [-3.40, -2, 0, 1.4]\n",
    "labels = ['small', 'medium', 'large']\n",
    "data['emp.var.raterange'] = pd.cut(data['emp.var.rate'], bins, labels = labels,include_lowest = True)"
   ]
  },
  {
   "cell_type": "code",
   "execution_count": null,
   "metadata": {},
   "outputs": [],
   "source": [
    "#pd.crosstab(data['emp.var.raterange'],data.y).plot(kind='bar',figsize=(14, 10))\n",
    "table = pd.crosstab(data['emp.var.raterange'],data.y)\n",
    "table.div(table.sum(1).astype(float), axis=0).plot(kind='bar',figsize=(14, 10))\n",
    "plt.title('Deposit situation vs Employment variation rate')\n",
    "plt.xlabel('Employment variation rate')\n",
    "plt.xticks(rotation = 0)\n",
    "plt.ylabel('previous Frequency')\n",
    "plt.savefig('Deposit_Employment variation rate')"
   ]
  },
  {
   "cell_type": "markdown",
   "metadata": {},
   "source": [
    "### It is clear that increase of employment variation rate leads to less people making deposits."
   ]
  },
  {
   "cell_type": "code",
   "execution_count": null,
   "metadata": {},
   "outputs": [],
   "source": [
    "# cons.price.idx: consumer price index - monthly indicator (numeric) \n",
    "fig = plt.figure(figsize=(14, 10))\n",
    "plt.hist(data['cons.price.idx'],bins=20)\n",
    "plt.title(\"Consumer price index Histogram\")\n",
    "plt.xlabel(\"Consumer price index\")\n",
    "plt.ylabel(\"Frequency\")\n",
    "plt.savefig('Consumer price index histogram')"
   ]
  },
  {
   "cell_type": "code",
   "execution_count": null,
   "metadata": {},
   "outputs": [],
   "source": [
    "#group cons.price.idx into three categories: 92.2-93 small, 93-94 medium, 94-94.5 large\n",
    "bins = [92.2, 93, 94, 94.5]\n",
    "labels = ['small', 'medium', 'large']\n",
    "data['cons.price.idxrange'] = pd.cut(data['cons.price.idx'], bins, labels = labels,include_lowest = True)"
   ]
  },
  {
   "cell_type": "code",
   "execution_count": null,
   "metadata": {},
   "outputs": [],
   "source": [
    "#pd.crosstab(data['cons.price.idxrange'],data.y).plot(kind='bar',figsize=(14, 10))\n",
    "table = pd.crosstab(data['cons.price.idxrange'],data.y)\n",
    "table.div(table.sum(1).astype(float), axis=0).plot(kind='bar',figsize=(14, 10))\n",
    "plt.title('Deposit situation vs consumer price index')\n",
    "plt.xlabel('Consumer price index')\n",
    "plt.xticks(rotation = 0)\n",
    "plt.ylabel('Depost Frequency')\n",
    "plt.savefig('Deposit_consumer price index')"
   ]
  },
  {
   "cell_type": "markdown",
   "metadata": {},
   "source": [
    "### The relationship between deposits and consumer price index is not clear."
   ]
  },
  {
   "cell_type": "code",
   "execution_count": null,
   "metadata": {},
   "outputs": [],
   "source": [
    "#  cons.conf.idx: consumer confidence index - monthly indicator (numeric)\n",
    "fig = plt.figure(figsize=(14, 10))\n",
    "plt.hist(data['cons.conf.idx'],bins=20)\n",
    "plt.title(\"Consumer confidence index Histogram\")\n",
    "plt.xlabel(\"consumer confidence index\")\n",
    "plt.ylabel(\"Frequency\")\n",
    "plt.savefig('consumer confidence index histogram')"
   ]
  },
  {
   "cell_type": "code",
   "execution_count": null,
   "metadata": {},
   "outputs": [],
   "source": [
    "#group cons.conf.idx into three categories: -50.8--45 small, -45--35 medium, -35--30 large\n",
    "bins = [-50.8, -45, -35, -30]\n",
    "labels = ['small', 'medium', 'large']\n",
    "data['cons.conf.idxrange'] = pd.cut(data['cons.conf.idx'], bins, labels = labels,include_lowest = True)"
   ]
  },
  {
   "cell_type": "code",
   "execution_count": null,
   "metadata": {},
   "outputs": [],
   "source": [
    "#pd.crosstab(data['cons.conf.idxrange'],data.y).plot(kind='bar',figsize=(14, 10))\n",
    "table = pd.crosstab(data['cons.conf.idxrange'],data.y)\n",
    "table.div(table.sum(1).astype(float), axis=0).plot(kind='bar',figsize=(14, 10))\n",
    "plt.title('Deposit situation vs Consumer confidence index')\n",
    "plt.xlabel('Consumer confidence index')\n",
    "plt.xticks(rotation = 0)\n",
    "plt.ylabel('Depost Frequency')\n",
    "plt.savefig('Deposit_Consumer confidence index')"
   ]
  },
  {
   "cell_type": "markdown",
   "metadata": {},
   "source": [
    "### It seems that the larger the consumer confidence index, more people made deposits."
   ]
  },
  {
   "cell_type": "code",
   "execution_count": null,
   "metadata": {},
   "outputs": [],
   "source": [
    "# euribor3m: euribor 3 month rate - daily indicator (numeric)\n",
    "fig = plt.figure(figsize=(14, 10))\n",
    "plt.hist(data['euribor3m'],bins=20)\n",
    "plt.title(\"Euribor 3 month rate Histogram\")\n",
    "plt.xlabel(\"euribor 3 month rate\")\n",
    "plt.ylabel(\"Frequency\")\n",
    "plt.savefig('euribor 3 month rate histogram')"
   ]
  },
  {
   "cell_type": "code",
   "execution_count": null,
   "metadata": {},
   "outputs": [],
   "source": [
    "#group euribor3m into three categories: 0.63-2 small, 2-4 medium, 4-5.05 large\n",
    "bins = [0.63,2,4,5.05]\n",
    "labels = ['small', 'medium', 'large']\n",
    "data['euribor3mrange'] = pd.cut(data['euribor3m'], bins, labels = labels,include_lowest = True)"
   ]
  },
  {
   "cell_type": "code",
   "execution_count": null,
   "metadata": {},
   "outputs": [],
   "source": [
    "#pd.crosstab(data['euribor3mrange'],data.y).plot(kind='bar',figsize=(14, 10))\n",
    "table = pd.crosstab(data['euribor3mrange'],data.y)\n",
    "table.div(table.sum(1).astype(float), axis=0).plot(kind='bar',figsize=(14, 10))\n",
    "plt.title('Deposit situation vs euribor 3 month rate')\n",
    "plt.xlabel('euribor 3 month rate')\n",
    "plt.xticks(rotation = 0)\n",
    "plt.ylabel('Depost Frequency')\n",
    "plt.savefig('Deposit_euribor 3 month rate')"
   ]
  },
  {
   "cell_type": "markdown",
   "metadata": {},
   "source": [
    "### It is obvious that larger of euribor 3 month rate, less people made deposits."
   ]
  },
  {
   "cell_type": "code",
   "execution_count": null,
   "metadata": {},
   "outputs": [],
   "source": [
    "#  nr.employed: number of employees - quarterly indicator (numeric)\n",
    "fig = plt.figure(figsize=(14, 10))\n",
    "plt.hist(data['nr.employed'],bins=20)\n",
    "plt.title(\"Number of employees Histogram\")\n",
    "plt.xlabel(\"number of employees\")\n",
    "plt.ylabel(\"Frequency\")\n",
    "plt.savefig('Number of employees histogram')"
   ]
  },
  {
   "cell_type": "code",
   "execution_count": null,
   "metadata": {},
   "outputs": [],
   "source": [
    "# group nr.employed into three categories: 4963-5050 small, 5050-5200 medium, 5200-5228 large\n",
    "bins = [4960,5050,5200,5229]\n",
    "labels = ['small', 'medium', 'large']\n",
    "data['nr.employedrange'] = pd.cut(data['nr.employed'], bins, labels = labels,include_lowest = True)"
   ]
  },
  {
   "cell_type": "code",
   "execution_count": null,
   "metadata": {
    "scrolled": true
   },
   "outputs": [],
   "source": [
    "#pd.crosstab(data['nr.employedrange'],data.y).plot(kind='bar',figsize=(14, 10))\n",
    "table = pd.crosstab(data['nr.employedrange'],data.y)\n",
    "table.div(table.sum(1).astype(float), axis=0).plot(kind='bar',figsize=(14, 10))\n",
    "plt.title('Deposit situation vs number of employees')\n",
    "plt.xlabel('number of employees')\n",
    "plt.xticks(rotation = 0)\n",
    "plt.ylabel('Depost Frequency')\n",
    "plt.savefig('Deposit_number of employees')"
   ]
  },
  {
   "cell_type": "markdown",
   "metadata": {},
   "source": [
    "### It is apparrent that larger the number of employed, the less people made deposits."
   ]
  },
  {
   "cell_type": "code",
   "execution_count": null,
   "metadata": {},
   "outputs": [],
   "source": [
    "#following are calculations for correlation matrix between all vaiables of dataset data\n",
    "#print(final_data.columns)\n",
    "#Corelation Matrix\n",
    "sns.set(style=\"white\")\n",
    "df_corr = data[:]\n",
    "\n",
    "# Compute the correlation matrix\n",
    "corr = df_corr.dropna().corr()\n",
    "\n",
    "# Generate a mask for the upper triangle\n",
    "mask = np.zeros_like(corr, dtype=np.bool)\n",
    "\n",
    "# Set up the matplotlib figure\n",
    "fig, ax = plt.subplots(figsize=(30, 15))\n",
    "\n",
    "# Generate a custom diverging colormap\n",
    "cmap = sns.diverging_palette(220, 10, as_cmap=True)\n",
    "\n",
    "# Draw the heatmap with the mask and correct aspect ratio\n",
    "sns.heatmap(corr, mask=mask, cmap=cmap, square=True, linewidths=.5, ax=ax)\n",
    "\n",
    "print(corr)"
   ]
  },
  {
   "cell_type": "markdown",
   "metadata": {},
   "source": [
    "### We see that there is strong negative correlation between Pdays and previous (-0.572977), more times of previous contacts, less the pdays to make deposits. Another pair is number of employed and euribor3m and they have strong positively correlated (0.949020). euribor3m correlates with employment variation rate at 0.975248."
   ]
  },
  {
   "cell_type": "code",
   "execution_count": null,
   "metadata": {},
   "outputs": [],
   "source": [
    "data_dmy = pd.get_dummies(data, columns =['job', 'marital', 'education','default', 'housing', 'loan','contact','month', 'day_of_week','poutcome'],drop_first=True)"
   ]
  },
  {
   "cell_type": "code",
   "execution_count": null,
   "metadata": {},
   "outputs": [],
   "source": [
    "data_dmy.loc[data_dmy.y == 'yes','y'] = 1\n",
    "data_dmy.loc[data_dmy.y == 'no','y'] = 0"
   ]
  },
  {
   "cell_type": "code",
   "execution_count": null,
   "metadata": {},
   "outputs": [],
   "source": [
    "data_vars=data_dmy.columns.values.tolist()"
   ]
  },
  {
   "cell_type": "code",
   "execution_count": null,
   "metadata": {},
   "outputs": [],
   "source": [
    "removal_vars = ['agerange', 'durationrange', 'campaignrange', 'pdaysrange', 'previousrange', 'emp.var.raterange', 'cons.price.idxrange', 'cons.conf.idxrange', 'euribor3mrange', 'nr.employedrange']\n",
    "keep=[i for i in data_vars if i not in removal_vars]\n",
    "final_data = data_dmy[keep]\n",
    "final_data.columns.values"
   ]
  },
  {
   "cell_type": "code",
   "execution_count": null,
   "metadata": {},
   "outputs": [],
   "source": [
    "final_data_vars = final_data.columns.values.tolist()\n",
    "\n",
    "y = ['y']\n",
    "X = [i for i in final_data_vars if i not in y]"
   ]
  },
  {
   "cell_type": "code",
   "execution_count": null,
   "metadata": {},
   "outputs": [],
   "source": [
    "logreg = LogisticRegression()\n",
    "rfe = RFE(logreg, 18)\n",
    "rfe = rfe.fit(final_data[X], final_data['y'] )\n",
    "print(rfe.support_)"
   ]
  },
  {
   "cell_type": "markdown",
   "metadata": {},
   "source": [
    "### Through RFE processing, it is feasible to choose variables whose bool values are True. "
   ]
  },
  {
   "cell_type": "code",
   "execution_count": null,
   "metadata": {},
   "outputs": [],
   "source": [
    "cols = [\"previous\", \"euribor3m\", \"job_blue-collar\", \"job_entrepreneur\", \"job_retired\", \"job_services\", \n",
    "      \"job_student\", \"default_unknown\",  \"contact_telephone\",\"month_dec\", \"month_jul\", \"month_jun\", \"month_mar\", \"month_may\",\n",
    "       \"month_oct\", \"day_of_week_mon\",\"poutcome_nonexistent\",\"poutcome_success\"] \n",
    "X = final_data[cols]\n",
    "y = final_data['y']"
   ]
  },
  {
   "cell_type": "markdown",
   "metadata": {},
   "source": [
    "## Logistic Regression:"
   ]
  },
  {
   "cell_type": "code",
   "execution_count": null,
   "metadata": {},
   "outputs": [],
   "source": [
    "from sklearn.model_selection import GridSearchCV\n",
    "# Setup the hyperparameter grid\n",
    "c_space = np.logspace(-15, 8, 15)\n",
    "param_grid = {'C': c_space}\n",
    "\n",
    "# Instantiate a logistic regression classifier: logreg\n",
    "logreg = LogisticRegression()\n",
    "\n",
    "# Instantiate the GridSearchCV object: logreg_cv\n",
    "logreg_cv = GridSearchCV(logreg, param_grid, cv=10)\n",
    "\n",
    "y = ['y']\n",
    "X = [i for i in final_data_vars if i not in y]\n",
    "\n",
    "# Fit it to the data\n",
    "logreg_cv.fit(final_data[X], final_data['y'])\n",
    "\n",
    "# Print the tuned parameter and score\n",
    "print(\"Tuned Logistic Regression Parameters: {}\".format(logreg_cv.best_params_))\n",
    "print(\"Best score is {}\".format(logreg_cv.best_score_))\n"
   ]
  },
  {
   "cell_type": "code",
   "execution_count": null,
   "metadata": {},
   "outputs": [],
   "source": [
    "X_train, X_test, y_train, y_test = train_test_split(final_data[X],final_data['y'], test_size=0.1, random_state=0)\n",
    "#\n",
    "LogReg = LogisticRegression(fit_intercept = False, C = 1.6378937069540614e-07,random_state=0)\n",
    "\n",
    "LogReg.fit(X_train.astype(float), y_train.astype(float))\n",
    "score = LogReg.score(X_train.astype(float), y_train.astype(float))\n",
    "print('Accuracy of logistic regression classifier on training set: {:.2f}\\n'.format(score))\n",
    "\n",
    "y_pred = LogReg.predict(X_test)\n",
    "print('Accuracy of logistic regression classifier on testing set: {:.2f}\\n'.format(LogReg.score(X_test, y_test)))\n",
    "\n",
    "print(LogReg.coef_)\n",
    "#print(np.std(X_train)*LogReg.coef_)"
   ]
  },
  {
   "cell_type": "code",
   "execution_count": null,
   "metadata": {},
   "outputs": [],
   "source": [
    "logit_roc_auc = roc_auc_score(y_test, LogReg.predict(X_test))\n",
    "fpr, tpr, thresholds = roc_curve(y_test, LogReg.predict_proba(X_test)[:,1])\n",
    "fig = plt.figure(figsize=(14, 10))\n",
    "plt.plot(fpr, tpr, label='Logistic Regression (area = %0.2f)' % logit_roc_auc)\n",
    "plt.plot([0, 1], [0, 1],'r--')\n",
    "plt.xlim([0.0, 1.0])\n",
    "plt.ylim([0.0, 1.0])\n",
    "plt.xlabel('False Positive Rate')\n",
    "plt.ylabel('True Positive Rate')\n",
    "plt.title('Receiver operating characteristic')\n",
    "plt.legend(loc=\"lower right\")\n",
    "plt.savefig('Log_ROC')"
   ]
  },
  {
   "cell_type": "code",
   "execution_count": null,
   "metadata": {},
   "outputs": [],
   "source": [
    "logit_model = sm.Logit(y_train.astype(float),X_train.astype(float))\n",
    "result = logit_model.fit()\n",
    "print(result.summary2())"
   ]
  },
  {
   "cell_type": "markdown",
   "metadata": {},
   "source": [
    "### The 18 variables are all siginificantly contribued to the overall logistic model since all p values are less than 0.05 "
   ]
  },
  {
   "cell_type": "code",
   "execution_count": null,
   "metadata": {},
   "outputs": [],
   "source": [
    "from sklearn.metrics import confusion_matrix\n",
    "confusion_matrix = confusion_matrix(y_test, y_pred)\n",
    "print('The confusion matrix is :\\n',confusion_matrix)\n",
    "from sklearn.metrics import classification_report\n",
    "print(classification_report(y_test, y_pred))"
   ]
  },
  {
   "cell_type": "markdown",
   "metadata": {},
   "source": [
    "### The confusion matrix tells us that the 3939/(3939 + 420) = 0.904  and specificity = 93/(34 + 93) = 0.732"
   ]
  },
  {
   "cell_type": "code",
   "execution_count": null,
   "metadata": {},
   "outputs": [],
   "source": []
  },
  {
   "cell_type": "code",
   "execution_count": null,
   "metadata": {},
   "outputs": [],
   "source": [
    "data_dmy = pd.get_dummies(df1, columns =['job', 'marital', 'education','default', 'housing', 'loan','contact','month', 'day_of_week','poutcome'],drop_first=True)\n",
    "data_dmy.loc[data_dmy.y == 'yes','y'] = 1\n",
    "data_dmy.loc[data_dmy.y == 'no','y'] = 0\n",
    "data_vars = data_dmy.columns.values.tolist()\n",
    "removal_vars = ['agerange', 'durationrange', 'campaignrange', 'pdaysrange', 'previousrange', 'emp.var.raterange', 'cons.price.idxrange', 'cons.conf.idxrange', 'euribor3mrange', 'nr.employedrange']\n",
    "keep = [i for i in data_vars if i not in removal_vars]\n",
    "final_data = data_dmy[keep]\n",
    "final_data.columns.values"
   ]
  },
  {
   "cell_type": "code",
   "execution_count": null,
   "metadata": {},
   "outputs": [],
   "source": [
    "from sklearn.model_selection import GridSearchCV\n",
    "# Setup the hyperparameter grid\n",
    "c_space = np.logspace(-15, 8, 15)\n",
    "param_grid = {'C': c_space}\n",
    "\n",
    "# Instantiate a logistic regression classifier: logreg\n",
    "logreg = LogisticRegression()\n",
    "\n",
    "# Instantiate the GridSearchCV object: logreg_cv\n",
    "logreg_cv = GridSearchCV(logreg, param_grid, cv=10)\n"
   ]
  },
  {
   "cell_type": "code",
   "execution_count": null,
   "metadata": {},
   "outputs": [],
   "source": [
    "y = ['y']\n",
    "X = [i for i in final_data_vars if i not in y]\n",
    "\n",
    "# Fit it to the data\n",
    "logreg_cv.fit(final_data[X], final_data['y'])\n",
    "\n",
    "# Print the tuned parameter and score\n",
    "print(\"Tuned Logistic Regression Parameters: {}\".format(logreg_cv.best_params_))\n",
    "print(\"Best score is {}\".format(logreg_cv.best_score_))\n"
   ]
  },
  {
   "cell_type": "code",
   "execution_count": null,
   "metadata": {},
   "outputs": [],
   "source": [
    "X_train, X_test, y_train, y_test = train_test_split(final_data[X], final_data['y'], test_size=0.1, random_state=0)\n",
    "#fit_intercept = False,\n",
    "LogReg = LogisticRegression( C = 1.6378937069540614e-7,random_state=0)\n",
    "\n",
    "LogReg.fit(X_train.astype(float), y_train.astype(float))\n",
    "score = LogReg.score(X_train.astype(float), y_train.astype(float))\n",
    "print('Accuracy of logistic regression classifier on training set: {:.2f}\\n'.format(score))\n",
    "\n",
    "y_pred = LogReg.predict(X_test)\n",
    "print('Accuracy of logistic regression classifier on testing set: {:.2f}'.format(LogReg.score(X_test, y_test)))"
   ]
  },
  {
   "cell_type": "code",
   "execution_count": null,
   "metadata": {},
   "outputs": [],
   "source": [
    "logit_model = sm.Logit(y_train.astype(float),X_train.astype(float))\n",
    "result = logit_model.fit()\n",
    "print(result.summary2())"
   ]
  },
  {
   "cell_type": "code",
   "execution_count": null,
   "metadata": {},
   "outputs": [],
   "source": [
    "logit_roc_auc = roc_auc_score(y_test, LogReg.predict(X_test))\n",
    "fpr, tpr, thresholds = roc_curve(y_test, LogReg.predict_proba(X_test)[:,1])\n",
    "fig = plt.figure(figsize=(14, 10))\n",
    "plt.plot(fpr, tpr, label='Logistic Regression (area = %0.2f)' % logit_roc_auc)\n",
    "plt.plot([0, 1], [0, 1],'r--')\n",
    "plt.xlim([0.0, 1.0])\n",
    "plt.ylim([0.0, 1.05])\n",
    "plt.xlabel('False Positive Rate')\n",
    "plt.ylabel('True Positive Rate')\n",
    "plt.title('Receiver operating characteristic')\n",
    "plt.legend(loc=\"lower right\")\n",
    "plt.savefig('Log_ROC')"
   ]
  },
  {
   "cell_type": "markdown",
   "metadata": {},
   "source": [
    "## Random Forest "
   ]
  },
  {
   "cell_type": "code",
   "execution_count": null,
   "metadata": {},
   "outputs": [],
   "source": []
  }
 ],
 "metadata": {
  "kernelspec": {
   "display_name": "Python 3",
   "language": "python",
   "name": "python3"
  },
  "language_info": {
   "codemirror_mode": {
    "name": "ipython",
    "version": 3
   },
   "file_extension": ".py",
   "mimetype": "text/x-python",
   "name": "python",
   "nbconvert_exporter": "python",
   "pygments_lexer": "ipython3",
   "version": "3.6.4"
  }
 },
 "nbformat": 4,
 "nbformat_minor": 2
}
