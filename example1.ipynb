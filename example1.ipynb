{
 "cells": [
  {
   "cell_type": "code",
   "execution_count": 3,
   "metadata": {},
   "outputs": [
    {
     "name": "stdout",
     "output_type": "stream",
     "text": [
      "  col1  col2 col3\n",
      "0   15    15   15\n",
      "1   a1    14   b1\n",
      "2   a2    15   b2\n",
      "3   a3    18   b3\n",
      "4   14    14   14\n",
      "5   b4    20   b4\n",
      "6   a5    10   b5\n",
      "7   18    18   18\n"
     ]
    }
   ],
   "source": [
    "import pandas as pd\n",
    "import numpy as np\n",
    "\n",
    "df = pd.DataFrame({'col1': ['', 'a1', 'a2', 'a3', '', 'b4', 'a5', ''], 'col2': [15, 14, 15, 18, 14, 20, 10, 18],  'col3': ['', 'b1', 'b2', 'b3', '', 'b4', 'b5', '']}) \n",
    "df2 = df.replace('', np.NaN) #this is his exact DataFrame\n",
    "\n",
    "colms = df2.columns\n",
    "\n",
    "for col in colms:\n",
    "    df2[col] = df2[col].fillna(df2.col2)\n",
    "    if col == 'col2':\n",
    "        pass\n",
    "\n",
    "print(df2)"
   ]
  },
  {
   "cell_type": "code",
   "execution_count": null,
   "metadata": {},
   "outputs": [],
   "source": []
  }
 ],
 "metadata": {
  "kernelspec": {
   "display_name": "Python 3",
   "language": "python",
   "name": "python3"
  },
  "language_info": {
   "codemirror_mode": {
    "name": "ipython",
    "version": 3
   },
   "file_extension": ".py",
   "mimetype": "text/x-python",
   "name": "python",
   "nbconvert_exporter": "python",
   "pygments_lexer": "ipython3",
   "version": "3.6.4"
  }
 },
 "nbformat": 4,
 "nbformat_minor": 2
}
