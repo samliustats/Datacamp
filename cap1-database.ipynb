{
 "cells": [
  {
   "cell_type": "markdown",
   "metadata": {},
   "source": [
    "# Parking violations in New York City-1\n"
   ]
  },
  {
   "cell_type": "code",
   "execution_count": 1,
   "metadata": {
    "collapsed": true
   },
   "outputs": [],
   "source": [
    "import matplotlib.pyplot as plt\n",
    "import pandas as pd\n",
    "import numpy as np\n",
    "from datetime import datetime, date, time\n",
    "import datetime\n",
    "from IPython.display import Image\n",
    "from sqlalchemy import create_engine\n",
    "import sqlite3\n",
    "import csv\n",
    "import time"
   ]
  },
  {
   "cell_type": "code",
   "execution_count": 2,
   "metadata": {
    "collapsed": true
   },
   "outputs": [],
   "source": [
    "%matplotlib inline"
   ]
  },
  {
   "cell_type": "code",
   "execution_count": 3,
   "metadata": {
    "collapsed": true,
    "scrolled": true
   },
   "outputs": [],
   "source": [
    "file='E:\\\\DS18\\\\datacamp\\\\NYC\\\\ParkingViolations2017.csv'"
   ]
  },
  {
   "cell_type": "code",
   "execution_count": 4,
   "metadata": {},
   "outputs": [
    {
     "name": "stdout",
     "output_type": "stream",
     "text": [
      "   Summons Number Plate ID Registration State Plate Type  Issue Date  \\\n",
      "0      5092469481  GZH7067                 NY        PAS  07/10/2016   \n",
      "1      5092451658  GZH7067                 NY        PAS  07/08/2016   \n",
      "2      4006265037  FZX9232                 NY        PAS  08/23/2016   \n",
      "3      8478629828  66623ME                 NY        COM  06/14/2017   \n",
      "4      7868300310  37033JV                 NY        COM  11/21/2016   \n",
      "\n",
      "   Violation Code Vehicle Body Type Vehicle Make Issuing Agency  Street Code1  \\\n",
      "0               7              SUBN        TOYOT              V             0   \n",
      "1               7              SUBN        TOYOT              V             0   \n",
      "2               5              SUBN         FORD              V             0   \n",
      "3              47              REFG        MITSU              T         10610   \n",
      "4              69              DELV        INTER              T         10510   \n",
      "\n",
      "            ...             Vehicle Color  Unregistered Vehicle?  \\\n",
      "0           ...                        GY                    NaN   \n",
      "1           ...                        GY                    NaN   \n",
      "2           ...                        BK                    NaN   \n",
      "3           ...                        WH                    NaN   \n",
      "4           ...                     WHITE                    NaN   \n",
      "\n",
      "   Vehicle Year  Meter Number  Feet From Curb  Violation Post Code  \\\n",
      "0          2001           NaN               0                  NaN   \n",
      "1          2001           NaN               0                  NaN   \n",
      "2          2004           NaN               0                  NaN   \n",
      "3          2007           NaN               0                   04   \n",
      "4          2007           NaN               0                 31 6   \n",
      "\n",
      "           Violation Description No Standing or Stopping Violation  \\\n",
      "0   FAILURE TO STOP AT RED LIGHT                               NaN   \n",
      "1   FAILURE TO STOP AT RED LIGHT                               NaN   \n",
      "2             BUS LANE VIOLATION                               NaN   \n",
      "3          47-Double PKG-Midtown                               NaN   \n",
      "4  69-Failure to Disp Muni Recpt                               NaN   \n",
      "\n",
      "  Hydrant Violation Double Parking Violation  \n",
      "0               NaN                      NaN  \n",
      "1               NaN                      NaN  \n",
      "2               NaN                      NaN  \n",
      "3               NaN                      NaN  \n",
      "4               NaN                      NaN  \n",
      "\n",
      "[5 rows x 43 columns]\n"
     ]
    }
   ],
   "source": [
    "print(pd.read_csv(file, nrows=5))\n",
    "Parking2017 = create_engine('sqlite:///Parking2017.db')"
   ]
  },
  {
   "cell_type": "code",
   "execution_count": null,
   "metadata": {
    "collapsed": true
   },
   "outputs": [],
   "source": [
    "start = time.time()\n",
    "chunksize = 1000000\n",
    "i = 0\n",
    "j = 1\n",
    "for df in pd.read_csv(file, chunksize=chunksize, iterator=True,low_memory=False):\n",
    "    #dtype={\"Summons Number\": int, \"Registration State\": object,\"Vehicle Make\":object,\"Issuer Squad\":object}\n",
    "    df = df.rename(columns={c: c.replace(' ', '') for c in df.columns}) \n",
    "    df.index += j\n",
    "    i+=1\n",
    "    df.to_sql('table', Parking2017, if_exists='append')\n",
    "    j = df.index[-1] + 1\n",
    "    \n",
    "end = time.time()\n",
    "elapsed = end - start\n",
    "print(elapsed)"
   ]
  }
 ],
 "metadata": {
  "kernelspec": {
   "display_name": "Python 3",
   "language": "python",
   "name": "python3"
  },
  "language_info": {
   "codemirror_mode": {
    "name": "ipython",
    "version": 3
   },
   "file_extension": ".py",
   "mimetype": "text/x-python",
   "name": "python",
   "nbconvert_exporter": "python",
   "pygments_lexer": "ipython3",
   "version": "3.6.3"
  }
 },
 "nbformat": 4,
 "nbformat_minor": 2
}
